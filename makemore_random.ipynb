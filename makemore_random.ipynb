{
 "cells": [
  {
   "cell_type": "code",
   "execution_count": null,
   "id": "e52fedaf",
   "metadata": {},
   "outputs": [
    {
     "name": "stdout",
     "output_type": "stream",
     "text": [
      "Compiling /Users/simon/Code/makemore/heatmap2.sc\n"
     ]
    },
    {
     "data": {
      "text/plain": [
       "\u001b[32mimport \u001b[39m\u001b[36m$ivy.$                                     \n",
       "\u001b[39m\n",
       "\u001b[32mimport \u001b[39m\u001b[36m$ivy.$                                  \n",
       "\u001b[39m\n",
       "\u001b[32mimport \u001b[39m\u001b[36m$ivy.$                                       \n",
       "\u001b[39m\n",
       "\u001b[32mimport \u001b[39m\u001b[36m$ivy.$                                       \n",
       "\u001b[39m\n",
       "\u001b[32mimport \u001b[39m\u001b[36m$ivy.$                             \n",
       "\u001b[39m\n",
       "\u001b[32mimport \u001b[39m\u001b[36m$ivy.$                                       \n",
       "// common utils for:\n",
       "// generator\n",
       "// checkWords\n",
       "\u001b[39m\n",
       "\u001b[32mimport \u001b[39m\u001b[36m$exec.$       \n",
       "// heatmap plotting\n",
       "\u001b[39m\n",
       "\u001b[32mimport \u001b[39m\u001b[36m$exec.$         \n",
       "\u001b[39m\n",
       "\u001b[32mimport \u001b[39m\u001b[36mio.github.quafadas.table.*\n",
       "\u001b[39m\n",
       "\u001b[32mimport \u001b[39m\u001b[36mviz.PlotTargets.almond\n",
       "\u001b[39m\n",
       "\u001b[32mimport \u001b[39m\u001b[36morg.apache.commons.math3.distribution.EnumeratedIntegerDistribution\n",
       "\u001b[39m"
      ]
     },
     "execution_count": 1,
     "metadata": {},
     "output_type": "execute_result"
    }
   ],
   "source": [
    "import $ivy.`io.github.quafadas::scautable:0.0.33`\n",
    "import $ivy.`org.apache.commons:commons-math3:3.6.1`\n",
    "import $ivy.`io.github.quafadas::dedav4s:0.10.0-RC2`\n",
    "// common utils for:\n",
    "// generator\n",
    "// checkWords\n",
    "import $exec.`utils2`\n",
    "// heatmap plotting\n",
    "import $exec.`heatmap2`\n",
    "import io.github.quafadas.table.*\n",
    "import viz.PlotTargets.almond\n",
    "import org.apache.commons.math3.distribution.EnumeratedIntegerDistribution"
   ]
  },
  {
   "cell_type": "markdown",
   "id": "5e4eb19a",
   "metadata": {},
   "source": [
    "A pure scala port of makemore. This notebook investigate a bigram model with a purely random prior distribution. i.e. draws characters randomly. \n",
    "\n",
    "In other words, a terrible way of generating names. Equivalent to throwing chocolcate a people and telling them to shout a letter. \n",
    "\n",
    "Useful to set out the super structure..."
   ]
  },
  {
   "cell_type": "code",
   "execution_count": 2,
   "id": "b36ce082",
   "metadata": {},
   "outputs": [
    {
     "data": {
      "text/plain": [
       "\u001b[36mchars\u001b[39m: \u001b[32mVector\u001b[39m[\u001b[32mChar\u001b[39m] = \u001b[33mVector\u001b[39m(\n",
       "  \u001b[32m'.'\u001b[39m,\n",
       "  \u001b[32m'a'\u001b[39m,\n",
       "  \u001b[32m'b'\u001b[39m,\n",
       "  \u001b[32m'c'\u001b[39m,\n",
       "  \u001b[32m'd'\u001b[39m,\n",
       "  \u001b[32m'e'\u001b[39m,\n",
       "  \u001b[32m'f'\u001b[39m,\n",
       "  \u001b[32m'g'\u001b[39m,\n",
       "  \u001b[32m'h'\u001b[39m,\n",
       "  \u001b[32m'i'\u001b[39m,\n",
       "  \u001b[32m'j'\u001b[39m,\n",
       "  \u001b[32m'k'\u001b[39m,\n",
       "  \u001b[32m'l'\u001b[39m,\n",
       "  \u001b[32m'm'\u001b[39m,\n",
       "  \u001b[32m'n'\u001b[39m,\n",
       "  \u001b[32m'o'\u001b[39m,\n",
       "  \u001b[32m'p'\u001b[39m,\n",
       "  \u001b[32m'q'\u001b[39m,\n",
       "  \u001b[32m'r'\u001b[39m,\n",
       "  \u001b[32m's'\u001b[39m,\n",
       "  \u001b[32m't'\u001b[39m,\n",
       "  \u001b[32m'u'\u001b[39m,\n",
       "  \u001b[32m'v'\u001b[39m,\n",
       "  \u001b[32m'w'\u001b[39m,\n",
       "  \u001b[32m'x'\u001b[39m,\n",
       "  \u001b[32m'y'\u001b[39m,\n",
       "  \u001b[32m'z'\u001b[39m\n",
       ")\n",
       "\u001b[36mcharsIndex\u001b[39m: \u001b[32mVector\u001b[39m[\u001b[32mInt\u001b[39m] = \u001b[33mVector\u001b[39m(\n",
       "  \u001b[32m0\u001b[39m,\n",
       "  \u001b[32m1\u001b[39m,\n",
       "  \u001b[32m2\u001b[39m,\n",
       "  \u001b[32m3\u001b[39m,\n",
       "  \u001b[32m4\u001b[39m,\n",
       "  \u001b[32m5\u001b[39m,\n",
       "  \u001b[32m6\u001b[39m,\n",
       "  \u001b[32m7\u001b[39m,\n",
       "  \u001b[32m8\u001b[39m,\n",
       "  \u001b[32m9\u001b[39m,\n",
       "  \u001b[32m10\u001b[39m,\n",
       "  \u001b[32m11\u001b[39m,\n",
       "  \u001b[32m12\u001b[39m,\n",
       "  \u001b[32m13\u001b[39m,\n",
       "  \u001b[32m14\u001b[39m,\n",
       "  \u001b[32m15\u001b[39m,\n",
       "  \u001b[32m16\u001b[39m,\n",
       "  \u001b[32m17\u001b[39m,\n",
       "  \u001b[32m18\u001b[39m,\n",
       "  \u001b[32m19\u001b[39m,\n",
       "  \u001b[32m20\u001b[39m,\n",
       "  \u001b[32m21\u001b[39m,\n",
       "  \u001b[32m22\u001b[39m,\n",
       "  \u001b[32m23\u001b[39m,\n",
       "  \u001b[32m24\u001b[39m,\n",
       "  \u001b[32m25\u001b[39m,\n",
       "  \u001b[32m26\u001b[39m\n",
       ")\n",
       "\u001b[36mcharsMap\u001b[39m: \u001b[32mMap\u001b[39m[\u001b[32mChar\u001b[39m, \u001b[32mInt\u001b[39m] = \u001b[33mHashMap\u001b[39m(\n",
       "  \u001b[32m'e'\u001b[39m -> \u001b[32m5\u001b[39m,\n",
       "  \u001b[32m'n'\u001b[39m -> \u001b[32m14\u001b[39m,\n",
       "  \u001b[32m'.'\u001b[39m -> \u001b[32m0\u001b[39m,\n",
       "  \u001b[32m't'\u001b[39m -> \u001b[32m20\u001b[39m,\n",
       "  \u001b[32m'a'\u001b[39m -> \u001b[32m1\u001b[39m,\n",
       "  \u001b[32m'm'\u001b[39m -> \u001b[32m13\u001b[39m,\n",
       "  \u001b[32m'i'\u001b[39m -> \u001b[32m9\u001b[39m,\n",
       "  \u001b[32m'v'\u001b[39m -> \u001b[32m22\u001b[39m,\n",
       "  \u001b[32m'p'\u001b[39m -> \u001b[32m16\u001b[39m,\n",
       "  \u001b[32m'r'\u001b[39m -> \u001b[32m18\u001b[39m,\n",
       "  \u001b[32m'w'\u001b[39m -> \u001b[32m23\u001b[39m,\n",
       "  \u001b[32m'k'\u001b[39m -> \u001b[32m11\u001b[39m,\n",
       "  \u001b[32m's'\u001b[39m -> \u001b[32m19\u001b[39m,\n",
       "  \u001b[32m'x'\u001b[39m -> \u001b[32m24\u001b[39m,\n",
       "  \u001b[32m'j'\u001b[39m -> \u001b[32m10\u001b[39m,\n",
       "  \u001b[32m'y'\u001b[39m -> \u001b[32m25\u001b[39m,\n",
       "  \u001b[32m'u'\u001b[39m -> \u001b[32m21\u001b[39m,\n",
       "  \u001b[32m'f'\u001b[39m -> \u001b[32m6\u001b[39m,\n",
       "  \u001b[32m'q'\u001b[39m -> \u001b[32m17\u001b[39m,\n",
       "  \u001b[32m'b'\u001b[39m -> \u001b[32m2\u001b[39m,\n",
       "  \u001b[32m'g'\u001b[39m -> \u001b[32m7\u001b[39m,\n",
       "  \u001b[32m'l'\u001b[39m -> \u001b[32m12\u001b[39m,\n",
       "  \u001b[32m'c'\u001b[39m -> \u001b[32m3\u001b[39m,\n",
       "  \u001b[32m'h'\u001b[39m -> \u001b[32m8\u001b[39m,\n",
       "  \u001b[32m'o'\u001b[39m -> \u001b[32m15\u001b[39m,\n",
       "  \u001b[32m'z'\u001b[39m -> \u001b[32m26\u001b[39m,\n",
       "  \u001b[32m'd'\u001b[39m -> \u001b[32m4\u001b[39m\n",
       ")\n",
       "\u001b[36mi2c\u001b[39m: \u001b[32mMap\u001b[39m[\u001b[32mInt\u001b[39m, \u001b[32mChar\u001b[39m] = \u001b[33mHashMap\u001b[39m(\n",
       "  \u001b[32m0\u001b[39m -> \u001b[32m'.'\u001b[39m,\n",
       "  \u001b[32m5\u001b[39m -> \u001b[32m'e'\u001b[39m,\n",
       "  \u001b[32m10\u001b[39m -> \u001b[32m'j'\u001b[39m,\n",
       "  \u001b[32m14\u001b[39m -> \u001b[32m'n'\u001b[39m,\n",
       "  \u001b[32m20\u001b[39m -> \u001b[32m't'\u001b[39m,\n",
       "  \u001b[32m1\u001b[39m -> \u001b[32m'a'\u001b[39m,\n",
       "  \u001b[32m6\u001b[39m -> \u001b[32m'f'\u001b[39m,\n",
       "  \u001b[32m21\u001b[39m -> \u001b[32m'u'\u001b[39m,\n",
       "  \u001b[32m9\u001b[39m -> \u001b[32m'i'\u001b[39m,\n",
       "  \u001b[32m13\u001b[39m -> \u001b[32m'm'\u001b[39m,\n",
       "  \u001b[32m2\u001b[39m -> \u001b[32m'b'\u001b[39m,\n",
       "  \u001b[32m17\u001b[39m -> \u001b[32m'q'\u001b[39m,\n",
       "  \u001b[32m22\u001b[39m -> \u001b[32m'v'\u001b[39m,\n",
       "  \u001b[32m12\u001b[39m -> \u001b[32m'l'\u001b[39m,\n",
       "  \u001b[32m7\u001b[39m -> \u001b[32m'g'\u001b[39m,\n",
       "  \u001b[32m3\u001b[39m -> \u001b[32m'c'\u001b[39m,\n",
       "  \u001b[32m18\u001b[39m -> \u001b[32m'r'\u001b[39m,\n",
       "  \u001b[32m16\u001b[39m -> \u001b[32m'p'\u001b[39m,\n",
       "  \u001b[32m11\u001b[39m -> \u001b[32m'k'\u001b[39m,\n",
       "  \u001b[32m8\u001b[39m -> \u001b[32m'h'\u001b[39m,\n",
       "  \u001b[32m19\u001b[39m -> \u001b[32m's'\u001b[39m,\n",
       "  \u001b[32m4\u001b[39m -> \u001b[32m'd'\u001b[39m,\n",
       "  \u001b[32m15\u001b[39m -> \u001b[32m'o'\u001b[39m,\n",
       "  \u001b[32m24\u001b[39m -> \u001b[32m'x'\u001b[39m,\n",
       "  \u001b[32m25\u001b[39m -> \u001b[32m'y'\u001b[39m,\n",
       "  \u001b[32m26\u001b[39m -> \u001b[32m'z'\u001b[39m,\n",
       "  \u001b[32m23\u001b[39m -> \u001b[32m'w'\u001b[39m\n",
       ")"
      ]
     },
     "execution_count": 2,
     "metadata": {},
     "output_type": "execute_result"
    }
   ],
   "source": [
    "val chars = '.' +: ('a' to 'z').toVector\n",
    "val charsIndex = (0 to 26).toVector\n",
    "val charsMap = chars.zip(charsIndex).toMap\n",
    "val i2c = charsIndex.zip(chars).toMap"
   ]
  },
  {
   "cell_type": "code",
   "execution_count": 3,
   "id": "fa076296",
   "metadata": {},
   "outputs": [
    {
     "data": {
      "application/vnd.vega.v5+json": {
       "$schema": "https://vega.github.io/schema/vega-lite/v5.json",
       "data": {
        "values": [
         {
          "first": "e",
          "second": "e",
          "value": 12
         },
         {
          "first": "e",
          "second": "n",
          "value": 12
         },
         {
          "first": "e",
          "second": ".",
          "value": 12
         },
         {
          "first": "e",
          "second": "t",
          "value": 12
         },
         {
          "first": "e",
          "second": "a",
          "value": 12
         },
         {
          "first": "e",
          "second": "m",
          "value": 12
         },
         {
          "first": "e",
          "second": "i",
          "value": 12
         },
         {
          "first": "e",
          "second": "v",
          "value": 12
         },
         {
          "first": "e",
          "second": "p",
          "value": 12
         },
         {
          "first": "e",
          "second": "r",
          "value": 12
         },
         {
          "first": "e",
          "second": "w",
          "value": 12
         },
         {
          "first": "e",
          "second": "k",
          "value": 12
         },
         {
          "first": "e",
          "second": "s",
          "value": 12
         },
         {
          "first": "e",
          "second": "x",
          "value": 12
         },
         {
          "first": "e",
          "second": "j",
          "value": 12
         },
         {
          "first": "e",
          "second": "y",
          "value": 12
         },
         {
          "first": "e",
          "second": "u",
          "value": 12
         },
         {
          "first": "e",
          "second": "f",
          "value": 12
         },
         {
          "first": "e",
          "second": "q",
          "value": 12
         },
         {
          "first": "e",
          "second": "b",
          "value": 12
         },
         {
          "first": "e",
          "second": "g",
          "value": 12
         },
         {
          "first": "e",
          "second": "l",
          "value": 12
         },
         {
          "first": "e",
          "second": "c",
          "value": 12
         },
         {
          "first": "e",
          "second": "h",
          "value": 12
         },
         {
          "first": "e",
          "second": "o",
          "value": 12
         },
         {
          "first": "e",
          "second": "z",
          "value": 12
         },
         {
          "first": "e",
          "second": "d",
          "value": 12
         },
         {
          "first": "n",
          "second": "e",
          "value": 12
         },
         {
          "first": "n",
          "second": "n",
          "value": 12
         },
         {
          "first": "n",
          "second": ".",
          "value": 12
         },
         {
          "first": "n",
          "second": "t",
          "value": 12
         },
         {
          "first": "n",
          "second": "a",
          "value": 12
         },
         {
          "first": "n",
          "second": "m",
          "value": 12
         },
         {
          "first": "n",
          "second": "i",
          "value": 12
         },
         {
          "first": "n",
          "second": "v",
          "value": 12
         },
         {
          "first": "n",
          "second": "p",
          "value": 12
         },
         {
          "first": "n",
          "second": "r",
          "value": 12
         },
         {
          "first": "n",
          "second": "w",
          "value": 12
         },
         {
          "first": "n",
          "second": "k",
          "value": 12
         },
         {
          "first": "n",
          "second": "s",
          "value": 12
         },
         {
          "first": "n",
          "second": "x",
          "value": 12
         },
         {
          "first": "n",
          "second": "j",
          "value": 12
         },
         {
          "first": "n",
          "second": "y",
          "value": 12
         },
         {
          "first": "n",
          "second": "u",
          "value": 12
         },
         {
          "first": "n",
          "second": "f",
          "value": 12
         },
         {
          "first": "n",
          "second": "q",
          "value": 12
         },
         {
          "first": "n",
          "second": "b",
          "value": 12
         },
         {
          "first": "n",
          "second": "g",
          "value": 12
         },
         {
          "first": "n",
          "second": "l",
          "value": 12
         },
         {
          "first": "n",
          "second": "c",
          "value": 12
         },
         {
          "first": "n",
          "second": "h",
          "value": 12
         },
         {
          "first": "n",
          "second": "o",
          "value": 12
         },
         {
          "first": "n",
          "second": "z",
          "value": 12
         },
         {
          "first": "n",
          "second": "d",
          "value": 12
         },
         {
          "first": ".",
          "second": "e",
          "value": 12
         },
         {
          "first": ".",
          "second": "n",
          "value": 12
         },
         {
          "first": ".",
          "second": ".",
          "value": 12
         },
         {
          "first": ".",
          "second": "t",
          "value": 12
         },
         {
          "first": ".",
          "second": "a",
          "value": 12
         },
         {
          "first": ".",
          "second": "m",
          "value": 12
         },
         {
          "first": ".",
          "second": "i",
          "value": 12
         },
         {
          "first": ".",
          "second": "v",
          "value": 12
         },
         {
          "first": ".",
          "second": "p",
          "value": 12
         },
         {
          "first": ".",
          "second": "r",
          "value": 12
         },
         {
          "first": ".",
          "second": "w",
          "value": 12
         },
         {
          "first": ".",
          "second": "k",
          "value": 12
         },
         {
          "first": ".",
          "second": "s",
          "value": 12
         },
         {
          "first": ".",
          "second": "x",
          "value": 12
         },
         {
          "first": ".",
          "second": "j",
          "value": 12
         },
         {
          "first": ".",
          "second": "y",
          "value": 12
         },
         {
          "first": ".",
          "second": "u",
          "value": 12
         },
         {
          "first": ".",
          "second": "f",
          "value": 12
         },
         {
          "first": ".",
          "second": "q",
          "value": 12
         },
         {
          "first": ".",
          "second": "b",
          "value": 12
         },
         {
          "first": ".",
          "second": "g",
          "value": 12
         },
         {
          "first": ".",
          "second": "l",
          "value": 12
         },
         {
          "first": ".",
          "second": "c",
          "value": 12
         },
         {
          "first": ".",
          "second": "h",
          "value": 12
         },
         {
          "first": ".",
          "second": "o",
          "value": 12
         },
         {
          "first": ".",
          "second": "z",
          "value": 12
         },
         {
          "first": ".",
          "second": "d",
          "value": 12
         },
         {
          "first": "t",
          "second": "e",
          "value": 12
         },
         {
          "first": "t",
          "second": "n",
          "value": 12
         },
         {
          "first": "t",
          "second": ".",
          "value": 12
         },
         {
          "first": "t",
          "second": "t",
          "value": 12
         },
         {
          "first": "t",
          "second": "a",
          "value": 12
         },
         {
          "first": "t",
          "second": "m",
          "value": 12
         },
         {
          "first": "t",
          "second": "i",
          "value": 12
         },
         {
          "first": "t",
          "second": "v",
          "value": 12
         },
         {
          "first": "t",
          "second": "p",
          "value": 12
         },
         {
          "first": "t",
          "second": "r",
          "value": 12
         },
         {
          "first": "t",
          "second": "w",
          "value": 12
         },
         {
          "first": "t",
          "second": "k",
          "value": 12
         },
         {
          "first": "t",
          "second": "s",
          "value": 12
         },
         {
          "first": "t",
          "second": "x",
          "value": 12
         },
         {
          "first": "t",
          "second": "j",
          "value": 12
         },
         {
          "first": "t",
          "second": "y",
          "value": 12
         },
         {
          "first": "t",
          "second": "u",
          "value": 12
         },
         {
          "first": "t",
          "second": "f",
          "value": 12
         },
         {
          "first": "t",
          "second": "q",
          "value": 12
         },
         {
          "first": "t",
          "second": "b",
          "value": 12
         },
         {
          "first": "t",
          "second": "g",
          "value": 12
         },
         {
          "first": "t",
          "second": "l",
          "value": 12
         },
         {
          "first": "t",
          "second": "c",
          "value": 12
         },
         {
          "first": "t",
          "second": "h",
          "value": 12
         },
         {
          "first": "t",
          "second": "o",
          "value": 12
         },
         {
          "first": "t",
          "second": "z",
          "value": 12
         },
         {
          "first": "t",
          "second": "d",
          "value": 12
         },
         {
          "first": "a",
          "second": "e",
          "value": 12
         },
         {
          "first": "a",
          "second": "n",
          "value": 12
         },
         {
          "first": "a",
          "second": ".",
          "value": 12
         },
         {
          "first": "a",
          "second": "t",
          "value": 12
         },
         {
          "first": "a",
          "second": "a",
          "value": 12
         },
         {
          "first": "a",
          "second": "m",
          "value": 12
         },
         {
          "first": "a",
          "second": "i",
          "value": 12
         },
         {
          "first": "a",
          "second": "v",
          "value": 12
         },
         {
          "first": "a",
          "second": "p",
          "value": 12
         },
         {
          "first": "a",
          "second": "r",
          "value": 12
         },
         {
          "first": "a",
          "second": "w",
          "value": 12
         },
         {
          "first": "a",
          "second": "k",
          "value": 12
         },
         {
          "first": "a",
          "second": "s",
          "value": 12
         },
         {
          "first": "a",
          "second": "x",
          "value": 12
         },
         {
          "first": "a",
          "second": "j",
          "value": 12
         },
         {
          "first": "a",
          "second": "y",
          "value": 12
         },
         {
          "first": "a",
          "second": "u",
          "value": 12
         },
         {
          "first": "a",
          "second": "f",
          "value": 12
         },
         {
          "first": "a",
          "second": "q",
          "value": 12
         },
         {
          "first": "a",
          "second": "b",
          "value": 12
         },
         {
          "first": "a",
          "second": "g",
          "value": 12
         },
         {
          "first": "a",
          "second": "l",
          "value": 12
         },
         {
          "first": "a",
          "second": "c",
          "value": 12
         },
         {
          "first": "a",
          "second": "h",
          "value": 12
         },
         {
          "first": "a",
          "second": "o",
          "value": 12
         },
         {
          "first": "a",
          "second": "z",
          "value": 12
         },
         {
          "first": "a",
          "second": "d",
          "value": 12
         },
         {
          "first": "m",
          "second": "e",
          "value": 12
         },
         {
          "first": "m",
          "second": "n",
          "value": 12
         },
         {
          "first": "m",
          "second": ".",
          "value": 12
         },
         {
          "first": "m",
          "second": "t",
          "value": 12
         },
         {
          "first": "m",
          "second": "a",
          "value": 12
         },
         {
          "first": "m",
          "second": "m",
          "value": 12
         },
         {
          "first": "m",
          "second": "i",
          "value": 12
         },
         {
          "first": "m",
          "second": "v",
          "value": 12
         },
         {
          "first": "m",
          "second": "p",
          "value": 12
         },
         {
          "first": "m",
          "second": "r",
          "value": 12
         },
         {
          "first": "m",
          "second": "w",
          "value": 12
         },
         {
          "first": "m",
          "second": "k",
          "value": 12
         },
         {
          "first": "m",
          "second": "s",
          "value": 12
         },
         {
          "first": "m",
          "second": "x",
          "value": 12
         },
         {
          "first": "m",
          "second": "j",
          "value": 12
         },
         {
          "first": "m",
          "second": "y",
          "value": 12
         },
         {
          "first": "m",
          "second": "u",
          "value": 12
         },
         {
          "first": "m",
          "second": "f",
          "value": 12
         },
         {
          "first": "m",
          "second": "q",
          "value": 12
         },
         {
          "first": "m",
          "second": "b",
          "value": 12
         },
         {
          "first": "m",
          "second": "g",
          "value": 12
         },
         {
          "first": "m",
          "second": "l",
          "value": 12
         },
         {
          "first": "m",
          "second": "c",
          "value": 12
         },
         {
          "first": "m",
          "second": "h",
          "value": 12
         },
         {
          "first": "m",
          "second": "o",
          "value": 12
         },
         {
          "first": "m",
          "second": "z",
          "value": 12
         },
         {
          "first": "m",
          "second": "d",
          "value": 12
         },
         {
          "first": "i",
          "second": "e",
          "value": 12
         },
         {
          "first": "i",
          "second": "n",
          "value": 12
         },
         {
          "first": "i",
          "second": ".",
          "value": 12
         },
         {
          "first": "i",
          "second": "t",
          "value": 12
         },
         {
          "first": "i",
          "second": "a",
          "value": 12
         },
         {
          "first": "i",
          "second": "m",
          "value": 12
         },
         {
          "first": "i",
          "second": "i",
          "value": 12
         },
         {
          "first": "i",
          "second": "v",
          "value": 12
         },
         {
          "first": "i",
          "second": "p",
          "value": 12
         },
         {
          "first": "i",
          "second": "r",
          "value": 12
         },
         {
          "first": "i",
          "second": "w",
          "value": 12
         },
         {
          "first": "i",
          "second": "k",
          "value": 12
         },
         {
          "first": "i",
          "second": "s",
          "value": 12
         },
         {
          "first": "i",
          "second": "x",
          "value": 12
         },
         {
          "first": "i",
          "second": "j",
          "value": 12
         },
         {
          "first": "i",
          "second": "y",
          "value": 12
         },
         {
          "first": "i",
          "second": "u",
          "value": 12
         },
         {
          "first": "i",
          "second": "f",
          "value": 12
         },
         {
          "first": "i",
          "second": "q",
          "value": 12
         },
         {
          "first": "i",
          "second": "b",
          "value": 12
         },
         {
          "first": "i",
          "second": "g",
          "value": 12
         },
         {
          "first": "i",
          "second": "l",
          "value": 12
         },
         {
          "first": "i",
          "second": "c",
          "value": 12
         },
         {
          "first": "i",
          "second": "h",
          "value": 12
         },
         {
          "first": "i",
          "second": "o",
          "value": 12
         },
         {
          "first": "i",
          "second": "z",
          "value": 12
         },
         {
          "first": "i",
          "second": "d",
          "value": 12
         },
         {
          "first": "v",
          "second": "e",
          "value": 12
         },
         {
          "first": "v",
          "second": "n",
          "value": 12
         },
         {
          "first": "v",
          "second": ".",
          "value": 12
         },
         {
          "first": "v",
          "second": "t",
          "value": 12
         },
         {
          "first": "v",
          "second": "a",
          "value": 12
         },
         {
          "first": "v",
          "second": "m",
          "value": 12
         },
         {
          "first": "v",
          "second": "i",
          "value": 12
         },
         {
          "first": "v",
          "second": "v",
          "value": 12
         },
         {
          "first": "v",
          "second": "p",
          "value": 12
         },
         {
          "first": "v",
          "second": "r",
          "value": 12
         },
         {
          "first": "v",
          "second": "w",
          "value": 12
         },
         {
          "first": "v",
          "second": "k",
          "value": 12
         },
         {
          "first": "v",
          "second": "s",
          "value": 12
         },
         {
          "first": "v",
          "second": "x",
          "value": 12
         },
         {
          "first": "v",
          "second": "j",
          "value": 12
         },
         {
          "first": "v",
          "second": "y",
          "value": 12
         },
         {
          "first": "v",
          "second": "u",
          "value": 12
         },
         {
          "first": "v",
          "second": "f",
          "value": 12
         },
         {
          "first": "v",
          "second": "q",
          "value": 12
         },
         {
          "first": "v",
          "second": "b",
          "value": 12
         },
         {
          "first": "v",
          "second": "g",
          "value": 12
         },
         {
          "first": "v",
          "second": "l",
          "value": 12
         },
         {
          "first": "v",
          "second": "c",
          "value": 12
         },
         {
          "first": "v",
          "second": "h",
          "value": 12
         },
         {
          "first": "v",
          "second": "o",
          "value": 12
         },
         {
          "first": "v",
          "second": "z",
          "value": 12
         },
         {
          "first": "v",
          "second": "d",
          "value": 12
         },
         {
          "first": "p",
          "second": "e",
          "value": 12
         },
         {
          "first": "p",
          "second": "n",
          "value": 12
         },
         {
          "first": "p",
          "second": ".",
          "value": 12
         },
         {
          "first": "p",
          "second": "t",
          "value": 12
         },
         {
          "first": "p",
          "second": "a",
          "value": 12
         },
         {
          "first": "p",
          "second": "m",
          "value": 12
         },
         {
          "first": "p",
          "second": "i",
          "value": 12
         },
         {
          "first": "p",
          "second": "v",
          "value": 12
         },
         {
          "first": "p",
          "second": "p",
          "value": 12
         },
         {
          "first": "p",
          "second": "r",
          "value": 12
         },
         {
          "first": "p",
          "second": "w",
          "value": 12
         },
         {
          "first": "p",
          "second": "k",
          "value": 12
         },
         {
          "first": "p",
          "second": "s",
          "value": 12
         },
         {
          "first": "p",
          "second": "x",
          "value": 12
         },
         {
          "first": "p",
          "second": "j",
          "value": 12
         },
         {
          "first": "p",
          "second": "y",
          "value": 12
         },
         {
          "first": "p",
          "second": "u",
          "value": 12
         },
         {
          "first": "p",
          "second": "f",
          "value": 12
         },
         {
          "first": "p",
          "second": "q",
          "value": 12
         },
         {
          "first": "p",
          "second": "b",
          "value": 12
         },
         {
          "first": "p",
          "second": "g",
          "value": 12
         },
         {
          "first": "p",
          "second": "l",
          "value": 12
         },
         {
          "first": "p",
          "second": "c",
          "value": 12
         },
         {
          "first": "p",
          "second": "h",
          "value": 12
         },
         {
          "first": "p",
          "second": "o",
          "value": 12
         },
         {
          "first": "p",
          "second": "z",
          "value": 12
         },
         {
          "first": "p",
          "second": "d",
          "value": 12
         },
         {
          "first": "r",
          "second": "e",
          "value": 12
         },
         {
          "first": "r",
          "second": "n",
          "value": 12
         },
         {
          "first": "r",
          "second": ".",
          "value": 12
         },
         {
          "first": "r",
          "second": "t",
          "value": 12
         },
         {
          "first": "r",
          "second": "a",
          "value": 12
         },
         {
          "first": "r",
          "second": "m",
          "value": 12
         },
         {
          "first": "r",
          "second": "i",
          "value": 12
         },
         {
          "first": "r",
          "second": "v",
          "value": 12
         },
         {
          "first": "r",
          "second": "p",
          "value": 12
         },
         {
          "first": "r",
          "second": "r",
          "value": 12
         },
         {
          "first": "r",
          "second": "w",
          "value": 12
         },
         {
          "first": "r",
          "second": "k",
          "value": 12
         },
         {
          "first": "r",
          "second": "s",
          "value": 12
         },
         {
          "first": "r",
          "second": "x",
          "value": 12
         },
         {
          "first": "r",
          "second": "j",
          "value": 12
         },
         {
          "first": "r",
          "second": "y",
          "value": 12
         },
         {
          "first": "r",
          "second": "u",
          "value": 12
         },
         {
          "first": "r",
          "second": "f",
          "value": 12
         },
         {
          "first": "r",
          "second": "q",
          "value": 12
         },
         {
          "first": "r",
          "second": "b",
          "value": 12
         },
         {
          "first": "r",
          "second": "g",
          "value": 12
         },
         {
          "first": "r",
          "second": "l",
          "value": 12
         },
         {
          "first": "r",
          "second": "c",
          "value": 12
         },
         {
          "first": "r",
          "second": "h",
          "value": 12
         },
         {
          "first": "r",
          "second": "o",
          "value": 12
         },
         {
          "first": "r",
          "second": "z",
          "value": 12
         },
         {
          "first": "r",
          "second": "d",
          "value": 12
         },
         {
          "first": "w",
          "second": "e",
          "value": 12
         },
         {
          "first": "w",
          "second": "n",
          "value": 12
         },
         {
          "first": "w",
          "second": ".",
          "value": 12
         },
         {
          "first": "w",
          "second": "t",
          "value": 12
         },
         {
          "first": "w",
          "second": "a",
          "value": 12
         },
         {
          "first": "w",
          "second": "m",
          "value": 12
         },
         {
          "first": "w",
          "second": "i",
          "value": 12
         },
         {
          "first": "w",
          "second": "v",
          "value": 12
         },
         {
          "first": "w",
          "second": "p",
          "value": 12
         },
         {
          "first": "w",
          "second": "r",
          "value": 12
         },
         {
          "first": "w",
          "second": "w",
          "value": 12
         },
         {
          "first": "w",
          "second": "k",
          "value": 12
         },
         {
          "first": "w",
          "second": "s",
          "value": 12
         },
         {
          "first": "w",
          "second": "x",
          "value": 12
         },
         {
          "first": "w",
          "second": "j",
          "value": 12
         },
         {
          "first": "w",
          "second": "y",
          "value": 12
         },
         {
          "first": "w",
          "second": "u",
          "value": 12
         },
         {
          "first": "w",
          "second": "f",
          "value": 12
         },
         {
          "first": "w",
          "second": "q",
          "value": 12
         },
         {
          "first": "w",
          "second": "b",
          "value": 12
         },
         {
          "first": "w",
          "second": "g",
          "value": 12
         },
         {
          "first": "w",
          "second": "l",
          "value": 12
         },
         {
          "first": "w",
          "second": "c",
          "value": 12
         },
         {
          "first": "w",
          "second": "h",
          "value": 12
         },
         {
          "first": "w",
          "second": "o",
          "value": 12
         },
         {
          "first": "w",
          "second": "z",
          "value": 12
         },
         {
          "first": "w",
          "second": "d",
          "value": 12
         },
         {
          "first": "k",
          "second": "e",
          "value": 12
         },
         {
          "first": "k",
          "second": "n",
          "value": 12
         },
         {
          "first": "k",
          "second": ".",
          "value": 12
         },
         {
          "first": "k",
          "second": "t",
          "value": 12
         },
         {
          "first": "k",
          "second": "a",
          "value": 12
         },
         {
          "first": "k",
          "second": "m",
          "value": 12
         },
         {
          "first": "k",
          "second": "i",
          "value": 12
         },
         {
          "first": "k",
          "second": "v",
          "value": 12
         },
         {
          "first": "k",
          "second": "p",
          "value": 12
         },
         {
          "first": "k",
          "second": "r",
          "value": 12
         },
         {
          "first": "k",
          "second": "w",
          "value": 12
         },
         {
          "first": "k",
          "second": "k",
          "value": 12
         },
         {
          "first": "k",
          "second": "s",
          "value": 12
         },
         {
          "first": "k",
          "second": "x",
          "value": 12
         },
         {
          "first": "k",
          "second": "j",
          "value": 12
         },
         {
          "first": "k",
          "second": "y",
          "value": 12
         },
         {
          "first": "k",
          "second": "u",
          "value": 12
         },
         {
          "first": "k",
          "second": "f",
          "value": 12
         },
         {
          "first": "k",
          "second": "q",
          "value": 12
         },
         {
          "first": "k",
          "second": "b",
          "value": 12
         },
         {
          "first": "k",
          "second": "g",
          "value": 12
         },
         {
          "first": "k",
          "second": "l",
          "value": 12
         },
         {
          "first": "k",
          "second": "c",
          "value": 12
         },
         {
          "first": "k",
          "second": "h",
          "value": 12
         },
         {
          "first": "k",
          "second": "o",
          "value": 12
         },
         {
          "first": "k",
          "second": "z",
          "value": 12
         },
         {
          "first": "k",
          "second": "d",
          "value": 12
         },
         {
          "first": "s",
          "second": "e",
          "value": 12
         },
         {
          "first": "s",
          "second": "n",
          "value": 12
         },
         {
          "first": "s",
          "second": ".",
          "value": 12
         },
         {
          "first": "s",
          "second": "t",
          "value": 12
         },
         {
          "first": "s",
          "second": "a",
          "value": 12
         },
         {
          "first": "s",
          "second": "m",
          "value": 12
         },
         {
          "first": "s",
          "second": "i",
          "value": 12
         },
         {
          "first": "s",
          "second": "v",
          "value": 12
         },
         {
          "first": "s",
          "second": "p",
          "value": 12
         },
         {
          "first": "s",
          "second": "r",
          "value": 12
         },
         {
          "first": "s",
          "second": "w",
          "value": 12
         },
         {
          "first": "s",
          "second": "k",
          "value": 12
         },
         {
          "first": "s",
          "second": "s",
          "value": 12
         },
         {
          "first": "s",
          "second": "x",
          "value": 12
         },
         {
          "first": "s",
          "second": "j",
          "value": 12
         },
         {
          "first": "s",
          "second": "y",
          "value": 12
         },
         {
          "first": "s",
          "second": "u",
          "value": 12
         },
         {
          "first": "s",
          "second": "f",
          "value": 12
         },
         {
          "first": "s",
          "second": "q",
          "value": 12
         },
         {
          "first": "s",
          "second": "b",
          "value": 12
         },
         {
          "first": "s",
          "second": "g",
          "value": 12
         },
         {
          "first": "s",
          "second": "l",
          "value": 12
         },
         {
          "first": "s",
          "second": "c",
          "value": 12
         },
         {
          "first": "s",
          "second": "h",
          "value": 12
         },
         {
          "first": "s",
          "second": "o",
          "value": 12
         },
         {
          "first": "s",
          "second": "z",
          "value": 12
         },
         {
          "first": "s",
          "second": "d",
          "value": 12
         },
         {
          "first": "x",
          "second": "e",
          "value": 12
         },
         {
          "first": "x",
          "second": "n",
          "value": 12
         },
         {
          "first": "x",
          "second": ".",
          "value": 12
         },
         {
          "first": "x",
          "second": "t",
          "value": 12
         },
         {
          "first": "x",
          "second": "a",
          "value": 12
         },
         {
          "first": "x",
          "second": "m",
          "value": 12
         },
         {
          "first": "x",
          "second": "i",
          "value": 12
         },
         {
          "first": "x",
          "second": "v",
          "value": 12
         },
         {
          "first": "x",
          "second": "p",
          "value": 12
         },
         {
          "first": "x",
          "second": "r",
          "value": 12
         },
         {
          "first": "x",
          "second": "w",
          "value": 12
         },
         {
          "first": "x",
          "second": "k",
          "value": 12
         },
         {
          "first": "x",
          "second": "s",
          "value": 12
         },
         {
          "first": "x",
          "second": "x",
          "value": 12
         },
         {
          "first": "x",
          "second": "j",
          "value": 12
         },
         {
          "first": "x",
          "second": "y",
          "value": 12
         },
         {
          "first": "x",
          "second": "u",
          "value": 12
         },
         {
          "first": "x",
          "second": "f",
          "value": 12
         },
         {
          "first": "x",
          "second": "q",
          "value": 12
         },
         {
          "first": "x",
          "second": "b",
          "value": 12
         },
         {
          "first": "x",
          "second": "g",
          "value": 12
         },
         {
          "first": "x",
          "second": "l",
          "value": 12
         },
         {
          "first": "x",
          "second": "c",
          "value": 12
         },
         {
          "first": "x",
          "second": "h",
          "value": 12
         },
         {
          "first": "x",
          "second": "o",
          "value": 12
         },
         {
          "first": "x",
          "second": "z",
          "value": 12
         },
         {
          "first": "x",
          "second": "d",
          "value": 12
         },
         {
          "first": "j",
          "second": "e",
          "value": 12
         },
         {
          "first": "j",
          "second": "n",
          "value": 12
         },
         {
          "first": "j",
          "second": ".",
          "value": 12
         },
         {
          "first": "j",
          "second": "t",
          "value": 12
         },
         {
          "first": "j",
          "second": "a",
          "value": 12
         },
         {
          "first": "j",
          "second": "m",
          "value": 12
         },
         {
          "first": "j",
          "second": "i",
          "value": 12
         },
         {
          "first": "j",
          "second": "v",
          "value": 12
         },
         {
          "first": "j",
          "second": "p",
          "value": 12
         },
         {
          "first": "j",
          "second": "r",
          "value": 12
         },
         {
          "first": "j",
          "second": "w",
          "value": 12
         },
         {
          "first": "j",
          "second": "k",
          "value": 12
         },
         {
          "first": "j",
          "second": "s",
          "value": 12
         },
         {
          "first": "j",
          "second": "x",
          "value": 12
         },
         {
          "first": "j",
          "second": "j",
          "value": 12
         },
         {
          "first": "j",
          "second": "y",
          "value": 12
         },
         {
          "first": "j",
          "second": "u",
          "value": 12
         },
         {
          "first": "j",
          "second": "f",
          "value": 12
         },
         {
          "first": "j",
          "second": "q",
          "value": 12
         },
         {
          "first": "j",
          "second": "b",
          "value": 12
         },
         {
          "first": "j",
          "second": "g",
          "value": 12
         },
         {
          "first": "j",
          "second": "l",
          "value": 12
         },
         {
          "first": "j",
          "second": "c",
          "value": 12
         },
         {
          "first": "j",
          "second": "h",
          "value": 12
         },
         {
          "first": "j",
          "second": "o",
          "value": 12
         },
         {
          "first": "j",
          "second": "z",
          "value": 12
         },
         {
          "first": "j",
          "second": "d",
          "value": 12
         },
         {
          "first": "y",
          "second": "e",
          "value": 12
         },
         {
          "first": "y",
          "second": "n",
          "value": 12
         },
         {
          "first": "y",
          "second": ".",
          "value": 12
         },
         {
          "first": "y",
          "second": "t",
          "value": 12
         },
         {
          "first": "y",
          "second": "a",
          "value": 12
         },
         {
          "first": "y",
          "second": "m",
          "value": 12
         },
         {
          "first": "y",
          "second": "i",
          "value": 12
         },
         {
          "first": "y",
          "second": "v",
          "value": 12
         },
         {
          "first": "y",
          "second": "p",
          "value": 12
         },
         {
          "first": "y",
          "second": "r",
          "value": 12
         },
         {
          "first": "y",
          "second": "w",
          "value": 12
         },
         {
          "first": "y",
          "second": "k",
          "value": 12
         },
         {
          "first": "y",
          "second": "s",
          "value": 12
         },
         {
          "first": "y",
          "second": "x",
          "value": 12
         },
         {
          "first": "y",
          "second": "j",
          "value": 12
         },
         {
          "first": "y",
          "second": "y",
          "value": 12
         },
         {
          "first": "y",
          "second": "u",
          "value": 12
         },
         {
          "first": "y",
          "second": "f",
          "value": 12
         },
         {
          "first": "y",
          "second": "q",
          "value": 12
         },
         {
          "first": "y",
          "second": "b",
          "value": 12
         },
         {
          "first": "y",
          "second": "g",
          "value": 12
         },
         {
          "first": "y",
          "second": "l",
          "value": 12
         },
         {
          "first": "y",
          "second": "c",
          "value": 12
         },
         {
          "first": "y",
          "second": "h",
          "value": 12
         },
         {
          "first": "y",
          "second": "o",
          "value": 12
         },
         {
          "first": "y",
          "second": "z",
          "value": 12
         },
         {
          "first": "y",
          "second": "d",
          "value": 12
         },
         {
          "first": "u",
          "second": "e",
          "value": 12
         },
         {
          "first": "u",
          "second": "n",
          "value": 12
         },
         {
          "first": "u",
          "second": ".",
          "value": 12
         },
         {
          "first": "u",
          "second": "t",
          "value": 12
         },
         {
          "first": "u",
          "second": "a",
          "value": 12
         },
         {
          "first": "u",
          "second": "m",
          "value": 12
         },
         {
          "first": "u",
          "second": "i",
          "value": 12
         },
         {
          "first": "u",
          "second": "v",
          "value": 12
         },
         {
          "first": "u",
          "second": "p",
          "value": 12
         },
         {
          "first": "u",
          "second": "r",
          "value": 12
         },
         {
          "first": "u",
          "second": "w",
          "value": 12
         },
         {
          "first": "u",
          "second": "k",
          "value": 12
         },
         {
          "first": "u",
          "second": "s",
          "value": 12
         },
         {
          "first": "u",
          "second": "x",
          "value": 12
         },
         {
          "first": "u",
          "second": "j",
          "value": 12
         },
         {
          "first": "u",
          "second": "y",
          "value": 12
         },
         {
          "first": "u",
          "second": "u",
          "value": 12
         },
         {
          "first": "u",
          "second": "f",
          "value": 12
         },
         {
          "first": "u",
          "second": "q",
          "value": 12
         },
         {
          "first": "u",
          "second": "b",
          "value": 12
         },
         {
          "first": "u",
          "second": "g",
          "value": 12
         },
         {
          "first": "u",
          "second": "l",
          "value": 12
         },
         {
          "first": "u",
          "second": "c",
          "value": 12
         },
         {
          "first": "u",
          "second": "h",
          "value": 12
         },
         {
          "first": "u",
          "second": "o",
          "value": 12
         },
         {
          "first": "u",
          "second": "z",
          "value": 12
         },
         {
          "first": "u",
          "second": "d",
          "value": 12
         },
         {
          "first": "f",
          "second": "e",
          "value": 12
         },
         {
          "first": "f",
          "second": "n",
          "value": 12
         },
         {
          "first": "f",
          "second": ".",
          "value": 12
         },
         {
          "first": "f",
          "second": "t",
          "value": 12
         },
         {
          "first": "f",
          "second": "a",
          "value": 12
         },
         {
          "first": "f",
          "second": "m",
          "value": 12
         },
         {
          "first": "f",
          "second": "i",
          "value": 12
         },
         {
          "first": "f",
          "second": "v",
          "value": 12
         },
         {
          "first": "f",
          "second": "p",
          "value": 12
         },
         {
          "first": "f",
          "second": "r",
          "value": 12
         },
         {
          "first": "f",
          "second": "w",
          "value": 12
         },
         {
          "first": "f",
          "second": "k",
          "value": 12
         },
         {
          "first": "f",
          "second": "s",
          "value": 12
         },
         {
          "first": "f",
          "second": "x",
          "value": 12
         },
         {
          "first": "f",
          "second": "j",
          "value": 12
         },
         {
          "first": "f",
          "second": "y",
          "value": 12
         },
         {
          "first": "f",
          "second": "u",
          "value": 12
         },
         {
          "first": "f",
          "second": "f",
          "value": 12
         },
         {
          "first": "f",
          "second": "q",
          "value": 12
         },
         {
          "first": "f",
          "second": "b",
          "value": 12
         },
         {
          "first": "f",
          "second": "g",
          "value": 12
         },
         {
          "first": "f",
          "second": "l",
          "value": 12
         },
         {
          "first": "f",
          "second": "c",
          "value": 12
         },
         {
          "first": "f",
          "second": "h",
          "value": 12
         },
         {
          "first": "f",
          "second": "o",
          "value": 12
         },
         {
          "first": "f",
          "second": "z",
          "value": 12
         },
         {
          "first": "f",
          "second": "d",
          "value": 12
         },
         {
          "first": "q",
          "second": "e",
          "value": 12
         },
         {
          "first": "q",
          "second": "n",
          "value": 12
         },
         {
          "first": "q",
          "second": ".",
          "value": 12
         },
         {
          "first": "q",
          "second": "t",
          "value": 12
         },
         {
          "first": "q",
          "second": "a",
          "value": 12
         },
         {
          "first": "q",
          "second": "m",
          "value": 12
         },
         {
          "first": "q",
          "second": "i",
          "value": 12
         },
         {
          "first": "q",
          "second": "v",
          "value": 12
         },
         {
          "first": "q",
          "second": "p",
          "value": 12
         },
         {
          "first": "q",
          "second": "r",
          "value": 12
         },
         {
          "first": "q",
          "second": "w",
          "value": 12
         },
         {
          "first": "q",
          "second": "k",
          "value": 12
         },
         {
          "first": "q",
          "second": "s",
          "value": 12
         },
         {
          "first": "q",
          "second": "x",
          "value": 12
         },
         {
          "first": "q",
          "second": "j",
          "value": 12
         },
         {
          "first": "q",
          "second": "y",
          "value": 12
         },
         {
          "first": "q",
          "second": "u",
          "value": 12
         },
         {
          "first": "q",
          "second": "f",
          "value": 12
         },
         {
          "first": "q",
          "second": "q",
          "value": 12
         },
         {
          "first": "q",
          "second": "b",
          "value": 12
         },
         {
          "first": "q",
          "second": "g",
          "value": 12
         },
         {
          "first": "q",
          "second": "l",
          "value": 12
         },
         {
          "first": "q",
          "second": "c",
          "value": 12
         },
         {
          "first": "q",
          "second": "h",
          "value": 12
         },
         {
          "first": "q",
          "second": "o",
          "value": 12
         },
         {
          "first": "q",
          "second": "z",
          "value": 12
         },
         {
          "first": "q",
          "second": "d",
          "value": 12
         },
         {
          "first": "b",
          "second": "e",
          "value": 12
         },
         {
          "first": "b",
          "second": "n",
          "value": 12
         },
         {
          "first": "b",
          "second": ".",
          "value": 12
         },
         {
          "first": "b",
          "second": "t",
          "value": 12
         },
         {
          "first": "b",
          "second": "a",
          "value": 12
         },
         {
          "first": "b",
          "second": "m",
          "value": 12
         },
         {
          "first": "b",
          "second": "i",
          "value": 12
         },
         {
          "first": "b",
          "second": "v",
          "value": 12
         },
         {
          "first": "b",
          "second": "p",
          "value": 12
         },
         {
          "first": "b",
          "second": "r",
          "value": 12
         },
         {
          "first": "b",
          "second": "w",
          "value": 12
         },
         {
          "first": "b",
          "second": "k",
          "value": 12
         },
         {
          "first": "b",
          "second": "s",
          "value": 12
         },
         {
          "first": "b",
          "second": "x",
          "value": 12
         },
         {
          "first": "b",
          "second": "j",
          "value": 12
         },
         {
          "first": "b",
          "second": "y",
          "value": 12
         },
         {
          "first": "b",
          "second": "u",
          "value": 12
         },
         {
          "first": "b",
          "second": "f",
          "value": 12
         },
         {
          "first": "b",
          "second": "q",
          "value": 12
         },
         {
          "first": "b",
          "second": "b",
          "value": 12
         },
         {
          "first": "b",
          "second": "g",
          "value": 12
         },
         {
          "first": "b",
          "second": "l",
          "value": 12
         },
         {
          "first": "b",
          "second": "c",
          "value": 12
         },
         {
          "first": "b",
          "second": "h",
          "value": 12
         },
         {
          "first": "b",
          "second": "o",
          "value": 12
         },
         {
          "first": "b",
          "second": "z",
          "value": 12
         },
         {
          "first": "b",
          "second": "d",
          "value": 12
         },
         {
          "first": "g",
          "second": "e",
          "value": 12
         },
         {
          "first": "g",
          "second": "n",
          "value": 12
         },
         {
          "first": "g",
          "second": ".",
          "value": 12
         },
         {
          "first": "g",
          "second": "t",
          "value": 12
         },
         {
          "first": "g",
          "second": "a",
          "value": 12
         },
         {
          "first": "g",
          "second": "m",
          "value": 12
         },
         {
          "first": "g",
          "second": "i",
          "value": 12
         },
         {
          "first": "g",
          "second": "v",
          "value": 12
         },
         {
          "first": "g",
          "second": "p",
          "value": 12
         },
         {
          "first": "g",
          "second": "r",
          "value": 12
         },
         {
          "first": "g",
          "second": "w",
          "value": 12
         },
         {
          "first": "g",
          "second": "k",
          "value": 12
         },
         {
          "first": "g",
          "second": "s",
          "value": 12
         },
         {
          "first": "g",
          "second": "x",
          "value": 12
         },
         {
          "first": "g",
          "second": "j",
          "value": 12
         },
         {
          "first": "g",
          "second": "y",
          "value": 12
         },
         {
          "first": "g",
          "second": "u",
          "value": 12
         },
         {
          "first": "g",
          "second": "f",
          "value": 12
         },
         {
          "first": "g",
          "second": "q",
          "value": 12
         },
         {
          "first": "g",
          "second": "b",
          "value": 12
         },
         {
          "first": "g",
          "second": "g",
          "value": 12
         },
         {
          "first": "g",
          "second": "l",
          "value": 12
         },
         {
          "first": "g",
          "second": "c",
          "value": 12
         },
         {
          "first": "g",
          "second": "h",
          "value": 12
         },
         {
          "first": "g",
          "second": "o",
          "value": 12
         },
         {
          "first": "g",
          "second": "z",
          "value": 12
         },
         {
          "first": "g",
          "second": "d",
          "value": 12
         },
         {
          "first": "l",
          "second": "e",
          "value": 12
         },
         {
          "first": "l",
          "second": "n",
          "value": 12
         },
         {
          "first": "l",
          "second": ".",
          "value": 12
         },
         {
          "first": "l",
          "second": "t",
          "value": 12
         },
         {
          "first": "l",
          "second": "a",
          "value": 12
         },
         {
          "first": "l",
          "second": "m",
          "value": 12
         },
         {
          "first": "l",
          "second": "i",
          "value": 12
         },
         {
          "first": "l",
          "second": "v",
          "value": 12
         },
         {
          "first": "l",
          "second": "p",
          "value": 12
         },
         {
          "first": "l",
          "second": "r",
          "value": 12
         },
         {
          "first": "l",
          "second": "w",
          "value": 12
         },
         {
          "first": "l",
          "second": "k",
          "value": 12
         },
         {
          "first": "l",
          "second": "s",
          "value": 12
         },
         {
          "first": "l",
          "second": "x",
          "value": 12
         },
         {
          "first": "l",
          "second": "j",
          "value": 12
         },
         {
          "first": "l",
          "second": "y",
          "value": 12
         },
         {
          "first": "l",
          "second": "u",
          "value": 12
         },
         {
          "first": "l",
          "second": "f",
          "value": 12
         },
         {
          "first": "l",
          "second": "q",
          "value": 12
         },
         {
          "first": "l",
          "second": "b",
          "value": 12
         },
         {
          "first": "l",
          "second": "g",
          "value": 12
         },
         {
          "first": "l",
          "second": "l",
          "value": 12
         },
         {
          "first": "l",
          "second": "c",
          "value": 12
         },
         {
          "first": "l",
          "second": "h",
          "value": 12
         },
         {
          "first": "l",
          "second": "o",
          "value": 12
         },
         {
          "first": "l",
          "second": "z",
          "value": 12
         },
         {
          "first": "l",
          "second": "d",
          "value": 12
         },
         {
          "first": "c",
          "second": "e",
          "value": 12
         },
         {
          "first": "c",
          "second": "n",
          "value": 12
         },
         {
          "first": "c",
          "second": ".",
          "value": 12
         },
         {
          "first": "c",
          "second": "t",
          "value": 12
         },
         {
          "first": "c",
          "second": "a",
          "value": 12
         },
         {
          "first": "c",
          "second": "m",
          "value": 12
         },
         {
          "first": "c",
          "second": "i",
          "value": 12
         },
         {
          "first": "c",
          "second": "v",
          "value": 12
         },
         {
          "first": "c",
          "second": "p",
          "value": 12
         },
         {
          "first": "c",
          "second": "r",
          "value": 12
         },
         {
          "first": "c",
          "second": "w",
          "value": 12
         },
         {
          "first": "c",
          "second": "k",
          "value": 12
         },
         {
          "first": "c",
          "second": "s",
          "value": 12
         },
         {
          "first": "c",
          "second": "x",
          "value": 12
         },
         {
          "first": "c",
          "second": "j",
          "value": 12
         },
         {
          "first": "c",
          "second": "y",
          "value": 12
         },
         {
          "first": "c",
          "second": "u",
          "value": 12
         },
         {
          "first": "c",
          "second": "f",
          "value": 12
         },
         {
          "first": "c",
          "second": "q",
          "value": 12
         },
         {
          "first": "c",
          "second": "b",
          "value": 12
         },
         {
          "first": "c",
          "second": "g",
          "value": 12
         },
         {
          "first": "c",
          "second": "l",
          "value": 12
         },
         {
          "first": "c",
          "second": "c",
          "value": 12
         },
         {
          "first": "c",
          "second": "h",
          "value": 12
         },
         {
          "first": "c",
          "second": "o",
          "value": 12
         },
         {
          "first": "c",
          "second": "z",
          "value": 12
         },
         {
          "first": "c",
          "second": "d",
          "value": 12
         },
         {
          "first": "h",
          "second": "e",
          "value": 12
         },
         {
          "first": "h",
          "second": "n",
          "value": 12
         },
         {
          "first": "h",
          "second": ".",
          "value": 12
         },
         {
          "first": "h",
          "second": "t",
          "value": 12
         },
         {
          "first": "h",
          "second": "a",
          "value": 12
         },
         {
          "first": "h",
          "second": "m",
          "value": 12
         },
         {
          "first": "h",
          "second": "i",
          "value": 12
         },
         {
          "first": "h",
          "second": "v",
          "value": 12
         },
         {
          "first": "h",
          "second": "p",
          "value": 12
         },
         {
          "first": "h",
          "second": "r",
          "value": 12
         },
         {
          "first": "h",
          "second": "w",
          "value": 12
         },
         {
          "first": "h",
          "second": "k",
          "value": 12
         },
         {
          "first": "h",
          "second": "s",
          "value": 12
         },
         {
          "first": "h",
          "second": "x",
          "value": 12
         },
         {
          "first": "h",
          "second": "j",
          "value": 12
         },
         {
          "first": "h",
          "second": "y",
          "value": 12
         },
         {
          "first": "h",
          "second": "u",
          "value": 12
         },
         {
          "first": "h",
          "second": "f",
          "value": 12
         },
         {
          "first": "h",
          "second": "q",
          "value": 12
         },
         {
          "first": "h",
          "second": "b",
          "value": 12
         },
         {
          "first": "h",
          "second": "g",
          "value": 12
         },
         {
          "first": "h",
          "second": "l",
          "value": 12
         },
         {
          "first": "h",
          "second": "c",
          "value": 12
         },
         {
          "first": "h",
          "second": "h",
          "value": 12
         },
         {
          "first": "h",
          "second": "o",
          "value": 12
         },
         {
          "first": "h",
          "second": "z",
          "value": 12
         },
         {
          "first": "h",
          "second": "d",
          "value": 12
         },
         {
          "first": "o",
          "second": "e",
          "value": 12
         },
         {
          "first": "o",
          "second": "n",
          "value": 12
         },
         {
          "first": "o",
          "second": ".",
          "value": 12
         },
         {
          "first": "o",
          "second": "t",
          "value": 12
         },
         {
          "first": "o",
          "second": "a",
          "value": 12
         },
         {
          "first": "o",
          "second": "m",
          "value": 12
         },
         {
          "first": "o",
          "second": "i",
          "value": 12
         },
         {
          "first": "o",
          "second": "v",
          "value": 12
         },
         {
          "first": "o",
          "second": "p",
          "value": 12
         },
         {
          "first": "o",
          "second": "r",
          "value": 12
         },
         {
          "first": "o",
          "second": "w",
          "value": 12
         },
         {
          "first": "o",
          "second": "k",
          "value": 12
         },
         {
          "first": "o",
          "second": "s",
          "value": 12
         },
         {
          "first": "o",
          "second": "x",
          "value": 12
         },
         {
          "first": "o",
          "second": "j",
          "value": 12
         },
         {
          "first": "o",
          "second": "y",
          "value": 12
         },
         {
          "first": "o",
          "second": "u",
          "value": 12
         },
         {
          "first": "o",
          "second": "f",
          "value": 12
         },
         {
          "first": "o",
          "second": "q",
          "value": 12
         },
         {
          "first": "o",
          "second": "b",
          "value": 12
         },
         {
          "first": "o",
          "second": "g",
          "value": 12
         },
         {
          "first": "o",
          "second": "l",
          "value": 12
         },
         {
          "first": "o",
          "second": "c",
          "value": 12
         },
         {
          "first": "o",
          "second": "h",
          "value": 12
         },
         {
          "first": "o",
          "second": "o",
          "value": 12
         },
         {
          "first": "o",
          "second": "z",
          "value": 12
         },
         {
          "first": "o",
          "second": "d",
          "value": 12
         },
         {
          "first": "z",
          "second": "e",
          "value": 12
         },
         {
          "first": "z",
          "second": "n",
          "value": 12
         },
         {
          "first": "z",
          "second": ".",
          "value": 12
         },
         {
          "first": "z",
          "second": "t",
          "value": 12
         },
         {
          "first": "z",
          "second": "a",
          "value": 12
         },
         {
          "first": "z",
          "second": "m",
          "value": 12
         },
         {
          "first": "z",
          "second": "i",
          "value": 12
         },
         {
          "first": "z",
          "second": "v",
          "value": 12
         },
         {
          "first": "z",
          "second": "p",
          "value": 12
         },
         {
          "first": "z",
          "second": "r",
          "value": 12
         },
         {
          "first": "z",
          "second": "w",
          "value": 12
         },
         {
          "first": "z",
          "second": "k",
          "value": 12
         },
         {
          "first": "z",
          "second": "s",
          "value": 12
         },
         {
          "first": "z",
          "second": "x",
          "value": 12
         },
         {
          "first": "z",
          "second": "j",
          "value": 12
         },
         {
          "first": "z",
          "second": "y",
          "value": 12
         },
         {
          "first": "z",
          "second": "u",
          "value": 12
         },
         {
          "first": "z",
          "second": "f",
          "value": 12
         },
         {
          "first": "z",
          "second": "q",
          "value": 12
         },
         {
          "first": "z",
          "second": "b",
          "value": 12
         },
         {
          "first": "z",
          "second": "g",
          "value": 12
         },
         {
          "first": "z",
          "second": "l",
          "value": 12
         },
         {
          "first": "z",
          "second": "c",
          "value": 12
         },
         {
          "first": "z",
          "second": "h",
          "value": 12
         },
         {
          "first": "z",
          "second": "o",
          "value": 12
         },
         {
          "first": "z",
          "second": "z",
          "value": 12
         },
         {
          "first": "z",
          "second": "d",
          "value": 12
         },
         {
          "first": "d",
          "second": "e",
          "value": 12
         },
         {
          "first": "d",
          "second": "n",
          "value": 12
         },
         {
          "first": "d",
          "second": ".",
          "value": 12
         },
         {
          "first": "d",
          "second": "t",
          "value": 12
         },
         {
          "first": "d",
          "second": "a",
          "value": 12
         },
         {
          "first": "d",
          "second": "m",
          "value": 12
         },
         {
          "first": "d",
          "second": "i",
          "value": 12
         },
         {
          "first": "d",
          "second": "v",
          "value": 12
         },
         {
          "first": "d",
          "second": "p",
          "value": 12
         },
         {
          "first": "d",
          "second": "r",
          "value": 12
         },
         {
          "first": "d",
          "second": "w",
          "value": 12
         },
         {
          "first": "d",
          "second": "k",
          "value": 12
         },
         {
          "first": "d",
          "second": "s",
          "value": 12
         },
         {
          "first": "d",
          "second": "x",
          "value": 12
         },
         {
          "first": "d",
          "second": "j",
          "value": 12
         },
         {
          "first": "d",
          "second": "y",
          "value": 12
         },
         {
          "first": "d",
          "second": "u",
          "value": 12
         },
         {
          "first": "d",
          "second": "f",
          "value": 12
         },
         {
          "first": "d",
          "second": "q",
          "value": 12
         },
         {
          "first": "d",
          "second": "b",
          "value": 12
         },
         {
          "first": "d",
          "second": "g",
          "value": 12
         },
         {
          "first": "d",
          "second": "l",
          "value": 12
         },
         {
          "first": "d",
          "second": "c",
          "value": 12
         },
         {
          "first": "d",
          "second": "h",
          "value": 12
         },
         {
          "first": "d",
          "second": "o",
          "value": 12
         },
         {
          "first": "d",
          "second": "z",
          "value": 12
         },
         {
          "first": "d",
          "second": "d",
          "value": 12
         }
        ]
       },
       "description": "A heat map with each cell displaying its first and second category labels along with the value.",
       "height": 1000,
       "layer": [
        {
         "encoding": {
          "color": {
           "field": "value",
           "legend": {
            "title": "Value"
           },
           "scale": {
            "range": [
             "white",
             "steelblue"
            ]
           },
           "type": "quantitative"
          },
          "x": {
           "axis": {
            "title": "First letter"
           },
           "field": "first",
           "type": "nominal"
          },
          "y": {
           "axis": {
            "title": "Second letter"
           },
           "field": "second",
           "type": "nominal"
          }
         },
         "mark": "rect"
        },
        {
         "encoding": {
          "text": {
           "field": "cellLabel",
           "type": "nominal"
          },
          "tooltip": [
           {
            "field": "first",
            "title": "First Letter",
            "type": "nominal"
           },
           {
            "field": "second",
            "title": "Second Letter",
            "type": "nominal"
           },
           {
            "field": "value",
            "title": "Count",
            "type": "quantitative"
           }
          ],
          "x": {
           "field": "first",
           "type": "nominal"
          },
          "y": {
           "field": "second",
           "type": "nominal"
          }
         },
         "mark": {
          "align": "center",
          "baseline": "middle",
          "color": "black",
          "fontSize": 12,
          "lineBreak": ":::",
          "type": "text"
         }
        }
       ],
       "title": "Uniform Weights (i.e. Random selection)",
       "transform": [
        {
         "as": "cellLabel",
         "calculate": "datum.first + ', ' + datum.second + ':::' + datum.value"
        }
       ],
       "width": 1000
      }
     },
     "metadata": {},
     "output_type": "display_data"
    },
    {
     "data": {
      "text/plain": [
       "\u001b[36mnormalised\u001b[39m: \u001b[32mMap\u001b[39m[\u001b[32mChar\u001b[39m, \u001b[32mEnumeratedIntegerDistribution\u001b[39m] = \u001b[33mHashMap\u001b[39m(\n",
       "  \u001b[32m'e'\u001b[39m -> org.apache.commons.math3.distribution.EnumeratedIntegerDistribution@2c19b9d7,\n",
       "  \u001b[32m'n'\u001b[39m -> org.apache.commons.math3.distribution.EnumeratedIntegerDistribution@673f9ea2,\n",
       "  \u001b[32m'.'\u001b[39m -> org.apache.commons.math3.distribution.EnumeratedIntegerDistribution@4292d5e0,\n",
       "  \u001b[32m't'\u001b[39m -> org.apache.commons.math3.distribution.EnumeratedIntegerDistribution@3e58ab4f,\n",
       "  \u001b[32m'a'\u001b[39m -> org.apache.commons.math3.distribution.EnumeratedIntegerDistribution@1584158f,\n",
       "  \u001b[32m'm'\u001b[39m -> org.apache.commons.math3.distribution.EnumeratedIntegerDistribution@e555313,\n",
       "  \u001b[32m'i'\u001b[39m -> org.apache.commons.math3.distribution.EnumeratedIntegerDistribution@5a3cbaec,\n",
       "  \u001b[32m'v'\u001b[39m -> org.apache.commons.math3.distribution.EnumeratedIntegerDistribution@21456037,\n",
       "  \u001b[32m'p'\u001b[39m -> org.apache.commons.math3.distribution.EnumeratedIntegerDistribution@145821fd,\n",
       "  \u001b[32m'r'\u001b[39m -> org.apache.commons.math3.distribution.EnumeratedIntegerDistribution@303125ae,\n",
       "  \u001b[32m'w'\u001b[39m -> org.apache.commons.math3.distribution.EnumeratedIntegerDistribution@f65029e,\n",
       "  \u001b[32m'k'\u001b[39m -> org.apache.commons.math3.distribution.EnumeratedIntegerDistribution@52b9f9d,\n",
       "  \u001b[32m's'\u001b[39m -> org.apache.commons.math3.distribution.EnumeratedIntegerDistribution@50a9010c,\n",
       "  \u001b[32m'x'\u001b[39m -> org.apache.commons.math3.distribution.EnumeratedIntegerDistribution@698c52e2,\n",
       "  \u001b[32m'j'\u001b[39m -> org.apache.commons.math3.distribution.EnumeratedIntegerDistribution@4edaccbf,\n",
       "  \u001b[32m'y'\u001b[39m -> org.apache.commons.math3.distribution.EnumeratedIntegerDistribution@1754758e,\n",
       "  \u001b[32m'u'\u001b[39m -> org.apache.commons.math3.distribution.EnumeratedIntegerDistribution@f6da709,\n",
       "  \u001b[32m'f'\u001b[39m -> org.apache.commons.math3.distribution.EnumeratedIntegerDistribution@4fdff44,\n",
       "  \u001b[32m'q'\u001b[39m -> org.apache.commons.math3.distribution.EnumeratedIntegerDistribution@1c5a6450,\n",
       "...\n",
       "\u001b[36mres3_1\u001b[39m: scala.Unit | os.Path = ()"
      ]
     },
     "execution_count": 3,
     "metadata": {},
     "output_type": "execute_result"
    }
   ],
   "source": [
    "val normalised: Map[Char, EnumeratedIntegerDistribution] = charsMap.view.mapValues { _ =>\n",
    "  // A \"flat\" prior - every character equally likely\n",
    "  new EnumeratedIntegerDistribution(\n",
    "    charsIndex.toArray,\n",
    "    Array.fill(charsIndex.length)(1.0)\n",
    "  )\n",
    "}.toMap\n",
    "heatmap(normalised, charsMap, i2c, \"Uniform Weights (i.e. Random selection)\")"
   ]
  },
  {
   "cell_type": "code",
   "execution_count": 4,
   "id": "a4faadf7",
   "metadata": {},
   "outputs": [
    {
     "name": "stdout",
     "output_type": "stream",
     "text": [
      "Rubbish completely random name generator\n",
      "yjjyvwtqicqc\n",
      "ovypymtwebob\n",
      "rq\n",
      "rchtqmgnfcihhrvxjklgldwfeijlfinfyurgyyzqk\n",
      "olbfzuyafjbevjughfn\n",
      "hymdro\n",
      "\n",
      "Checking some sensible words:\n",
      "|\u001b[32m \u001b[39m|\u001b[97m     word\u001b[39m|\u001b[31m    totalLikelihood\u001b[39m|\u001b[34m                 prob\u001b[39m|\u001b[35m      avg_prbability\u001b[39m|\n",
      "+-+---------+-------------------+---------------------+--------------------+\n",
      "|\u001b[32m0\u001b[39m|\u001b[97m    simon\u001b[39m|\u001b[31m-19.775021196025975\u001b[39m|\u001b[34m2.5811747917131966E-9\u001b[39m|\u001b[35m0.037037037037037035\u001b[39m|\n",
      "|\u001b[32m1\u001b[39m|\u001b[97m   isolde\u001b[39m|\u001b[31m-23.070858062030304\u001b[39m|\u001b[34m9.559906635974801E-11\u001b[39m|\u001b[35m0.037037037037037035\u001b[39m|\n",
      "|\u001b[32m2\u001b[39m|\u001b[97m     arlo\u001b[39m|\u001b[31m-16.479184330021646\u001b[39m|\u001b[34m 6.969171937625631E-8\u001b[39m|\u001b[35m0.037037037037037035\u001b[39m|\n",
      "|\u001b[32m3\u001b[39m|\u001b[97m     axel\u001b[39m|\u001b[31m-16.479184330021646\u001b[39m|\u001b[34m 6.969171937625631E-8\u001b[39m|\u001b[35m0.037037037037037035\u001b[39m|\n",
      "|\u001b[32m4\u001b[39m|\u001b[97m      zzz\u001b[39m|\u001b[31m-13.183347464017316\u001b[39m|\u001b[34m1.8816764231589204E-6\u001b[39m|\u001b[35m0.037037037037037035\u001b[39m|\n",
      "|\u001b[32m5\u001b[39m|\u001b[97mzzzzzzzzz\u001b[39m|\u001b[31m -32.95836866004329\u001b[39m|\u001b[34m4.856935749618859E-15\u001b[39m|\u001b[35m0.037037037037037035\u001b[39m|\n",
      "|\u001b[32m6\u001b[39m|\u001b[97mchristoph\u001b[39m|\u001b[31m -32.95836866004329\u001b[39m|\u001b[34m4.856935749618859E-15\u001b[39m|\u001b[35m0.037037037037037035\u001b[39m|\n",
      "+-+---------+-------------------+---------------------+--------------------+\n"
     ]
    }
   ],
   "source": [
    "println(\"Rubbish completely random name generator\")\n",
    "for (i <- 0 to 5) {\n",
    "  println(generator(normalised, i2c).mkString(\"\"))\n",
    "}\n",
    "\n",
    "println(\"\\nChecking some sensible words:\")\n",
    "private val someNames = Seq(\"simon\", \"isolde\", \"arlo\", \"axel\", \"zzz\", \"zzzzzzzzz\", \"christoph\")\n",
    "\n",
    "checkWords(someNames, normalised, charsMap).ptbln\n"
   ]
  }
 ],
 "metadata": {
  "kernelspec": {
   "display_name": "Scala",
   "language": "scala",
   "name": "scala"
  },
  "language_info": {
   "codemirror_mode": "text/x-scala",
   "file_extension": ".sc",
   "mimetype": "text/x-scala",
   "name": "scala",
   "nbconvert_exporter": "script",
   "version": "2.13.16"
  }
 },
 "nbformat": 4,
 "nbformat_minor": 5
}
