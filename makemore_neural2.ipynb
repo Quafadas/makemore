{
 "cells": [
  {
   "cell_type": "code",
   "execution_count": 1,
   "id": "e52fedaf",
   "metadata": {},
   "outputs": [
    {
     "data": {
      "text/plain": [
       "\u001b[32mimport \u001b[39m\u001b[36m$ivy.$                                     \n",
       "\u001b[39m\n",
       "\u001b[32mimport \u001b[39m\u001b[36m$ivy.$                                  \n",
       "\u001b[39m\n",
       "\u001b[32mimport \u001b[39m\u001b[36m$ivy.$                                       \n",
       "\u001b[39m\n",
       "\u001b[32mimport \u001b[39m\u001b[36m$ivy.$                                       \n",
       "\u001b[39m\n",
       "\u001b[32mimport \u001b[39m\u001b[36m$ivy.$                             \n",
       "\u001b[39m\n",
       "\u001b[32mimport \u001b[39m\u001b[36m$ivy.$                                       \n",
       "\u001b[39m\n",
       "\u001b[32mimport \u001b[39m\u001b[36m$ivy.$                                 \n",
       "\u001b[39m\n",
       "\u001b[32mimport \u001b[39m\u001b[36m$exec.$       \n",
       "// heatmap plotting\n",
       "\u001b[39m\n",
       "\u001b[32mimport \u001b[39m\u001b[36m$exec.$         \n",
       "\u001b[39m\n",
       "\u001b[32mimport \u001b[39m\u001b[36mio.github.quafadas.table.*\n",
       "\u001b[39m\n",
       "\u001b[32mimport \u001b[39m\u001b[36mviz.PlotTargets.almond\n",
       "\n",
       "\u001b[39m\n",
       "\u001b[32mimport \u001b[39m\u001b[36mscala.util.chaining.*\n",
       "\u001b[39m\n",
       "\u001b[32mimport \u001b[39m\u001b[36morg.apache.commons.math3.distribution.EnumeratedIntegerDistribution\n",
       "\u001b[39m"
      ]
     },
     "execution_count": 1,
     "metadata": {},
     "output_type": "execute_result"
    }
   ],
   "source": [
    "import $ivy.`io.github.quafadas::scautable:0.0.33`\n",
    "import $ivy.`io.github.quafadas::vecxt::0.0.34`\n",
    "import $ivy.`io.github.quafadas::inspireRAD::0.0.17`\n",
    "import $ivy.`org.apache.commons:commons-math3:3.6.1`\n",
    "import $ivy.`org.typelevel::spire::0.18.0`\n",
    "import $ivy.`io.github.quafadas::dedav4s:0.10.0-RC2`\n",
    "import $ivy.`org.typelevel::cats-core::2.13.0`\n",
    "import $exec.`utils2`\n",
    "// heatmap plotting\n",
    "import $exec.`heatmap2`\n",
    "import io.github.quafadas.table.*\n",
    "import viz.PlotTargets.almond\n",
    "\n",
    "import scala.util.chaining.*\n",
    "import org.apache.commons.math3.distribution.EnumeratedIntegerDistribution"
   ]
  },
  {
   "cell_type": "markdown",
   "id": "5e4eb19a",
   "metadata": {},
   "source": [
    "This notebook attemps to rediscover the classical solution by training a (very) simple neural network. "
   ]
  },
  {
   "cell_type": "code",
   "execution_count": 2,
   "id": "b36ce082",
   "metadata": {},
   "outputs": [
    {
     "name": "stderr",
     "output_type": "stream",
     "text": [
      "-- Warning: cmd2.sc:54:59 ------------------------------------------------------\n",
      "54 |  .addColumn[\"Ints\", Seq[Int]](s => s.Bookend.map(charsMap.seq))\n",
      "   |                                                  ^^^^^^^^^^^^\n",
      "   |method seq in trait Iterable is deprecated since 2.13.0: Iterable.seq always returns the iterable itself\n",
      "-- Warning: cmd2.sc:65:70 ------------------------------------------------------\n",
      "65 |  .addColumn[\"xenc\", Array[Double]](row => onehot(row.first, charsMap.seq))\n",
      "   |                                                             ^^^^^^^^^^^^\n",
      "   |method seq in trait Iterable is deprecated since 2.13.0: Iterable.seq always returns the iterable itself\n"
     ]
    },
    {
     "name": "stdout",
     "output_type": "stream",
     "text": [
      "Change lange to neural network\n",
      "Check Data\n",
      "(emma,.emma.,List(.e, em, mm, ma, a.),ArraySeq(0, 5, 13, 13, 1, 0))\n",
      "(olivia,.olivia.,List(.o, ol, li, iv, vi, ia, a.),ArraySeq(0, 15, 12, 9, 22, 9, 1, 0))\n",
      "(ava,.ava.,List(.a, av, va, a.),ArraySeq(0, 1, 22, 1, 0))\n",
      "(isabella,.isabella.,List(.i, is, sa, ab, be, el, ll, la, a.),ArraySeq(0, 9, 19, 1, 2, 5, 12, 12, 1, 0))\n",
      "(sophia,.sophia.,List(.s, so, op, ph, hi, ia, a.),ArraySeq(0, 19, 15, 16, 8, 9, 1, 0))\n",
      "|\u001b[32m \u001b[39m|\u001b[97mfirst\u001b[39m|\u001b[31mlast\u001b[39m|\u001b[34mtarget\u001b[39m|\u001b[35m                                                                                                         xenc\u001b[39m|\n",
      "+-+-----+----+------+-------------------------------------------------------------------------------------------------------------+\n",
      "|\u001b[32m0\u001b[39m|\u001b[97m    .\u001b[39m|\u001b[31m   e\u001b[39m|\u001b[34m     5\u001b[39m|\u001b[35m[1.0,0.0,0.0,0.0,0.0,0.0,0.0,0.0,0.0,0.0,0.0,0.0,0.0,0.0,0.0,0.0,0.0,0.0,0.0,0.0,0.0,0.0,0.0,0.0,0.0,0.0,0.0]\u001b[39m|\n",
      "|\u001b[32m1\u001b[39m|\u001b[97m    e\u001b[39m|\u001b[31m   m\u001b[39m|\u001b[34m    13\u001b[39m|\u001b[35m[0.0,0.0,0.0,0.0,0.0,1.0,0.0,0.0,0.0,0.0,0.0,0.0,0.0,0.0,0.0,0.0,0.0,0.0,0.0,0.0,0.0,0.0,0.0,0.0,0.0,0.0,0.0]\u001b[39m|\n",
      "|\u001b[32m2\u001b[39m|\u001b[97m    m\u001b[39m|\u001b[31m   m\u001b[39m|\u001b[34m    13\u001b[39m|\u001b[35m[0.0,0.0,0.0,0.0,0.0,0.0,0.0,0.0,0.0,0.0,0.0,0.0,0.0,1.0,0.0,0.0,0.0,0.0,0.0,0.0,0.0,0.0,0.0,0.0,0.0,0.0,0.0]\u001b[39m|\n",
      "|\u001b[32m3\u001b[39m|\u001b[97m    m\u001b[39m|\u001b[31m   a\u001b[39m|\u001b[34m     1\u001b[39m|\u001b[35m[0.0,0.0,0.0,0.0,0.0,0.0,0.0,0.0,0.0,0.0,0.0,0.0,0.0,1.0,0.0,0.0,0.0,0.0,0.0,0.0,0.0,0.0,0.0,0.0,0.0,0.0,0.0]\u001b[39m|\n",
      "|\u001b[32m4\u001b[39m|\u001b[97m    a\u001b[39m|\u001b[31m   .\u001b[39m|\u001b[34m     0\u001b[39m|\u001b[35m[0.0,1.0,0.0,0.0,0.0,0.0,0.0,0.0,0.0,0.0,0.0,0.0,0.0,0.0,0.0,0.0,0.0,0.0,0.0,0.0,0.0,0.0,0.0,0.0,0.0,0.0,0.0]\u001b[39m|\n",
      "+-+-----+----+------+-------------------------------------------------------------------------------------------------------------+\n"
     ]
    },
    {
     "data": {
      "text/plain": [
       "\u001b[32mimport \u001b[39m\u001b[36mcats.syntax.all.toShow\n",
       "\u001b[39m\n",
       "\u001b[32mimport \u001b[39m\u001b[36mvecxt.all.Matrix\n",
       "\u001b[39m\n",
       "\u001b[32mimport \u001b[39m\u001b[36mvecxt.matrixUtil.row\n",
       "\u001b[39m\n",
       "\u001b[32mimport \u001b[39m\u001b[36mvecxt.all.fromRowsArray\n",
       "\u001b[39m\n",
       "\u001b[32mimport \u001b[39m\u001b[36mvecxt.BoundsCheck.DoBoundsCheck.yes\n",
       "\n",
       "\u001b[39m\n",
       "\u001b[36mnormalDist\u001b[39m: \u001b[32mNormalDistribution\u001b[39m = org.apache.commons.math3.distribution.NormalDistribution@34caa160\n",
       "\u001b[36msmooth\u001b[39m: \u001b[32mBoolean\u001b[39m = \u001b[32mtrue\u001b[39m\n",
       "\u001b[36mdimensions\u001b[39m: \u001b[32mInt\u001b[39m = \u001b[32m729\u001b[39m\n",
       "defined \u001b[32mfunction\u001b[39m \u001b[36msaveMatrixToCSV\u001b[39m\n",
       "defined \u001b[32mfunction\u001b[39m \u001b[36mloadMatrixFromCSV\u001b[39m\n",
       "defined \u001b[32mfunction\u001b[39m \u001b[36monehot\u001b[39m\n",
       "\u001b[36mgenerateWeights\u001b[39m: \u001b[32mBoolean\u001b[39m = \u001b[32mtrue\u001b[39m\n",
       "\u001b[36mW\u001b[39m: \u001b[32mMatrix\u001b[39m[\u001b[32mDouble\u001b[39m] = vecxt.matrix$Matrix@47a157f8\n",
       "\u001b[36mchars\u001b[39m: \u001b[32mVector\u001b[39m[\u001b[32mChar\u001b[39m] = \u001b[33mVector\u001b[39m(\n",
       "  \u001b[32m'.'\u001b[39m,\n",
       "  \u001b[32m'a'\u001b[39m,\n",
       "  \u001b[32m'b'\u001b[39m,\n",
       "  \u001b[32m'c'\u001b[39m,\n",
       "  \u001b[32m'd'\u001b[39m,\n",
       "  \u001b[32m'e'\u001b[39m,\n",
       "  \u001b[32m'f'\u001b[39m,\n",
       "  \u001b[32m'g'\u001b[39m,\n",
       "  \u001b[32m'h'\u001b[39m,\n",
       "  \u001b[32m'i'\u001b[39m,\n",
       "  \u001b[32m'j'\u001b[39m,\n",
       "  \u001b[32m'k'\u001b[39m,\n",
       "  \u001b[32m'l'\u001b[39m,\n",
       "  \u001b[32m'm'\u001b[39m,\n",
       "  \u001b[32m'n'\u001b[39m,\n",
       "  \u001b[32m'o'\u001b[39m,\n",
       "  \u001b[32m'p'\u001b[39m,\n",
       "  \u001b[32m'q'\u001b[39m,\n",
       "  \u001b[32m'r'\u001b[39m,\n",
       "  \u001b[32m's'\u001b[39m,\n",
       "  \u001b[32m't'\u001b[39m,\n",
       "  \u001b[32m'u'\u001b[39m,\n",
       "  \u001b[32m'v'\u001b[39m,\n",
       "  \u001b[32m'w'\u001b[39m,\n",
       "  \u001b[32m'x'\u001b[39m,\n",
       "  \u001b[32m'y'\u001b[39m,\n",
       "  \u001b[32m'z'\u001b[39m\n",
       ")\n",
       "\u001b[36mcharsIndex\u001b[39m: \u001b[32mVector\u001b[39m[\u001b[32mInt\u001b[39m] = \u001b[33mVector\u001b[39m(\n",
       "  \u001b[32m0\u001b[39m,\n",
       "  \u001b[32m1\u001b[39m,\n",
       "  \u001b[32m2\u001b[39m,\n",
       "  \u001b[32m3\u001b[39m,\n",
       "  \u001b[32m4\u001b[39m,\n",
       "  \u001b[32m5\u001b[39m,\n",
       "  \u001b[32m6\u001b[39m,\n",
       "  \u001b[32m7\u001b[39m,\n",
       "  \u001b[32m8\u001b[39m,\n",
       "  \u001b[32m9\u001b[39m,\n",
       "  \u001b[32m10\u001b[39m,\n",
       "  \u001b[32m11\u001b[39m,\n",
       "  \u001b[32m12\u001b[39m,\n",
       "  \u001b[32m13\u001b[39m,\n",
       "  \u001b[32m14\u001b[39m,\n",
       "  \u001b[32m15\u001b[39m,\n",
       "  \u001b[32m16\u001b[39m,\n",
       "  \u001b[32m17\u001b[39m,\n",
       "  \u001b[32m18\u001b[39m,\n",
       "  \u001b[32m19\u001b[39m,\n",
       "  \u001b[32m20\u001b[39m,\n",
       "  \u001b[32m21\u001b[39m,\n",
       "  \u001b[32m22\u001b[39m,\n",
       "  \u001b[32m23\u001b[39m,\n",
       "  \u001b[32m24\u001b[39m,\n",
       "  \u001b[32m25\u001b[39m,\n",
       "  \u001b[32m26\u001b[39m\n",
       ")\n",
       "\u001b[36mcharsMap\u001b[39m: \u001b[32mMap\u001b[39m[\u001b[32mChar\u001b[39m, \u001b[32mInt\u001b[39m] = \u001b[33mHashMap\u001b[39m(\n",
       "  \u001b[32m'e'\u001b[39m -> \u001b[32m5\u001b[39m,\n",
       "  \u001b[32m'n'\u001b[39m -> \u001b[32m14\u001b[39m,\n",
       "  \u001b[32m'.'\u001b[39m -> \u001b[32m0\u001b[39m,\n",
       "  \u001b[32m't'\u001b[39m -> \u001b[32m20\u001b[39m,\n",
       "  \u001b[32m'a'\u001b[39m -> \u001b[32m1\u001b[39m,\n",
       "  \u001b[32m'm'\u001b[39m -> \u001b[32m13\u001b[39m,\n",
       "  \u001b[32m'i'\u001b[39m -> \u001b[32m9\u001b[39m,\n",
       "  \u001b[32m'v'\u001b[39m -> \u001b[32m22\u001b[39m,\n",
       "  \u001b[32m'p'\u001b[39m -> \u001b[32m16\u001b[39m,\n",
       "  \u001b[32m'r'\u001b[39m -> \u001b[32m18\u001b[39m,\n",
       "  \u001b[32m'w'\u001b[39m -> \u001b[32m23\u001b[39m,\n",
       "  \u001b[32m'k'\u001b[39m -> \u001b[32m11\u001b[39m,\n",
       "  \u001b[32m's'\u001b[39m -> \u001b[32m19\u001b[39m,\n",
       "  \u001b[32m'x'\u001b[39m -> \u001b[32m24\u001b[39m,\n",
       "  \u001b[32m'j'\u001b[39m -> \u001b[32m10\u001b[39m,\n",
       "  \u001b[32m'y'\u001b[39m -> \u001b[32m25\u001b[39m,\n",
       "  \u001b[32m'u'\u001b[39m -> \u001b[32m21\u001b[39m,\n",
       "  \u001b[32m'f'\u001b[39m -> \u001b[32m6\u001b[39m,\n",
       "  \u001b[32m'q'\u001b[39m -> \u001b[32m17\u001b[39m,\n",
       "  \u001b[32m'b'\u001b[39m -> \u001b[32m2\u001b[39m,\n",
       "  \u001b[32m'g'\u001b[39m -> \u001b[32m7\u001b[39m,\n",
       "  \u001b[32m'l'\u001b[39m -> \u001b[32m12\u001b[39m,\n",
       "  \u001b[32m'c'\u001b[39m -> \u001b[32m3\u001b[39m,\n",
       "  \u001b[32m'h'\u001b[39m -> \u001b[32m8\u001b[39m,\n",
       "  \u001b[32m'o'\u001b[39m -> \u001b[32m15\u001b[39m,\n",
       "  \u001b[32m'z'\u001b[39m -> \u001b[32m26\u001b[39m,\n",
       "  \u001b[32m'd'\u001b[39m -> \u001b[32m4\u001b[39m\n",
       ")\n",
       "\u001b[36mi2c\u001b[39m: \u001b[32mMap\u001b[39m[\u001b[32mInt\u001b[39m, \u001b[32mChar\u001b[39m] = \u001b[33mHashMap\u001b[39m(\n",
       "  \u001b[32m0\u001b[39m -> \u001b[32m'.'\u001b[39m,\n",
       "  \u001b[32m5\u001b[39m -> \u001b[32m'e'\u001b[39m,\n",
       "  \u001b[32m10\u001b[39m -> \u001b[32m'j'\u001b[39m,\n",
       "  \u001b[32m14\u001b[39m -> \u001b[32m'n'\u001b[39m,\n",
       "  \u001b[32m20\u001b[39m -> \u001b[32m't'\u001b[39m,\n",
       "  \u001b[32m1\u001b[39m -> \u001b[32m'a'\u001b[39m,\n",
       "  \u001b[32m6\u001b[39m -> \u001b[32m'f'\u001b[39m,\n",
       "  \u001b[32m21\u001b[39m -> \u001b[32m'u'\u001b[39m,\n",
       "  \u001b[32m9\u001b[39m -> \u001b[32m'i'\u001b[39m,\n",
       "  \u001b[32m13\u001b[39m -> \u001b[32m'm'\u001b[39m,\n",
       "  \u001b[32m2\u001b[39m -> \u001b[32m'b'\u001b[39m,\n",
       "  \u001b[32m17\u001b[39m -> \u001b[32m'q'\u001b[39m,\n",
       "  \u001b[32m22\u001b[39m -> \u001b[32m'v'\u001b[39m,\n",
       "  \u001b[32m12\u001b[39m -> \u001b[32m'l'\u001b[39m,\n",
       "  \u001b[32m7\u001b[39m -> \u001b[32m'g'\u001b[39m,\n",
       "  \u001b[32m3\u001b[39m -> \u001b[32m'c'\u001b[39m,\n",
       "  \u001b[32m18\u001b[39m -> \u001b[32m'r'\u001b[39m,\n",
       "  \u001b[32m16\u001b[39m -> \u001b[32m'p'\u001b[39m,\n",
       "  \u001b[32m11\u001b[39m -> \u001b[32m'k'\u001b[39m,\n",
       "  \u001b[32m8\u001b[39m -> \u001b[32m'h'\u001b[39m,\n",
       "  \u001b[32m19\u001b[39m -> \u001b[32m's'\u001b[39m,\n",
       "  \u001b[32m4\u001b[39m -> \u001b[32m'd'\u001b[39m,\n",
       "  \u001b[32m15\u001b[39m -> \u001b[32m'o'\u001b[39m,\n",
       "  \u001b[32m24\u001b[39m -> \u001b[32m'x'\u001b[39m,\n",
       "  \u001b[32m25\u001b[39m -> \u001b[32m'y'\u001b[39m,\n",
       "  \u001b[32m26\u001b[39m -> \u001b[32m'z'\u001b[39m,\n",
       "  \u001b[32m23\u001b[39m -> \u001b[32m'w'\u001b[39m\n",
       ")\n",
       "\u001b[36mdata\u001b[39m: \u001b[32mCsvIterator\u001b[39m[(io.github.quafadas.scautable.CsvIterator[scala.Tuple1[\"name\"], scala.*:[scala.Predef.String, scala.Tuple$package.EmptyTuple]]), \u001b[32m*:\u001b[39m[\u001b[32mString\u001b[39m, \u001b[32mEmptyTuple\u001b[39m]] = \u001b[32mempty iterator\u001b[39m\n",
       "\u001b[36mbookended\u001b[39m: \u001b[32mLazyList\u001b[39m[\u001b[32mNamedTuple\u001b[39m[\u001b[32m*:\u001b[39m[scala.collection.immutable.LazyList[scala.NamedTuple.NamedTuple[scala.*:[\"name\", scala.*:[\"Bookend\", scala.*:[\"Pairs\", scala.*:[\"Ints\", scala.Tuple$package.EmptyTuple]]]], scala.*:[scala.Predef.String, scala.*:[scala.Predef.String, scala.*:[scala.collection.immutable.Seq[scala.Predef.String], scala.*:[scala.collection.immutable.Seq[scala.Int], scala.Tuple$package.EmptyTuple]]]]]], \u001b[32m*:\u001b[39m[scala.collection.immutable.LazyList[scala.NamedTuple.NamedTuple[scala.*:[\"name\", scala.*:[\"Bookend\", scala.*:[\"Pairs\", scala.*:[\"Ints\", scala.Tuple$package.EmptyTuple]]]], scala.*:[scala.Predef.String, scala.*:[scala.Predef.String, scala.*:[scala.collection.immutable.Seq[scala.Predef.String], scala.*:[scala.collection.immutable.Seq[scala.Int], scala.Tuple$package.EmptyTuple]]]]]], \u001b[32m*:\u001b[39m[scala.collection.immutable.LazyList[scala.NamedTuple.NamedTuple[scala.*:[\"name\", scala.*:[\"Bookend\", scala.*:[\"Pairs\", scala.*:[\"Ints\", scala.Tuple$package.EmptyTuple]]]], scala.*:[scala.Predef.String, scala.*:[scala.Predef.String, scala.*:[scala.collection.immutable.Seq[scala.Predef.String], scala.*:[scala.collection.immutable.Seq[scala.Int], scala.Tuple$package.EmptyTuple]]]]]], \u001b[32m*:\u001b[39m[scala.collection.immutable.LazyList[scala.NamedTuple.NamedTuple[scala.*:[\"name\", scala.*:[\"Bookend\", scala.*:[\"Pairs\", scala.*:[\"Ints\", scala.Tuple$package.EmptyTuple]]]], scala.*:[scala.Predef.String, scala.*:[scala.Predef.String, scala.*:[scala.collection.immutable.Seq[scala.Predef.String], scala.*:[scala.collection.immutable.Seq[scala.Int], scala.Tuple$package.EmptyTuple]]]]]], \u001b[32mEmptyTuple\u001b[39m]]]], \u001b[32m*:\u001b[39m[\u001b[32mString\u001b[39m, \u001b[32m*:\u001b[39m[\u001b[32mString\u001b[39m, \u001b[32m*:\u001b[39m[\u001b[32mSeq\u001b[39m[\u001b[32mString\u001b[39m], \u001b[32m*:\u001b[39m[\u001b[32mSeq\u001b[39m[\u001b[32mInt\u001b[39m], \u001b[32mEmptyTuple\u001b[39m]]]]]] = \u001b[33mLazyList\u001b[39m(\n",
       "  (\n",
       "    \u001b[32m\"emma\"\u001b[39m,\n",
       "    \u001b[32m\".emma.\"\u001b[39m,\n",
       "    \u001b[33mList\u001b[39m(\u001b[32m\".e\"\u001b[39m, \u001b[32m\"em\"\u001b[39m, \u001b[32m\"mm\"\u001b[39m, \u001b[32m\"ma\"\u001b[39m, \u001b[32m\"a.\"\u001b[39m),\n",
       "    \u001b[33mArraySeq\u001b[39m(\u001b[32m0\u001b[39m, \u001b[32m5\u001b[39m, \u001b[32m13\u001b[39m, \u001b[32m13\u001b[39m, \u001b[32m1\u001b[39m, \u001b[32m0\u001b[39m)\n",
       "  ),\n",
       "  (\n",
       "    \u001b[32m\"olivia\"\u001b[39m,\n",
       "    \u001b[32m\".olivia.\"\u001b[39m,\n",
       "    \u001b[33mList\u001b[39m(\u001b[32m\".o\"\u001b[39m, \u001b[32m\"ol\"\u001b[39m, \u001b[32m\"li\"\u001b[39m, \u001b[32m\"iv\"\u001b[39m, \u001b[32m\"vi\"\u001b[39m, \u001b[32m\"ia\"\u001b[39m, \u001b[32m\"a.\"\u001b[39m),\n",
       "    \u001b[33mArraySeq\u001b[39m(\u001b[32m0\u001b[39m, \u001b[32m15\u001b[39m, \u001b[32m12\u001b[39m, \u001b[32m9\u001b[39m, \u001b[32m22\u001b[39m, \u001b[32m9\u001b[39m, \u001b[32m1\u001b[39m, \u001b[32m0\u001b[39m)\n",
       "  ),\n",
       "  (\u001b[32m\"ava\"\u001b[39m, \u001b[32m\".ava.\"\u001b[39m, \u001b[33mList\u001b[39m(\u001b[32m\".a\"\u001b[39m, \u001b[32m\"av\"\u001b[39m, \u001b[32m\"va\"\u001b[39m, \u001b[32m\"a.\"\u001b[39m), \u001b[33mArraySeq\u001b[39m(\u001b[32m0\u001b[39m, \u001b[32m1\u001b[39m, \u001b[32m22\u001b[39m, \u001b[32m1\u001b[39m, \u001b[32m0\u001b[39m)),\n",
       "  (\n",
       "    \u001b[32m\"isabella\"\u001b[39m,\n",
       "    \u001b[32m\".isabella.\"\u001b[39m,\n",
       "    \u001b[33mList\u001b[39m(\u001b[32m\".i\"\u001b[39m, \u001b[32m\"is\"\u001b[39m, \u001b[32m\"sa\"\u001b[39m, \u001b[32m\"ab\"\u001b[39m, \u001b[32m\"be\"\u001b[39m, \u001b[32m\"el\"\u001b[39m, \u001b[32m\"ll\"\u001b[39m, \u001b[32m\"la\"\u001b[39m, \u001b[32m\"a.\"\u001b[39m),\n",
       "    \u001b[33mArraySeq\u001b[39m(\u001b[32m0\u001b[39m, \u001b[32m9\u001b[39m, \u001b[32m19\u001b[39m, \u001b[32m1\u001b[39m, \u001b[32m2\u001b[39m, \u001b[32m5\u001b[39m, \u001b[32m12\u001b[39m, \u001b[32m12\u001b[39m, \u001b[32m1\u001b[39m, \u001b[32m0\u001b[39m)\n",
       "...\n",
       "\u001b[36mtrainData\u001b[39m: \u001b[32mArray\u001b[39m[\u001b[32mNamedTuple\u001b[39m[\u001b[32m*:\u001b[39m[scala.Array[scala.NamedTuple.NamedTuple[scala.*:[\"first\", scala.*:[\"last\", scala.*:[\"target\", scala.*:[\"xenc\", scala.Tuple$package.EmptyTuple]]]], scala.*:[scala.Char, scala.*:[scala.Char, scala.*:[scala.Int, scala.*:[scala.Array[scala.Double], scala.Tuple$package.EmptyTuple]]]]]], \u001b[32m*:\u001b[39m[scala.Array[scala.NamedTuple.NamedTuple[scala.*:[\"first\", scala.*:[\"last\", scala.*:[\"target\", scala.*:[\"xenc\", scala.Tuple$package.EmptyTuple]]]], scala.*:[scala.Char, scala.*:[scala.Char, scala.*:[scala.Int, scala.*:[scala.Array[scala.Double], scala.Tuple$package.EmptyTuple]]]]]], \u001b[32m*:\u001b[39m[scala.Array[scala.NamedTuple.NamedTuple[scala.*:[\"first\", scala.*:[\"last\", scala.*:[\"target\", scala.*:[\"xenc\", scala.Tuple$package.EmptyTuple]]]], scala.*:[scala.Char, scala.*:[scala.Char, scala.*:[scala.Int, scala.*:[scala.Array[scala.Double], scala.Tuple$package.EmptyTuple]]]]]], \u001b[32m*:\u001b[39m[scala.Array[scala.NamedTuple.NamedTuple[scala.*:[\"first\", scala.*:[\"last\", scala.*:[\"target\", scala.*:[\"xenc\", scala.Tuple$package.EmptyTuple]]]], scala.*:[scala.Char, scala.*:[scala.Char, scala.*:[scala.Int, scala.*:[scala.Array[scala.Double], scala.Tuple$package.EmptyTuple]]]]]], \u001b[32mEmptyTuple\u001b[39m]]]], \u001b[32m*:\u001b[39m[\u001b[32mChar\u001b[39m, \u001b[32m*:\u001b[39m[\u001b[32mChar\u001b[39m, \u001b[32m*:\u001b[39m[\u001b[32mInt\u001b[39m, \u001b[32m*:\u001b[39m[\u001b[32mArray\u001b[39m[\u001b[32mDouble\u001b[39m], \u001b[32mEmptyTuple\u001b[39m]]]]]] = \u001b[33mArray\u001b[39m(\n",
       "  (\n",
       "    \u001b[32m'.'\u001b[39m,\n",
       "    \u001b[32m'e'\u001b[39m,\n",
       "    \u001b[32m5\u001b[39m,\n",
       "    \u001b[33mArray\u001b[39m(\n",
       "      \u001b[32m1.0\u001b[39m,\n",
       "      \u001b[32m0.0\u001b[39m,\n",
       "      \u001b[32m0.0\u001b[39m,\n",
       "      \u001b[32m0.0\u001b[39m,\n",
       "      \u001b[32m0.0\u001b[39m,\n",
       "      \u001b[32m0.0\u001b[39m,\n",
       "      \u001b[32m0.0\u001b[39m,\n",
       "      \u001b[32m0.0\u001b[39m,\n",
       "      \u001b[32m0.0\u001b[39m,\n",
       "      \u001b[32m0.0\u001b[39m,\n",
       "      \u001b[32m0.0\u001b[39m,\n",
       "      \u001b[32m0.0\u001b[39m,\n",
       "      \u001b[32m0.0\u001b[39m,\n",
       "      \u001b[32m0.0\u001b[39m,\n",
       "      \u001b[32m0.0\u001b[39m,\n",
       "      \u001b[32m0.0\u001b[39m,\n",
       "      \u001b[32m0.0\u001b[39m,\n",
       "      \u001b[32m0.0\u001b[39m,\n",
       "...\n",
       "\u001b[36myChars\u001b[39m: \u001b[32mArraySeq\u001b[39m[\u001b[32mInt\u001b[39m] = \u001b[33mArraySeq\u001b[39m(\n",
       "  \u001b[32m5\u001b[39m,\n",
       "  \u001b[32m13\u001b[39m,\n",
       "  \u001b[32m13\u001b[39m,\n",
       "  \u001b[32m1\u001b[39m,\n",
       "  \u001b[32m0\u001b[39m,\n",
       "  \u001b[32m15\u001b[39m,\n",
       "  \u001b[32m12\u001b[39m,\n",
       "  \u001b[32m9\u001b[39m,\n",
       "  \u001b[32m22\u001b[39m,\n",
       "  \u001b[32m9\u001b[39m,\n",
       "  \u001b[32m1\u001b[39m,\n",
       "  \u001b[32m0\u001b[39m,\n",
       "  \u001b[32m1\u001b[39m,\n",
       "  \u001b[32m22\u001b[39m,\n",
       "  \u001b[32m1\u001b[39m,\n",
       "  \u001b[32m0\u001b[39m,\n",
       "  \u001b[32m9\u001b[39m,\n",
       "  \u001b[32m19\u001b[39m,\n",
       "  \u001b[32m1\u001b[39m,\n",
       "  \u001b[32m2\u001b[39m,\n",
       "  \u001b[32m5\u001b[39m,\n",
       "  \u001b[32m12\u001b[39m,\n",
       "  \u001b[32m12\u001b[39m,\n",
       "  \u001b[32m1\u001b[39m,\n",
       "  \u001b[32m0\u001b[39m,\n",
       "  \u001b[32m19\u001b[39m,\n",
       "  \u001b[32m15\u001b[39m,\n",
       "  \u001b[32m16\u001b[39m,\n",
       "  \u001b[32m8\u001b[39m,\n",
       "  \u001b[32m9\u001b[39m,\n",
       "  \u001b[32m1\u001b[39m,\n",
       "  \u001b[32m0\u001b[39m,\n",
       "  \u001b[32m3\u001b[39m,\n",
       "  \u001b[32m8\u001b[39m,\n",
       "  \u001b[32m1\u001b[39m,\n",
       "  \u001b[32m18\u001b[39m,\n",
       "  \u001b[32m12\u001b[39m,\n",
       "  \u001b[32m15\u001b[39m,\n",
       "...\n",
       "\u001b[36mxencMall\u001b[39m: \u001b[32mMatrix\u001b[39m[\u001b[32mDouble\u001b[39m] = vecxt.matrix$Matrix@3e5a130f"
      ]
     },
     "execution_count": 2,
     "metadata": {},
     "output_type": "execute_result"
    }
   ],
   "source": [
    "import cats.syntax.all.toShow\n",
    "import vecxt.all.Matrix\n",
    "import vecxt.matrixUtil.row\n",
    "import vecxt.all.fromRowsArray\n",
    "import vecxt.BoundsCheck.DoBoundsCheck.yes\n",
    "\n",
    "val normalDist = new org.apache.commons.math3.distribution.NormalDistribution()\n",
    "val smooth = true\n",
    "\n",
    "val dimensions = 27 * 27\n",
    "\n",
    "def saveMatrixToCSV(matrix: Matrix[Double], filePath: String): Unit =\n",
    "  val lines = for (i <- 0 until matrix.rows) yield matrix.row(i).mkString(\",\")\n",
    "  os.write.over(os.Path(filePath, os.pwd), lines.mkString(\"\\n\"))\n",
    "\n",
    "def loadMatrixFromCSV(filePath: String)(using\n",
    "    ClassTag[Double]\n",
    "): Matrix[Double] =\n",
    "  import vecxt.BoundsCheck.DoBoundsCheck.yes\n",
    "  val lines = os.read.lines(os.Path(filePath, os.pwd))\n",
    "  val data = lines.map(_.split(\",\").map(_.toDouble)).toArray\n",
    "  Matrix.fromRowsArray(data)\n",
    "\n",
    "def onehot(char: Char, allChars: collection.Map[Char, Int]): Array[Double] =\n",
    "  val idx2 = allChars(char)\n",
    "  Array.fill(allChars.size)(0.0).tap(_(idx2) = 1.0)\n",
    "\n",
    "\n",
    "val generateWeights = true\n",
    "val W = if (generateWeights)\n",
    "  val randoms = Array.fill(dimensions)(normalDist.sample())\n",
    "  val tmp = Matrix(randoms, (27, 27))\n",
    "  saveMatrixToCSV(tmp, \"weights.csv\")\n",
    "  tmp\n",
    "else\n",
    "  loadMatrixFromCSV(\"weights.csv\")\n",
    "\n",
    "val chars = '.' +: ('a' to 'z').toVector\n",
    "val charsIndex = (0 to 26).toVector\n",
    "val charsMap = chars.zip(charsIndex).toMap\n",
    "val i2c = charsIndex.zip(chars).toMap\n",
    "\n",
    "val data = CSV.pwd(\"names.txt\")\n",
    "\n",
    "/** Bookended : adds \".\"to either end of the string Pairs : extracts the\n",
    "  * series of pairs of the bookended characters characters Ints : indexes the\n",
    "  * bookended characters xenc : one hot encodes the characters excluding the\n",
    "  * last character\n",
    "  */\n",
    "val bookended = LazyList.from(\n",
    "  data\n",
    "  .addColumn[\"Bookend\", String](s => s\".${s.name}.\")\n",
    "  .addColumn[\"Pairs\", Seq[String]](s => s.Bookend.sliding(2).toSeq)\n",
    "  .addColumn[\"Ints\", Seq[Int]](s => s.Bookend.map(charsMap.seq))\n",
    ")\n",
    "\n",
    "println(\"Change lange to neural network\")\n",
    "println(s\"Check Data\")\n",
    "println(bookended.take(5).mkString(\"\\n\"))\n",
    "\n",
    "val trainData = bookended\n",
    "  .flatMap(_.Pairs)\n",
    "  .map(p => (first = p.head, last = p.last))\n",
    "  .addColumn[\"target\", Int](row => charsMap(row.last))\n",
    "  .addColumn[\"xenc\", Array[Double]](row => onehot(row.first, charsMap.seq))\n",
    "  .toArray\n",
    "\n",
    "trainData.take(5).mapColumn[\"xenc\", String](_.mkString(\"[\", \",\", \"]\")).toSeq.ptbln\n",
    "\n",
    "val yChars = trainData.column[\"target\"]\n",
    "\n",
    "val xencMall: Matrix[Double] = Matrix.fromRowsArray(\n",
    "  trainData.column[\"xenc\"].toArray\n",
    ")\n"
   ]
  },
  {
   "cell_type": "code",
   "execution_count": null,
   "id": "417765f5",
   "metadata": {},
   "outputs": [
    {
     "name": "stderr",
     "output_type": "stream",
     "text": [
      "Resolving package/object name conflict in favor of package spire.compat. The object will be inaccessible.\n"
     ]
    },
    {
     "name": "stdout",
     "output_type": "stream",
     "text": [
      "-- Begin Training run...\n",
      "Initial weights shape: (27,27)\n",
      "Input data shape: (228146,27)\n",
      "Target data shape: 228146\n",
      "First 5 target characters: 5, 13, 13, 1, 0\n",
      "51\n"
     ]
    },
    {
     "name": "stderr",
     "output_type": "stream",
     "text": [
      "Oct 31, 2025 9:14:57 PM dev.ludovic.netlib.blas.InstanceBuilder initializeNative\n",
      "WARNING: Failed to load implementation from:dev.ludovic.netlib.blas.JNIBLAS\n"
     ]
    },
    {
     "data": {
      "application/vnd.vega.v5+json": {
       "$schema": "https://vega.github.io/schema/vega-lite/v5.json",
       "data": {
        "values": [
         {
          "first": "e",
          "second": "e",
          "value": 0
         },
         {
          "first": "e",
          "second": "n",
          "value": 4
         },
         {
          "first": "e",
          "second": ".",
          "value": 315
         },
         {
          "first": "e",
          "second": "t",
          "value": 0
         },
         {
          "first": "e",
          "second": "a",
          "value": 0
         },
         {
          "first": "e",
          "second": "m",
          "value": 0
         },
         {
          "first": "e",
          "second": "i",
          "value": 0
         },
         {
          "first": "e",
          "second": "v",
          "value": 0
         },
         {
          "first": "e",
          "second": "p",
          "value": 0
         },
         {
          "first": "e",
          "second": "r",
          "value": 0
         },
         {
          "first": "e",
          "second": "w",
          "value": 0
         },
         {
          "first": "e",
          "second": "k",
          "value": 0
         },
         {
          "first": "e",
          "second": "s",
          "value": 0
         },
         {
          "first": "e",
          "second": "x",
          "value": 0
         },
         {
          "first": "e",
          "second": "j",
          "value": 0
         },
         {
          "first": "e",
          "second": "y",
          "value": 0
         },
         {
          "first": "e",
          "second": "u",
          "value": 0
         },
         {
          "first": "e",
          "second": "f",
          "value": 0
         },
         {
          "first": "e",
          "second": "q",
          "value": 0
         },
         {
          "first": "e",
          "second": "b",
          "value": 0
         },
         {
          "first": "e",
          "second": "g",
          "value": 0
         },
         {
          "first": "e",
          "second": "l",
          "value": 29
         },
         {
          "first": "e",
          "second": "c",
          "value": 0
         },
         {
          "first": "e",
          "second": "h",
          "value": 0
         },
         {
          "first": "e",
          "second": "o",
          "value": 0
         },
         {
          "first": "e",
          "second": "z",
          "value": 0
         },
         {
          "first": "e",
          "second": "d",
          "value": 0
         },
         {
          "first": "n",
          "second": "e",
          "value": 0
         },
         {
          "first": "n",
          "second": "n",
          "value": 0
         },
         {
          "first": "n",
          "second": ".",
          "value": 349
         },
         {
          "first": "n",
          "second": "t",
          "value": 0
         },
         {
          "first": "n",
          "second": "a",
          "value": 0
         },
         {
          "first": "n",
          "second": "m",
          "value": 0
         },
         {
          "first": "n",
          "second": "i",
          "value": 0
         },
         {
          "first": "n",
          "second": "v",
          "value": 0
         },
         {
          "first": "n",
          "second": "p",
          "value": 0
         },
         {
          "first": "n",
          "second": "r",
          "value": 0
         },
         {
          "first": "n",
          "second": "w",
          "value": 0
         },
         {
          "first": "n",
          "second": "k",
          "value": 0
         },
         {
          "first": "n",
          "second": "s",
          "value": 0
         },
         {
          "first": "n",
          "second": "x",
          "value": 0
         },
         {
          "first": "n",
          "second": "j",
          "value": 0
         },
         {
          "first": "n",
          "second": "y",
          "value": 0
         },
         {
          "first": "n",
          "second": "u",
          "value": 0
         },
         {
          "first": "n",
          "second": "f",
          "value": 0
         },
         {
          "first": "n",
          "second": "q",
          "value": 0
         },
         {
          "first": "n",
          "second": "b",
          "value": 0
         },
         {
          "first": "n",
          "second": "g",
          "value": 0
         },
         {
          "first": "n",
          "second": "l",
          "value": 0
         },
         {
          "first": "n",
          "second": "c",
          "value": 0
         },
         {
          "first": "n",
          "second": "h",
          "value": 0
         },
         {
          "first": "n",
          "second": "o",
          "value": 0
         },
         {
          "first": "n",
          "second": "z",
          "value": 0
         },
         {
          "first": "n",
          "second": "d",
          "value": 0
         },
         {
          "first": ".",
          "second": "e",
          "value": 0
         },
         {
          "first": ".",
          "second": "n",
          "value": 0
         },
         {
          "first": ".",
          "second": ".",
          "value": 0
         },
         {
          "first": ".",
          "second": "t",
          "value": 0
         },
         {
          "first": ".",
          "second": "a",
          "value": 340
         },
         {
          "first": ".",
          "second": "m",
          "value": 3
         },
         {
          "first": ".",
          "second": "i",
          "value": 0
         },
         {
          "first": ".",
          "second": "v",
          "value": 0
         },
         {
          "first": ".",
          "second": "p",
          "value": 0
         },
         {
          "first": ".",
          "second": "r",
          "value": 0
         },
         {
          "first": ".",
          "second": "w",
          "value": 0
         },
         {
          "first": ".",
          "second": "k",
          "value": 0
         },
         {
          "first": ".",
          "second": "s",
          "value": 0
         },
         {
          "first": ".",
          "second": "x",
          "value": 0
         },
         {
          "first": ".",
          "second": "j",
          "value": 3
         },
         {
          "first": ".",
          "second": "y",
          "value": 0
         },
         {
          "first": ".",
          "second": "u",
          "value": 0
         },
         {
          "first": ".",
          "second": "f",
          "value": 0
         },
         {
          "first": ".",
          "second": "q",
          "value": 0
         },
         {
          "first": ".",
          "second": "b",
          "value": 0
         },
         {
          "first": ".",
          "second": "g",
          "value": 0
         },
         {
          "first": ".",
          "second": "l",
          "value": 0
         },
         {
          "first": ".",
          "second": "c",
          "value": 0
         },
         {
          "first": ".",
          "second": "h",
          "value": 0
         },
         {
          "first": ".",
          "second": "o",
          "value": 0
         },
         {
          "first": ".",
          "second": "z",
          "value": 0
         },
         {
          "first": ".",
          "second": "d",
          "value": 0
         },
         {
          "first": "t",
          "second": "e",
          "value": 28
         },
         {
          "first": "t",
          "second": "n",
          "value": 4
         },
         {
          "first": "t",
          "second": ".",
          "value": 16
         },
         {
          "first": "t",
          "second": "t",
          "value": 14
         },
         {
          "first": "t",
          "second": "a",
          "value": 129
         },
         {
          "first": "t",
          "second": "m",
          "value": 2
         },
         {
          "first": "t",
          "second": "i",
          "value": 25
         },
         {
          "first": "t",
          "second": "v",
          "value": 5
         },
         {
          "first": "t",
          "second": "p",
          "value": 4
         },
         {
          "first": "t",
          "second": "r",
          "value": 15
         },
         {
          "first": "t",
          "second": "w",
          "value": 2
         },
         {
          "first": "t",
          "second": "k",
          "value": 3
         },
         {
          "first": "t",
          "second": "s",
          "value": 4
         },
         {
          "first": "t",
          "second": "x",
          "value": 1
         },
         {
          "first": "t",
          "second": "j",
          "value": 3
         },
         {
          "first": "t",
          "second": "y",
          "value": 5
         },
         {
          "first": "t",
          "second": "u",
          "value": 7
         },
         {
          "first": "t",
          "second": "f",
          "value": 5
         },
         {
          "first": "t",
          "second": "q",
          "value": 4
         },
         {
          "first": "t",
          "second": "b",
          "value": 3
         },
         {
          "first": "t",
          "second": "g",
          "value": 3
         },
         {
          "first": "t",
          "second": "l",
          "value": 2
         },
         {
          "first": "t",
          "second": "c",
          "value": 1
         },
         {
          "first": "t",
          "second": "h",
          "value": 35
         },
         {
          "first": "t",
          "second": "o",
          "value": 7
         },
         {
          "first": "t",
          "second": "z",
          "value": 7
         },
         {
          "first": "t",
          "second": "d",
          "value": 2
         },
         {
          "first": "a",
          "second": "e",
          "value": 0
         },
         {
          "first": "a",
          "second": "n",
          "value": 333
         },
         {
          "first": "a",
          "second": ".",
          "value": 15
         },
         {
          "first": "a",
          "second": "t",
          "value": 0
         },
         {
          "first": "a",
          "second": "a",
          "value": 0
         },
         {
          "first": "a",
          "second": "m",
          "value": 0
         },
         {
          "first": "a",
          "second": "i",
          "value": 0
         },
         {
          "first": "a",
          "second": "v",
          "value": 0
         },
         {
          "first": "a",
          "second": "p",
          "value": 0
         },
         {
          "first": "a",
          "second": "r",
          "value": 0
         },
         {
          "first": "a",
          "second": "w",
          "value": 0
         },
         {
          "first": "a",
          "second": "k",
          "value": 0
         },
         {
          "first": "a",
          "second": "s",
          "value": 0
         },
         {
          "first": "a",
          "second": "x",
          "value": 0
         },
         {
          "first": "a",
          "second": "j",
          "value": 0
         },
         {
          "first": "a",
          "second": "y",
          "value": 0
         },
         {
          "first": "a",
          "second": "u",
          "value": 0
         },
         {
          "first": "a",
          "second": "f",
          "value": 0
         },
         {
          "first": "a",
          "second": "q",
          "value": 0
         },
         {
          "first": "a",
          "second": "b",
          "value": 0
         },
         {
          "first": "a",
          "second": "g",
          "value": 0
         },
         {
          "first": "a",
          "second": "l",
          "value": 0
         },
         {
          "first": "a",
          "second": "c",
          "value": 0
         },
         {
          "first": "a",
          "second": "h",
          "value": 0
         },
         {
          "first": "a",
          "second": "o",
          "value": 0
         },
         {
          "first": "a",
          "second": "z",
          "value": 0
         },
         {
          "first": "a",
          "second": "d",
          "value": 0
         },
         {
          "first": "m",
          "second": "e",
          "value": 1
         },
         {
          "first": "m",
          "second": "n",
          "value": 0
         },
         {
          "first": "m",
          "second": ".",
          "value": 0
         },
         {
          "first": "m",
          "second": "t",
          "value": 0
         },
         {
          "first": "m",
          "second": "a",
          "value": 340
         },
         {
          "first": "m",
          "second": "m",
          "value": 0
         },
         {
          "first": "m",
          "second": "i",
          "value": 5
         },
         {
          "first": "m",
          "second": "v",
          "value": 0
         },
         {
          "first": "m",
          "second": "p",
          "value": 0
         },
         {
          "first": "m",
          "second": "r",
          "value": 0
         },
         {
          "first": "m",
          "second": "w",
          "value": 0
         },
         {
          "first": "m",
          "second": "k",
          "value": 0
         },
         {
          "first": "m",
          "second": "s",
          "value": 0
         },
         {
          "first": "m",
          "second": "x",
          "value": 0
         },
         {
          "first": "m",
          "second": "j",
          "value": 0
         },
         {
          "first": "m",
          "second": "y",
          "value": 0
         },
         {
          "first": "m",
          "second": "u",
          "value": 0
         },
         {
          "first": "m",
          "second": "f",
          "value": 0
         },
         {
          "first": "m",
          "second": "q",
          "value": 0
         },
         {
          "first": "m",
          "second": "b",
          "value": 0
         },
         {
          "first": "m",
          "second": "g",
          "value": 0
         },
         {
          "first": "m",
          "second": "l",
          "value": 0
         },
         {
          "first": "m",
          "second": "c",
          "value": 0
         },
         {
          "first": "m",
          "second": "h",
          "value": 0
         },
         {
          "first": "m",
          "second": "o",
          "value": 0
         },
         {
          "first": "m",
          "second": "z",
          "value": 0
         },
         {
          "first": "m",
          "second": "d",
          "value": 0
         },
         {
          "first": "i",
          "second": "e",
          "value": 1
         },
         {
          "first": "i",
          "second": "n",
          "value": 71
         },
         {
          "first": "i",
          "second": ".",
          "value": 87
         },
         {
          "first": "i",
          "second": "t",
          "value": 0
         },
         {
          "first": "i",
          "second": "a",
          "value": 174
         },
         {
          "first": "i",
          "second": "m",
          "value": 0
         },
         {
          "first": "i",
          "second": "i",
          "value": 0
         },
         {
          "first": "i",
          "second": "v",
          "value": 0
         },
         {
          "first": "i",
          "second": "p",
          "value": 0
         },
         {
          "first": "i",
          "second": "r",
          "value": 0
         },
         {
          "first": "i",
          "second": "w",
          "value": 0
         },
         {
          "first": "i",
          "second": "k",
          "value": 0
         },
         {
          "first": "i",
          "second": "s",
          "value": 5
         },
         {
          "first": "i",
          "second": "x",
          "value": 0
         },
         {
          "first": "i",
          "second": "j",
          "value": 0
         },
         {
          "first": "i",
          "second": "y",
          "value": 0
         },
         {
          "first": "i",
          "second": "u",
          "value": 0
         },
         {
          "first": "i",
          "second": "f",
          "value": 0
         },
         {
          "first": "i",
          "second": "q",
          "value": 0
         },
         {
          "first": "i",
          "second": "b",
          "value": 0
         },
         {
          "first": "i",
          "second": "g",
          "value": 0
         },
         {
          "first": "i",
          "second": "l",
          "value": 5
         },
         {
          "first": "i",
          "second": "c",
          "value": 0
         },
         {
          "first": "i",
          "second": "h",
          "value": 0
         },
         {
          "first": "i",
          "second": "o",
          "value": 0
         },
         {
          "first": "i",
          "second": "z",
          "value": 0
         },
         {
          "first": "i",
          "second": "d",
          "value": 0
         },
         {
          "first": "v",
          "second": "e",
          "value": 5
         },
         {
          "first": "v",
          "second": "n",
          "value": 10
         },
         {
          "first": "v",
          "second": ".",
          "value": 1
         },
         {
          "first": "v",
          "second": "t",
          "value": 10
         },
         {
          "first": "v",
          "second": "a",
          "value": 40
         },
         {
          "first": "v",
          "second": "m",
          "value": 8
         },
         {
          "first": "v",
          "second": "i",
          "value": 159
         },
         {
          "first": "v",
          "second": "v",
          "value": 0
         },
         {
          "first": "v",
          "second": "p",
          "value": 7
         },
         {
          "first": "v",
          "second": "r",
          "value": 7
         },
         {
          "first": "v",
          "second": "w",
          "value": 1
         },
         {
          "first": "v",
          "second": "k",
          "value": 11
         },
         {
          "first": "v",
          "second": "s",
          "value": 1
         },
         {
          "first": "v",
          "second": "x",
          "value": 9
         },
         {
          "first": "v",
          "second": "j",
          "value": 8
         },
         {
          "first": "v",
          "second": "y",
          "value": 6
         },
         {
          "first": "v",
          "second": "u",
          "value": 5
         },
         {
          "first": "v",
          "second": "f",
          "value": 11
         },
         {
          "first": "v",
          "second": "q",
          "value": 1
         },
         {
          "first": "v",
          "second": "b",
          "value": 3
         },
         {
          "first": "v",
          "second": "g",
          "value": 6
         },
         {
          "first": "v",
          "second": "l",
          "value": 4
         },
         {
          "first": "v",
          "second": "c",
          "value": 7
         },
         {
          "first": "v",
          "second": "h",
          "value": 3
         },
         {
          "first": "v",
          "second": "o",
          "value": 11
         },
         {
          "first": "v",
          "second": "z",
          "value": 2
         },
         {
          "first": "v",
          "second": "d",
          "value": 4
         },
         {
          "first": "p",
          "second": "e",
          "value": 19
         },
         {
          "first": "p",
          "second": "n",
          "value": 3
         },
         {
          "first": "p",
          "second": ".",
          "value": 19
         },
         {
          "first": "p",
          "second": "t",
          "value": 31
         },
         {
          "first": "p",
          "second": "a",
          "value": 6
         },
         {
          "first": "p",
          "second": "m",
          "value": 12
         },
         {
          "first": "p",
          "second": "i",
          "value": 27
         },
         {
          "first": "p",
          "second": "v",
          "value": 13
         },
         {
          "first": "p",
          "second": "p",
          "value": 7
         },
         {
          "first": "p",
          "second": "r",
          "value": 3
         },
         {
          "first": "p",
          "second": "w",
          "value": 1
         },
         {
          "first": "p",
          "second": "k",
          "value": 18
         },
         {
          "first": "p",
          "second": "s",
          "value": 30
         },
         {
          "first": "p",
          "second": "x",
          "value": 5
         },
         {
          "first": "p",
          "second": "j",
          "value": 3
         },
         {
          "first": "p",
          "second": "y",
          "value": 3
         },
         {
          "first": "p",
          "second": "u",
          "value": 18
         },
         {
          "first": "p",
          "second": "f",
          "value": 6
         },
         {
          "first": "p",
          "second": "q",
          "value": 10
         },
         {
          "first": "p",
          "second": "b",
          "value": 8
         },
         {
          "first": "p",
          "second": "g",
          "value": 17
         },
         {
          "first": "p",
          "second": "l",
          "value": 22
         },
         {
          "first": "p",
          "second": "c",
          "value": 5
         },
         {
          "first": "p",
          "second": "h",
          "value": 12
         },
         {
          "first": "p",
          "second": "o",
          "value": 6
         },
         {
          "first": "p",
          "second": "z",
          "value": 20
         },
         {
          "first": "p",
          "second": "d",
          "value": 10
         },
         {
          "first": "r",
          "second": "e",
          "value": 5
         },
         {
          "first": "r",
          "second": "n",
          "value": 0
         },
         {
          "first": "r",
          "second": ".",
          "value": 1
         },
         {
          "first": "r",
          "second": "t",
          "value": 0
         },
         {
          "first": "r",
          "second": "a",
          "value": 49
         },
         {
          "first": "r",
          "second": "m",
          "value": 0
         },
         {
          "first": "r",
          "second": "i",
          "value": 291
         },
         {
          "first": "r",
          "second": "v",
          "value": 0
         },
         {
          "first": "r",
          "second": "p",
          "value": 0
         },
         {
          "first": "r",
          "second": "r",
          "value": 0
         },
         {
          "first": "r",
          "second": "w",
          "value": 0
         },
         {
          "first": "r",
          "second": "k",
          "value": 0
         },
         {
          "first": "r",
          "second": "s",
          "value": 0
         },
         {
          "first": "r",
          "second": "x",
          "value": 0
         },
         {
          "first": "r",
          "second": "j",
          "value": 0
         },
         {
          "first": "r",
          "second": "y",
          "value": 0
         },
         {
          "first": "r",
          "second": "u",
          "value": 0
         },
         {
          "first": "r",
          "second": "f",
          "value": 0
         },
         {
          "first": "r",
          "second": "q",
          "value": 0
         },
         {
          "first": "r",
          "second": "b",
          "value": 0
         },
         {
          "first": "r",
          "second": "g",
          "value": 0
         },
         {
          "first": "r",
          "second": "l",
          "value": 0
         },
         {
          "first": "r",
          "second": "c",
          "value": 0
         },
         {
          "first": "r",
          "second": "h",
          "value": 0
         },
         {
          "first": "r",
          "second": "o",
          "value": 0
         },
         {
          "first": "r",
          "second": "z",
          "value": 0
         },
         {
          "first": "r",
          "second": "d",
          "value": 0
         },
         {
          "first": "w",
          "second": "e",
          "value": 8
         },
         {
          "first": "w",
          "second": "n",
          "value": 3
         },
         {
          "first": "w",
          "second": ".",
          "value": 4
         },
         {
          "first": "w",
          "second": "t",
          "value": 7
         },
         {
          "first": "w",
          "second": "a",
          "value": 53
         },
         {
          "first": "w",
          "second": "m",
          "value": 3
         },
         {
          "first": "w",
          "second": "i",
          "value": 5
         },
         {
          "first": "w",
          "second": "v",
          "value": 6
         },
         {
          "first": "w",
          "second": "p",
          "value": 1
         },
         {
          "first": "w",
          "second": "r",
          "value": 18
         },
         {
          "first": "w",
          "second": "w",
          "value": 43
         },
         {
          "first": "w",
          "second": "k",
          "value": 3
         },
         {
          "first": "w",
          "second": "s",
          "value": 18
         },
         {
          "first": "w",
          "second": "x",
          "value": 8
         },
         {
          "first": "w",
          "second": "j",
          "value": 22
         },
         {
          "first": "w",
          "second": "y",
          "value": 7
         },
         {
          "first": "w",
          "second": "u",
          "value": 13
         },
         {
          "first": "w",
          "second": "f",
          "value": 1
         },
         {
          "first": "w",
          "second": "q",
          "value": 12
         },
         {
          "first": "w",
          "second": "b",
          "value": 20
         },
         {
          "first": "w",
          "second": "g",
          "value": 23
         },
         {
          "first": "w",
          "second": "l",
          "value": 16
         },
         {
          "first": "w",
          "second": "c",
          "value": 13
         },
         {
          "first": "w",
          "second": "h",
          "value": 5
         },
         {
          "first": "w",
          "second": "o",
          "value": 9
         },
         {
          "first": "w",
          "second": "z",
          "value": 11
         },
         {
          "first": "w",
          "second": "d",
          "value": 4
         },
         {
          "first": "k",
          "second": "e",
          "value": 10
         },
         {
          "first": "k",
          "second": "n",
          "value": 1
         },
         {
          "first": "k",
          "second": ".",
          "value": 5
         },
         {
          "first": "k",
          "second": "t",
          "value": 1
         },
         {
          "first": "k",
          "second": "a",
          "value": 292
         },
         {
          "first": "k",
          "second": "m",
          "value": 0
         },
         {
          "first": "k",
          "second": "i",
          "value": 4
         },
         {
          "first": "k",
          "second": "v",
          "value": 1
         },
         {
          "first": "k",
          "second": "p",
          "value": 0
         },
         {
          "first": "k",
          "second": "r",
          "value": 2
         },
         {
          "first": "k",
          "second": "w",
          "value": 1
         },
         {
          "first": "k",
          "second": "k",
          "value": 0
         },
         {
          "first": "k",
          "second": "s",
          "value": 1
         },
         {
          "first": "k",
          "second": "x",
          "value": 1
         },
         {
          "first": "k",
          "second": "j",
          "value": 0
         },
         {
          "first": "k",
          "second": "y",
          "value": 2
         },
         {
          "first": "k",
          "second": "u",
          "value": 1
         },
         {
          "first": "k",
          "second": "f",
          "value": 1
         },
         {
          "first": "k",
          "second": "q",
          "value": 1
         },
         {
          "first": "k",
          "second": "b",
          "value": 1
         },
         {
          "first": "k",
          "second": "g",
          "value": 1
         },
         {
          "first": "k",
          "second": "l",
          "value": 2
         },
         {
          "first": "k",
          "second": "c",
          "value": 0
         },
         {
          "first": "k",
          "second": "h",
          "value": 2
         },
         {
          "first": "k",
          "second": "o",
          "value": 4
         },
         {
          "first": "k",
          "second": "z",
          "value": 1
         },
         {
          "first": "k",
          "second": "d",
          "value": 0
         },
         {
          "first": "s",
          "second": "e",
          "value": 9
         },
         {
          "first": "s",
          "second": "n",
          "value": 2
         },
         {
          "first": "s",
          "second": ".",
          "value": 62
         },
         {
          "first": "s",
          "second": "t",
          "value": 23
         },
         {
          "first": "s",
          "second": "a",
          "value": 80
         },
         {
          "first": "s",
          "second": "m",
          "value": 2
         },
         {
          "first": "s",
          "second": "i",
          "value": 16
         },
         {
          "first": "s",
          "second": "v",
          "value": 0
         },
         {
          "first": "s",
          "second": "p",
          "value": 1
         },
         {
          "first": "s",
          "second": "r",
          "value": 2
         },
         {
          "first": "s",
          "second": "w",
          "value": 1
         },
         {
          "first": "s",
          "second": "k",
          "value": 2
         },
         {
          "first": "s",
          "second": "s",
          "value": 7
         },
         {
          "first": "s",
          "second": "x",
          "value": 1
         },
         {
          "first": "s",
          "second": "j",
          "value": 0
         },
         {
          "first": "s",
          "second": "y",
          "value": 1
         },
         {
          "first": "s",
          "second": "u",
          "value": 2
         },
         {
          "first": "s",
          "second": "f",
          "value": 2
         },
         {
          "first": "s",
          "second": "q",
          "value": 0
         },
         {
          "first": "s",
          "second": "b",
          "value": 2
         },
         {
          "first": "s",
          "second": "g",
          "value": 2
         },
         {
          "first": "s",
          "second": "l",
          "value": 2
         },
         {
          "first": "s",
          "second": "c",
          "value": 1
         },
         {
          "first": "s",
          "second": "h",
          "value": 108
         },
         {
          "first": "s",
          "second": "o",
          "value": 8
         },
         {
          "first": "s",
          "second": "z",
          "value": 2
         },
         {
          "first": "s",
          "second": "d",
          "value": 0
         },
         {
          "first": "x",
          "second": "e",
          "value": 3
         },
         {
          "first": "x",
          "second": "n",
          "value": 19
         },
         {
          "first": "x",
          "second": ".",
          "value": 16
         },
         {
          "first": "x",
          "second": "t",
          "value": 8
         },
         {
          "first": "x",
          "second": "a",
          "value": 21
         },
         {
          "first": "x",
          "second": "m",
          "value": 33
         },
         {
          "first": "x",
          "second": "i",
          "value": 37
         },
         {
          "first": "x",
          "second": "v",
          "value": 10
         },
         {
          "first": "x",
          "second": "p",
          "value": 12
         },
         {
          "first": "x",
          "second": "r",
          "value": 22
         },
         {
          "first": "x",
          "second": "w",
          "value": 2
         },
         {
          "first": "x",
          "second": "k",
          "value": 18
         },
         {
          "first": "x",
          "second": "s",
          "value": 9
         },
         {
          "first": "x",
          "second": "x",
          "value": 6
         },
         {
          "first": "x",
          "second": "j",
          "value": 19
         },
         {
          "first": "x",
          "second": "y",
          "value": 5
         },
         {
          "first": "x",
          "second": "u",
          "value": 16
         },
         {
          "first": "x",
          "second": "f",
          "value": 5
         },
         {
          "first": "x",
          "second": "q",
          "value": 35
         },
         {
          "first": "x",
          "second": "b",
          "value": 9
         },
         {
          "first": "x",
          "second": "g",
          "value": 5
         },
         {
          "first": "x",
          "second": "l",
          "value": 3
         },
         {
          "first": "x",
          "second": "c",
          "value": 2
         },
         {
          "first": "x",
          "second": "h",
          "value": 2
         },
         {
          "first": "x",
          "second": "o",
          "value": 11
         },
         {
          "first": "x",
          "second": "z",
          "value": 4
         },
         {
          "first": "x",
          "second": "d",
          "value": 3
         },
         {
          "first": "j",
          "second": "e",
          "value": 3
         },
         {
          "first": "j",
          "second": "n",
          "value": 1
         },
         {
          "first": "j",
          "second": ".",
          "value": 4
         },
         {
          "first": "j",
          "second": "t",
          "value": 1
         },
         {
          "first": "j",
          "second": "a",
          "value": 283
         },
         {
          "first": "j",
          "second": "m",
          "value": 0
         },
         {
          "first": "j",
          "second": "i",
          "value": 1
         },
         {
          "first": "j",
          "second": "v",
          "value": 0
         },
         {
          "first": "j",
          "second": "p",
          "value": 2
         },
         {
          "first": "j",
          "second": "r",
          "value": 3
         },
         {
          "first": "j",
          "second": "w",
          "value": 1
         },
         {
          "first": "j",
          "second": "k",
          "value": 1
         },
         {
          "first": "j",
          "second": "s",
          "value": 1
         },
         {
          "first": "j",
          "second": "x",
          "value": 2
         },
         {
          "first": "j",
          "second": "j",
          "value": 0
         },
         {
          "first": "j",
          "second": "y",
          "value": 3
         },
         {
          "first": "j",
          "second": "u",
          "value": 1
         },
         {
          "first": "j",
          "second": "f",
          "value": 0
         },
         {
          "first": "j",
          "second": "q",
          "value": 2
         },
         {
          "first": "j",
          "second": "b",
          "value": 3
         },
         {
          "first": "j",
          "second": "g",
          "value": 2
         },
         {
          "first": "j",
          "second": "l",
          "value": 3
         },
         {
          "first": "j",
          "second": "c",
          "value": 3
         },
         {
          "first": "j",
          "second": "h",
          "value": 4
         },
         {
          "first": "j",
          "second": "o",
          "value": 8
         },
         {
          "first": "j",
          "second": "z",
          "value": 0
         },
         {
          "first": "j",
          "second": "d",
          "value": 2
         },
         {
          "first": "y",
          "second": "e",
          "value": 0
         },
         {
          "first": "y",
          "second": "n",
          "value": 41
         },
         {
          "first": "y",
          "second": ".",
          "value": 111
         },
         {
          "first": "y",
          "second": "t",
          "value": 0
         },
         {
          "first": "y",
          "second": "a",
          "value": 184
         },
         {
          "first": "y",
          "second": "m",
          "value": 0
         },
         {
          "first": "y",
          "second": "i",
          "value": 0
         },
         {
          "first": "y",
          "second": "v",
          "value": 0
         },
         {
          "first": "y",
          "second": "p",
          "value": 0
         },
         {
          "first": "y",
          "second": "r",
          "value": 0
         },
         {
          "first": "y",
          "second": "w",
          "value": 0
         },
         {
          "first": "y",
          "second": "k",
          "value": 0
         },
         {
          "first": "y",
          "second": "s",
          "value": 0
         },
         {
          "first": "y",
          "second": "x",
          "value": 0
         },
         {
          "first": "y",
          "second": "j",
          "value": 0
         },
         {
          "first": "y",
          "second": "y",
          "value": 0
         },
         {
          "first": "y",
          "second": "u",
          "value": 0
         },
         {
          "first": "y",
          "second": "f",
          "value": 0
         },
         {
          "first": "y",
          "second": "q",
          "value": 0
         },
         {
          "first": "y",
          "second": "b",
          "value": 0
         },
         {
          "first": "y",
          "second": "g",
          "value": 0
         },
         {
          "first": "y",
          "second": "l",
          "value": 4
         },
         {
          "first": "y",
          "second": "c",
          "value": 0
         },
         {
          "first": "y",
          "second": "h",
          "value": 0
         },
         {
          "first": "y",
          "second": "o",
          "value": 0
         },
         {
          "first": "y",
          "second": "z",
          "value": 0
         },
         {
          "first": "y",
          "second": "d",
          "value": 0
         },
         {
          "first": "u",
          "second": "e",
          "value": 6
         },
         {
          "first": "u",
          "second": "n",
          "value": 26
         },
         {
          "first": "u",
          "second": ".",
          "value": 12
         },
         {
          "first": "u",
          "second": "t",
          "value": 8
         },
         {
          "first": "u",
          "second": "a",
          "value": 14
         },
         {
          "first": "u",
          "second": "m",
          "value": 18
         },
         {
          "first": "u",
          "second": "i",
          "value": 2
         },
         {
          "first": "u",
          "second": "v",
          "value": 5
         },
         {
          "first": "u",
          "second": "p",
          "value": 11
         },
         {
          "first": "u",
          "second": "r",
          "value": 50
         },
         {
          "first": "u",
          "second": "w",
          "value": 19
         },
         {
          "first": "u",
          "second": "k",
          "value": 5
         },
         {
          "first": "u",
          "second": "s",
          "value": 22
         },
         {
          "first": "u",
          "second": "x",
          "value": 2
         },
         {
          "first": "u",
          "second": "j",
          "value": 3
         },
         {
          "first": "u",
          "second": "y",
          "value": 13
         },
         {
          "first": "u",
          "second": "u",
          "value": 8
         },
         {
          "first": "u",
          "second": "f",
          "value": 6
         },
         {
          "first": "u",
          "second": "q",
          "value": 4
         },
         {
          "first": "u",
          "second": "b",
          "value": 14
         },
         {
          "first": "u",
          "second": "g",
          "value": 14
         },
         {
          "first": "u",
          "second": "l",
          "value": 14
         },
         {
          "first": "u",
          "second": "c",
          "value": 14
         },
         {
          "first": "u",
          "second": "h",
          "value": 19
         },
         {
          "first": "u",
          "second": "o",
          "value": 8
         },
         {
          "first": "u",
          "second": "z",
          "value": 3
         },
         {
          "first": "u",
          "second": "d",
          "value": 15
         },
         {
          "first": "f",
          "second": "e",
          "value": 11
         },
         {
          "first": "f",
          "second": "n",
          "value": 33
         },
         {
          "first": "f",
          "second": ".",
          "value": 8
         },
         {
          "first": "f",
          "second": "t",
          "value": 13
         },
         {
          "first": "f",
          "second": "a",
          "value": 73
         },
         {
          "first": "f",
          "second": "m",
          "value": 5
         },
         {
          "first": "f",
          "second": "i",
          "value": 4
         },
         {
          "first": "f",
          "second": "v",
          "value": 1
         },
         {
          "first": "f",
          "second": "p",
          "value": 4
         },
         {
          "first": "f",
          "second": "r",
          "value": 18
         },
         {
          "first": "f",
          "second": "w",
          "value": 17
         },
         {
          "first": "f",
          "second": "k",
          "value": 5
         },
         {
          "first": "f",
          "second": "s",
          "value": 16
         },
         {
          "first": "f",
          "second": "x",
          "value": 4
         },
         {
          "first": "f",
          "second": "j",
          "value": 11
         },
         {
          "first": "f",
          "second": "y",
          "value": 4
         },
         {
          "first": "f",
          "second": "u",
          "value": 37
         },
         {
          "first": "f",
          "second": "f",
          "value": 6
         },
         {
          "first": "f",
          "second": "q",
          "value": 4
         },
         {
          "first": "f",
          "second": "b",
          "value": 7
         },
         {
          "first": "f",
          "second": "g",
          "value": 3
         },
         {
          "first": "f",
          "second": "l",
          "value": 8
         },
         {
          "first": "f",
          "second": "c",
          "value": 8
         },
         {
          "first": "f",
          "second": "h",
          "value": 2
         },
         {
          "first": "f",
          "second": "o",
          "value": 7
         },
         {
          "first": "f",
          "second": "z",
          "value": 22
         },
         {
          "first": "f",
          "second": "d",
          "value": 4
         },
         {
          "first": "q",
          "second": "e",
          "value": 4
         },
         {
          "first": "q",
          "second": "n",
          "value": 4
         },
         {
          "first": "q",
          "second": ".",
          "value": 5
         },
         {
          "first": "q",
          "second": "t",
          "value": 5
         },
         {
          "first": "q",
          "second": "a",
          "value": 11
         },
         {
          "first": "q",
          "second": "m",
          "value": 10
         },
         {
          "first": "q",
          "second": "i",
          "value": 7
         },
         {
          "first": "q",
          "second": "v",
          "value": 22
         },
         {
          "first": "q",
          "second": "p",
          "value": 4
         },
         {
          "first": "q",
          "second": "r",
          "value": 7
         },
         {
          "first": "q",
          "second": "w",
          "value": 5
         },
         {
          "first": "q",
          "second": "k",
          "value": 9
         },
         {
          "first": "q",
          "second": "s",
          "value": 5
         },
         {
          "first": "q",
          "second": "x",
          "value": 11
         },
         {
          "first": "q",
          "second": "j",
          "value": 3
         },
         {
          "first": "q",
          "second": "y",
          "value": 8
         },
         {
          "first": "q",
          "second": "u",
          "value": 3
         },
         {
          "first": "q",
          "second": "f",
          "value": 25
         },
         {
          "first": "q",
          "second": "q",
          "value": 18
         },
         {
          "first": "q",
          "second": "b",
          "value": 3
         },
         {
          "first": "q",
          "second": "g",
          "value": 0
         },
         {
          "first": "q",
          "second": "l",
          "value": 39
         },
         {
          "first": "q",
          "second": "c",
          "value": 2
         },
         {
          "first": "q",
          "second": "h",
          "value": 63
         },
         {
          "first": "q",
          "second": "o",
          "value": 9
         },
         {
          "first": "q",
          "second": "z",
          "value": 49
         },
         {
          "first": "q",
          "second": "d",
          "value": 3
         },
         {
          "first": "b",
          "second": "e",
          "value": 24
         },
         {
          "first": "b",
          "second": "n",
          "value": 8
         },
         {
          "first": "b",
          "second": ".",
          "value": 12
         },
         {
          "first": "b",
          "second": "t",
          "value": 5
         },
         {
          "first": "b",
          "second": "a",
          "value": 37
         },
         {
          "first": "b",
          "second": "m",
          "value": 20
         },
         {
          "first": "b",
          "second": "i",
          "value": 8
         },
         {
          "first": "b",
          "second": "v",
          "value": 1
         },
         {
          "first": "b",
          "second": "p",
          "value": 15
         },
         {
          "first": "b",
          "second": "r",
          "value": 29
         },
         {
          "first": "b",
          "second": "w",
          "value": 16
         },
         {
          "first": "b",
          "second": "k",
          "value": 4
         },
         {
          "first": "b",
          "second": "s",
          "value": 13
         },
         {
          "first": "b",
          "second": "x",
          "value": 11
         },
         {
          "first": "b",
          "second": "j",
          "value": 2
         },
         {
          "first": "b",
          "second": "y",
          "value": 23
         },
         {
          "first": "b",
          "second": "u",
          "value": 13
         },
         {
          "first": "b",
          "second": "f",
          "value": 8
         },
         {
          "first": "b",
          "second": "q",
          "value": 3
         },
         {
          "first": "b",
          "second": "b",
          "value": 1
         },
         {
          "first": "b",
          "second": "g",
          "value": 19
         },
         {
          "first": "b",
          "second": "l",
          "value": 25
         },
         {
          "first": "b",
          "second": "c",
          "value": 7
         },
         {
          "first": "b",
          "second": "h",
          "value": 4
         },
         {
          "first": "b",
          "second": "o",
          "value": 18
         },
         {
          "first": "b",
          "second": "z",
          "value": 3
         },
         {
          "first": "b",
          "second": "d",
          "value": 11
         },
         {
          "first": "g",
          "second": "e",
          "value": 17
         },
         {
          "first": "g",
          "second": "n",
          "value": 7
         },
         {
          "first": "g",
          "second": ".",
          "value": 6
         },
         {
          "first": "g",
          "second": "t",
          "value": 15
         },
         {
          "first": "g",
          "second": "a",
          "value": 19
         },
         {
          "first": "g",
          "second": "m",
          "value": 12
         },
         {
          "first": "g",
          "second": "i",
          "value": 43
         },
         {
          "first": "g",
          "second": "v",
          "value": 1
         },
         {
          "first": "g",
          "second": "p",
          "value": 2
         },
         {
          "first": "g",
          "second": "r",
          "value": 14
         },
         {
          "first": "g",
          "second": "w",
          "value": 1
         },
         {
          "first": "g",
          "second": "k",
          "value": 9
         },
         {
          "first": "g",
          "second": "s",
          "value": 11
         },
         {
          "first": "g",
          "second": "x",
          "value": 20
         },
         {
          "first": "g",
          "second": "j",
          "value": 15
         },
         {
          "first": "g",
          "second": "y",
          "value": 1
         },
         {
          "first": "g",
          "second": "u",
          "value": 15
         },
         {
          "first": "g",
          "second": "f",
          "value": 1
         },
         {
          "first": "g",
          "second": "q",
          "value": 15
         },
         {
          "first": "g",
          "second": "b",
          "value": 7
         },
         {
          "first": "g",
          "second": "g",
          "value": 10
         },
         {
          "first": "g",
          "second": "l",
          "value": 9
         },
         {
          "first": "g",
          "second": "c",
          "value": 13
         },
         {
          "first": "g",
          "second": "h",
          "value": 16
         },
         {
          "first": "g",
          "second": "o",
          "value": 20
         },
         {
          "first": "g",
          "second": "z",
          "value": 22
         },
         {
          "first": "g",
          "second": "d",
          "value": 16
         },
         {
          "first": "l",
          "second": "e",
          "value": 261
         },
         {
          "first": "l",
          "second": "n",
          "value": 0
         },
         {
          "first": "l",
          "second": ".",
          "value": 1
         },
         {
          "first": "l",
          "second": "t",
          "value": 0
         },
         {
          "first": "l",
          "second": "a",
          "value": 22
         },
         {
          "first": "l",
          "second": "m",
          "value": 0
         },
         {
          "first": "l",
          "second": "i",
          "value": 58
         },
         {
          "first": "l",
          "second": "v",
          "value": 0
         },
         {
          "first": "l",
          "second": "p",
          "value": 0
         },
         {
          "first": "l",
          "second": "r",
          "value": 0
         },
         {
          "first": "l",
          "second": "w",
          "value": 0
         },
         {
          "first": "l",
          "second": "k",
          "value": 0
         },
         {
          "first": "l",
          "second": "s",
          "value": 0
         },
         {
          "first": "l",
          "second": "x",
          "value": 0
         },
         {
          "first": "l",
          "second": "j",
          "value": 0
         },
         {
          "first": "l",
          "second": "y",
          "value": 4
         },
         {
          "first": "l",
          "second": "u",
          "value": 0
         },
         {
          "first": "l",
          "second": "f",
          "value": 0
         },
         {
          "first": "l",
          "second": "q",
          "value": 0
         },
         {
          "first": "l",
          "second": "b",
          "value": 0
         },
         {
          "first": "l",
          "second": "g",
          "value": 0
         },
         {
          "first": "l",
          "second": "l",
          "value": 1
         },
         {
          "first": "l",
          "second": "c",
          "value": 0
         },
         {
          "first": "l",
          "second": "h",
          "value": 0
         },
         {
          "first": "l",
          "second": "o",
          "value": 0
         },
         {
          "first": "l",
          "second": "z",
          "value": 0
         },
         {
          "first": "l",
          "second": "d",
          "value": 0
         },
         {
          "first": "c",
          "second": "e",
          "value": 30
         },
         {
          "first": "c",
          "second": "n",
          "value": 6
         },
         {
          "first": "c",
          "second": ".",
          "value": 5
         },
         {
          "first": "c",
          "second": "t",
          "value": 11
         },
         {
          "first": "c",
          "second": "a",
          "value": 71
         },
         {
          "first": "c",
          "second": "m",
          "value": 2
         },
         {
          "first": "c",
          "second": "i",
          "value": 14
         },
         {
          "first": "c",
          "second": "v",
          "value": 1
         },
         {
          "first": "c",
          "second": "p",
          "value": 3
         },
         {
          "first": "c",
          "second": "r",
          "value": 11
         },
         {
          "first": "c",
          "second": "w",
          "value": 4
         },
         {
          "first": "c",
          "second": "k",
          "value": 16
         },
         {
          "first": "c",
          "second": "s",
          "value": 10
         },
         {
          "first": "c",
          "second": "x",
          "value": 4
         },
         {
          "first": "c",
          "second": "j",
          "value": 2
         },
         {
          "first": "c",
          "second": "y",
          "value": 13
         },
         {
          "first": "c",
          "second": "u",
          "value": 10
         },
         {
          "first": "c",
          "second": "f",
          "value": 2
         },
         {
          "first": "c",
          "second": "q",
          "value": 10
         },
         {
          "first": "c",
          "second": "b",
          "value": 7
         },
         {
          "first": "c",
          "second": "g",
          "value": 2
         },
         {
          "first": "c",
          "second": "l",
          "value": 1
         },
         {
          "first": "c",
          "second": "c",
          "value": 8
         },
         {
          "first": "c",
          "second": "h",
          "value": 72
         },
         {
          "first": "c",
          "second": "o",
          "value": 11
         },
         {
          "first": "c",
          "second": "z",
          "value": 5
         },
         {
          "first": "c",
          "second": "d",
          "value": 7
         },
         {
          "first": "h",
          "second": "e",
          "value": 0
         },
         {
          "first": "h",
          "second": "n",
          "value": 0
         },
         {
          "first": "h",
          "second": ".",
          "value": 183
         },
         {
          "first": "h",
          "second": "t",
          "value": 0
         },
         {
          "first": "h",
          "second": "a",
          "value": 161
         },
         {
          "first": "h",
          "second": "m",
          "value": 0
         },
         {
          "first": "h",
          "second": "i",
          "value": 1
         },
         {
          "first": "h",
          "second": "v",
          "value": 0
         },
         {
          "first": "h",
          "second": "p",
          "value": 0
         },
         {
          "first": "h",
          "second": "r",
          "value": 0
         },
         {
          "first": "h",
          "second": "w",
          "value": 0
         },
         {
          "first": "h",
          "second": "k",
          "value": 0
         },
         {
          "first": "h",
          "second": "s",
          "value": 0
         },
         {
          "first": "h",
          "second": "x",
          "value": 0
         },
         {
          "first": "h",
          "second": "j",
          "value": 0
         },
         {
          "first": "h",
          "second": "y",
          "value": 0
         },
         {
          "first": "h",
          "second": "u",
          "value": 0
         },
         {
          "first": "h",
          "second": "f",
          "value": 0
         },
         {
          "first": "h",
          "second": "q",
          "value": 0
         },
         {
          "first": "h",
          "second": "b",
          "value": 0
         },
         {
          "first": "h",
          "second": "g",
          "value": 0
         },
         {
          "first": "h",
          "second": "l",
          "value": 0
         },
         {
          "first": "h",
          "second": "c",
          "value": 0
         },
         {
          "first": "h",
          "second": "h",
          "value": 0
         },
         {
          "first": "h",
          "second": "o",
          "value": 0
         },
         {
          "first": "h",
          "second": "z",
          "value": 0
         },
         {
          "first": "h",
          "second": "d",
          "value": 0
         },
         {
          "first": "o",
          "second": "e",
          "value": 0
         },
         {
          "first": "o",
          "second": "n",
          "value": 329
         },
         {
          "first": "o",
          "second": ".",
          "value": 3
         },
         {
          "first": "o",
          "second": "t",
          "value": 0
         },
         {
          "first": "o",
          "second": "a",
          "value": 0
         },
         {
          "first": "o",
          "second": "m",
          "value": 0
         },
         {
          "first": "o",
          "second": "i",
          "value": 0
         },
         {
          "first": "o",
          "second": "v",
          "value": 0
         },
         {
          "first": "o",
          "second": "p",
          "value": 0
         },
         {
          "first": "o",
          "second": "r",
          "value": 6
         },
         {
          "first": "o",
          "second": "w",
          "value": 0
         },
         {
          "first": "o",
          "second": "k",
          "value": 0
         },
         {
          "first": "o",
          "second": "s",
          "value": 1
         },
         {
          "first": "o",
          "second": "x",
          "value": 0
         },
         {
          "first": "o",
          "second": "j",
          "value": 0
         },
         {
          "first": "o",
          "second": "y",
          "value": 0
         },
         {
          "first": "o",
          "second": "u",
          "value": 0
         },
         {
          "first": "o",
          "second": "f",
          "value": 0
         },
         {
          "first": "o",
          "second": "q",
          "value": 0
         },
         {
          "first": "o",
          "second": "b",
          "value": 0
         },
         {
          "first": "o",
          "second": "g",
          "value": 0
         },
         {
          "first": "o",
          "second": "l",
          "value": 1
         },
         {
          "first": "o",
          "second": "c",
          "value": 0
         },
         {
          "first": "o",
          "second": "h",
          "value": 0
         },
         {
          "first": "o",
          "second": "o",
          "value": 0
         },
         {
          "first": "o",
          "second": "z",
          "value": 0
         },
         {
          "first": "o",
          "second": "d",
          "value": 0
         },
         {
          "first": "z",
          "second": "e",
          "value": 15
         },
         {
          "first": "z",
          "second": "n",
          "value": 8
         },
         {
          "first": "z",
          "second": ".",
          "value": 6
         },
         {
          "first": "z",
          "second": "t",
          "value": 1
         },
         {
          "first": "z",
          "second": "a",
          "value": 161
         },
         {
          "first": "z",
          "second": "m",
          "value": 4
         },
         {
          "first": "z",
          "second": "i",
          "value": 19
         },
         {
          "first": "z",
          "second": "v",
          "value": 2
         },
         {
          "first": "z",
          "second": "p",
          "value": 0
         },
         {
          "first": "z",
          "second": "r",
          "value": 4
         },
         {
          "first": "z",
          "second": "w",
          "value": 6
         },
         {
          "first": "z",
          "second": "k",
          "value": 12
         },
         {
          "first": "z",
          "second": "s",
          "value": 5
         },
         {
          "first": "z",
          "second": "x",
          "value": 12
         },
         {
          "first": "z",
          "second": "j",
          "value": 0
         },
         {
          "first": "z",
          "second": "y",
          "value": 6
         },
         {
          "first": "z",
          "second": "u",
          "value": 1
         },
         {
          "first": "z",
          "second": "f",
          "value": 12
         },
         {
          "first": "z",
          "second": "q",
          "value": 6
         },
         {
          "first": "z",
          "second": "b",
          "value": 11
         },
         {
          "first": "z",
          "second": "g",
          "value": 1
         },
         {
          "first": "z",
          "second": "l",
          "value": 18
         },
         {
          "first": "z",
          "second": "c",
          "value": 12
         },
         {
          "first": "z",
          "second": "h",
          "value": 2
         },
         {
          "first": "z",
          "second": "o",
          "value": 7
         },
         {
          "first": "z",
          "second": "z",
          "value": 3
         },
         {
          "first": "z",
          "second": "d",
          "value": 2
         },
         {
          "first": "d",
          "second": "e",
          "value": 134
         },
         {
          "first": "d",
          "second": "n",
          "value": 5
         },
         {
          "first": "d",
          "second": ".",
          "value": 14
         },
         {
          "first": "d",
          "second": "t",
          "value": 0
         },
         {
          "first": "d",
          "second": "a",
          "value": 90
         },
         {
          "first": "d",
          "second": "m",
          "value": 2
         },
         {
          "first": "d",
          "second": "i",
          "value": 17
         },
         {
          "first": "d",
          "second": "v",
          "value": 4
         },
         {
          "first": "d",
          "second": "p",
          "value": 2
         },
         {
          "first": "d",
          "second": "r",
          "value": 10
         },
         {
          "first": "d",
          "second": "w",
          "value": 3
         },
         {
          "first": "d",
          "second": "k",
          "value": 4
         },
         {
          "first": "d",
          "second": "s",
          "value": 1
         },
         {
          "first": "d",
          "second": "x",
          "value": 2
         },
         {
          "first": "d",
          "second": "j",
          "value": 3
         },
         {
          "first": "d",
          "second": "y",
          "value": 13
         },
         {
          "first": "d",
          "second": "u",
          "value": 6
         },
         {
          "first": "d",
          "second": "f",
          "value": 2
         },
         {
          "first": "d",
          "second": "q",
          "value": 2
         },
         {
          "first": "d",
          "second": "b",
          "value": 3
         },
         {
          "first": "d",
          "second": "g",
          "value": 3
         },
         {
          "first": "d",
          "second": "l",
          "value": 1
         },
         {
          "first": "d",
          "second": "c",
          "value": 2
         },
         {
          "first": "d",
          "second": "h",
          "value": 3
         },
         {
          "first": "d",
          "second": "o",
          "value": 6
         },
         {
          "first": "d",
          "second": "z",
          "value": 4
         },
         {
          "first": "d",
          "second": "d",
          "value": 2
         }
        ]
       },
       "description": "A heat map with each cell displaying its first and second category labels along with the value.",
       "height": 1000,
       "layer": [
        {
         "encoding": {
          "color": {
           "field": "value",
           "legend": {
            "title": "Value"
           },
           "scale": {
            "range": [
             "white",
             "steelblue"
            ]
           },
           "type": "quantitative"
          },
          "x": {
           "axis": {
            "title": "First letter"
           },
           "field": "first",
           "type": "nominal"
          },
          "y": {
           "axis": {
            "title": "Second letter"
           },
           "field": "second",
           "type": "nominal"
          }
         },
         "mark": "rect"
        },
        {
         "encoding": {
          "text": {
           "field": "cellLabel",
           "type": "nominal"
          },
          "tooltip": [
           {
            "field": "first",
            "title": "First Letter",
            "type": "nominal"
           },
           {
            "field": "second",
            "title": "Second Letter",
            "type": "nominal"
           },
           {
            "field": "value",
            "title": "Count",
            "type": "quantitative"
           }
          ],
          "x": {
           "field": "first",
           "type": "nominal"
          },
          "y": {
           "field": "second",
           "type": "nominal"
          }
         },
         "mark": {
          "align": "center",
          "baseline": "middle",
          "color": "black",
          "fontSize": 12,
          "lineBreak": ":::",
          "type": "text"
         }
        }
       ],
       "title": "NN: Small batch update 0",
       "transform": [
        {
         "as": "cellLabel",
         "calculate": "datum.first + ', ' + datum.second + ':::' + datum.value"
        }
       ],
       "width": 1000
      }
     },
     "metadata": {},
     "output_type": "display_data"
    },
    {
     "name": "stdout",
     "output_type": "stream",
     "text": [
      "50\n",
      "49\n",
      "48\n",
      "47\n",
      "46\n",
      "45\n",
      "44\n",
      "43\n"
     ]
    }
   ],
   "source": [
    "// import vecxt.all.* // this blows up the notebook for some reason\n",
    "import spire.*\n",
    "import spire.implicits.*\n",
    "import spire.algebra.*\n",
    "import vecxt.DoubleMatrix.*\n",
    "import io.github.quafadas.inspireRAD.*\n",
    "import vecxt.all.`*=`\n",
    "import vecxt.all.@@\n",
    "import vecxt.all.shape\n",
    "import vecxt.all.exp\n",
    "import vecxt.all.row\n",
    "import vecxt.matrix.Matrix\n",
    "\n",
    "import vecxt.all.`-=`\n",
    "import vecxt.MatrixInstance.deepCopy\n",
    "import vecxt.MatrixInstance.apply\n",
    "import io.github.quafadas.inspireRAD.DetailShow\n",
    "import io.github.quafadas.inspireRAD.LiteShow\n",
    "import LiteShow.given\n",
    "\n",
    "def heatmat(matrix: Matrix[Double], chars: Array[Char], charsIndex: Array[Int], title: String)(using LowPriorityPlotTarget): Unit | Path =\n",
    "    import vecxt.BoundsCheck.DoBoundsCheck.yes\n",
    "    require(chars.length == charsIndex.length, \"chars and charsIndex must have the same length\")\n",
    "\n",
    "    val counts = for {\n",
    "        c <- 0 until matrix.cols\n",
    "    } yield\n",
    "        val dist = matrix.row(c)\n",
    "        EnumeratedIntegerDistribution(charsIndex, dist)\n",
    "\n",
    "    val dists = chars.zip(counts).toMap\n",
    "    val charsMap = chars.zip(charsIndex).toMap\n",
    "    val i2c = charsIndex.zip(chars).toMap\n",
    "\n",
    "    heatmap(dists, charsMap, i2c, title)\n",
    "\n",
    "inline def calcLossF(\n",
    "    weights: TejV[Matrix, Double],\n",
    "    data: TejV[Matrix, Double],\n",
    "    targets: Array[Int]\n",
    ")(using\n",
    "    inline mOps: LossContext[Matrix, Array, Scalar, Double],\n",
    "    tg: TejVGraph[Double],\n",
    "    fi: Fractional[Double]\n",
    "): TejV[Scalar, Double] =\n",
    "    val logits = data @@ weights // multiply input data by weight matrix to get raw prediction scores\n",
    "    val probsNN = logits.softmaxRows // convert logits to probabilities using softmax normalization\n",
    "    val range: Array[(Int, Int)] = (0 until targets.length).toArray.zip(targets) // pair each sample index with its target class\n",
    "    val selected = probsNN.arrange(range) // extract the probability of the correct target class for each sample\n",
    "    val theloss = (selected + 1e-8d.tej).log.mean * -1.0.tej // compute average negative log-probability (cross-entropy loss)\n",
    "    theloss\n",
    "\n",
    "\n",
    "\n",
    "@annotation.tailrec\n",
    "def train(\n",
    "    weights: Matrix[Double],\n",
    "    data: Matrix[Double],\n",
    "    targets: Array[Int],\n",
    "    learningRate: Double,\n",
    "    steps: Int,\n",
    "    initialSteps: Int,\n",
    "    initialLearningRate: Double,\n",
    "    epochLength: Int = 50\n",
    "): TejV[Matrix, Double] =\n",
    "    given graph: TejVGraph[Double] = TejVGraph[Double]()\n",
    "    val weights_ = weights.tej\n",
    "    val data_ = data.tej\n",
    "\n",
    "    if\n",
    "        steps == 0 then weights_\n",
    "    else\n",
    "        val loss = calcLossF(weights_, data_, targets)\n",
    "        val grad = loss.backward((weights = weights_))\n",
    "        grad.weights *= learningRate\n",
    "\n",
    "        val updated = weights - (grad.weights)\n",
    "\n",
    "        if (steps - 1) % 10 == 0 then\n",
    "            println(s\"Step $steps, loss: ${loss.value.scalar}, rate: $learningRate\")\n",
    "            heatmat(updated.exp, chars.toArray, charsIndex.toArray, \"NN: Coarse training\")\n",
    "        if steps - 1 == 0 then\n",
    "            // graphDebug(graph.dag.toGraphviz)\n",
    "            println(s\"Final loss: ${loss.value.scalar}\")\n",
    "        if steps % 100 == 0 then\n",
    "            println(\"saving weights\")\n",
    "            saveMatrixToCSV(updated, \"weights.csv\")\n",
    "\n",
    "        val learningRate_ = if steps % epochLength == 0 then\n",
    "            initialLearningRate * (1 / (1 + ((initialSteps - steps) / 20.0).toDouble ))\n",
    "        else\n",
    "            learningRate\n",
    "\n",
    "        train(updated, data, targets, learningRate_, steps - 1, initialSteps, initialLearningRate)\n",
    "\n",
    "def heatmap2(matrix: Matrix[Double], chars: Array[Char], charsIndex: Array[Int], title: String)(using LowPriorityPlotTarget): Unit | Path =\n",
    "    import vecxt.BoundsCheck.DoBoundsCheck.yes\n",
    "    require(chars.length == charsIndex.length, \"chars and charsIndex must have the same length\")\n",
    "\n",
    "    val counts = for {\n",
    "        c <- 0 until matrix.cols\n",
    "    } yield\n",
    "        val dist = matrix.row(c)\n",
    "        EnumeratedIntegerDistribution(charsIndex, dist)\n",
    "\n",
    "    val dists = chars.zip(counts).toMap\n",
    "    val charsMap = chars.zip(charsIndex).toMap\n",
    "    val i2c = charsIndex.zip(chars).toMap\n",
    "\n",
    "    heatmap(dists, charsMap, i2c, title)\n",
    "\n",
    "\n",
    "@annotation.tailrec\n",
    "def train2(\n",
    "    weights: Matrix[Double],\n",
    "    data: Matrix[Double],\n",
    "    targets: Array[Int],\n",
    "    learningRate: Double,\n",
    "    steps: Int,\n",
    "    initialSteps: Int,\n",
    "    initialLearningRate: Double,\n",
    "    epochLength: Int = 50\n",
    "): Matrix[Double] =\n",
    "    var updated = weights.deepCopy\n",
    "    if steps == 0 || steps < 0 then\n",
    "        weights\n",
    "    else\n",
    "        for (i <- 0 to data.rows by 128) {\n",
    "            given graph: TejVGraph[Double] = TejVGraph[Double]()\n",
    "            val weights_ = weights.tej\n",
    "            val maxIdx = Math.min(i + 500, data.rows)\n",
    "            val range = Range(i, maxIdx)\n",
    "            val dataSlice = data(range, ::)\n",
    "            val targetsSlice = targets.slice(i, maxIdx)\n",
    "            val loss = calcLossF(weights_, dataSlice.tej, targetsSlice)\n",
    "            val grad = loss.backward((weights = weights_))\n",
    "            grad.weights *= learningRate\n",
    "            updated -= grad.weights\n",
    "        }\n",
    "\n",
    "        if (steps - 1) % 25 == 0 then\n",
    "            heatmap2(updated.exp, chars.toArray, charsIndex.toArray, s\"NN: Small batch update ${initialSteps - steps}\")\n",
    "\n",
    "        val learningRate_ = if steps % epochLength == 0 then\n",
    "            initialLearningRate * (1 / (1 + ((initialSteps - steps) / 20.0).toDouble ))\n",
    "        else\n",
    "            learningRate\n",
    "        // Tail recursive: last call is train\n",
    "        train2(updated, data, targets, learningRate_, steps - 1, initialSteps, initialLearningRate)\n",
    "\n",
    "println(\"-- Begin Training run...\")\n",
    "\n",
    "println(s\"Initial weights shape: ${W.shape}\")\n",
    "println(s\"Input data shape: ${xencMall.shape}\")\n",
    "println(s\"Target data shape: ${yChars.length}\")\n",
    "println(s\"First 5 target characters: ${yChars.take(5).mkString(\", \")}\")\n",
    "\n",
    "val learningRate = 0.1\n",
    "val steps = 51\n",
    "// val trainStart = train(W, xencMall, yChars.toArray, learningRate, 2, 2, learningRate)\n",
    "val weightsTrained = train2(W, xencMall, yChars.toArray, learningRate, steps, steps, learningRate)\n",
    "// val weightsTrained = train(W, xencMall, yChars.toArray, learningRate, steps, steps, learningRate)\n",
    "\n",
    "\n",
    "// saveMatrixToCSV(weightsTrained.value, \"weights.csv\")\n",
    "\n",
    "println(\"training run finished\")"
   ]
  }
 ],
 "metadata": {
  "kernelspec": {
   "display_name": "Scala",
   "language": "scala",
   "name": "scala"
  },
  "language_info": {
   "codemirror_mode": "text/x-scala",
   "file_extension": ".sc",
   "mimetype": "text/x-scala",
   "name": "scala",
   "nbconvert_exporter": "script",
   "version": "2.13.16"
  }
 },
 "nbformat": 4,
 "nbformat_minor": 5
}
