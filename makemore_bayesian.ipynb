{
 "cells": [
  {
   "cell_type": "code",
   "execution_count": null,
   "id": "e52fedaf",
   "metadata": {},
   "outputs": [
    {
     "name": "stdout",
     "output_type": "stream",
     "text": [
      "Compiling /Users/simon/Code/makemore/utils2.sc\n"
     ]
    }
   ],
   "source": [
    "import $ivy.`io.github.quafadas::scautable:0.0.33`\n",
    "import $ivy.`org.apache.commons:commons-math3:3.6.1`\n",
    "import $ivy.`io.github.quafadas::dedav4s:0.10.0-RC2`\n",
    "import $exec.`utils2`\n",
    "// heatmap plotting\n",
    "import $exec.`heatmap2`\n",
    "import io.github.quafadas.table.*\n",
    "import viz.PlotTargets.almond\n",
    "import org.apache.commons.math3.distribution.EnumeratedIntegerDistribution"
   ]
  },
  {
   "cell_type": "markdown",
   "id": "5e4eb19a",
   "metadata": {},
   "source": [
    "This notebook adopts a \"bayesian\" or \"classical\" approach, following the exact intuition you would follow, if you were attempting to solve this problem yourself. \n",
    "\n",
    "1. collect the bigrams. \n",
    "2. group them by first character\n",
    "3. for each group, create a probability distribution of the second character\n",
    "\n",
    "Then continute with generation as before."
   ]
  },
  {
   "cell_type": "code",
   "execution_count": null,
   "id": "b36ce082",
   "metadata": {},
   "outputs": [
    {
     "name": "stderr",
     "output_type": "stream",
     "text": [
      "-- Warning: cmd13.sc:42:37 -----------------------------------------------------\n",
      "42 |val res13_16 = heatmap(completePairs.seq, \"Character bigram counts (not probability weighted)\")\n",
      "   |                       ^^^^^^^^^^^^^^^^^\n",
      "   |method seq in trait Iterable is deprecated since 2.13.0: Iterable.seq always returns the iterable itself\n"
     ]
    },
    {
     "name": "stdout",
     "output_type": "stream",
     "text": [
      "|\u001b[32m \u001b[39m|\u001b[97m    name\u001b[39m|\u001b[31m   Bookend\u001b[39m|\u001b[34m                                   Pairs\u001b[39m|\n",
      "+-+--------+----------+----------------------------------------+\n",
      "|\u001b[32m0\u001b[39m|\u001b[97m    emma\u001b[39m|\u001b[31m    .emma.\u001b[39m|\u001b[34m                List(.e, em, mm, ma, a.)\u001b[39m|\n",
      "|\u001b[32m1\u001b[39m|\u001b[97m  olivia\u001b[39m|\u001b[31m  .olivia.\u001b[39m|\u001b[34m        List(.o, ol, li, iv, vi, ia, a.)\u001b[39m|\n",
      "|\u001b[32m2\u001b[39m|\u001b[97m     ava\u001b[39m|\u001b[31m     .ava.\u001b[39m|\u001b[34m                    List(.a, av, va, a.)\u001b[39m|\n",
      "|\u001b[32m3\u001b[39m|\u001b[97misabella\u001b[39m|\u001b[31m.isabella.\u001b[39m|\u001b[34mList(.i, is, sa, ab, be, el, ll, la, a.)\u001b[39m|\n",
      "|\u001b[32m4\u001b[39m|\u001b[97m  sophia\u001b[39m|\u001b[31m  .sophia.\u001b[39m|\u001b[34m        List(.s, so, op, ph, hi, ia, a.)\u001b[39m|\n",
      "+-+--------+----------+----------------------------------------+\n",
      "missing combinations\n",
      "HashSet(qb, bk, qf, jq, cb, kp, qq, xj, gx, zq, vw, bf, wx, fq, fv, tp, qc, fj, wc, qv, gk, vq, jg, sx, bw, qg, mq, jx, bq, pw, vm, wj, fc, xk, qd, qk, zf, vx, fx, fm, mx, jz, qp, mg, bg, cn, tk, vp, vf, bm, xr, wq, qy, wv, gq, px, qh, fd, fp, td, bx, cv, qj, pv, vs, pz, xp, qt, vj, lx, bz, pd, bp, xv, cm, .., gc, fb, xq, gp, hx, xg, wp, vt, qx, jf, bv, vc, cf, cw, qz, qn, tq, dx, vz, vg, kg, pq, kq, kx, dp, pg)\n"
     ]
    },
    {
     "data": {
      "application/vnd.vega.v5+json": {
       "$schema": "https://vega.github.io/schema/vega-lite/v5.json",
       "data": {
        "values": [
         {
          "first": "y",
          "second": "z",
          "value": 78
         },
         {
          "first": "z",
          "second": "e",
          "value": 373
         },
         {
          "first": "w",
          "second": "m",
          "value": 2
         },
         {
          "first": "s",
          "second": "e",
          "value": 884
         },
         {
          "first": "k",
          "second": "u",
          "value": 50
         },
         {
          "first": "j",
          "second": "o",
          "value": 479
         },
         {
          "first": "p",
          "second": "m",
          "value": 1
         },
         {
          "first": "l",
          "second": "e",
          "value": 2921
         },
         {
          "first": "c",
          "second": "g",
          "value": 2
         },
         {
          "first": "a",
          "second": ".",
          "value": 6640
         },
         {
          "first": "h",
          "second": "y",
          "value": 213
         },
         {
          "first": "m",
          "second": "b",
          "value": 112
         },
         {
          "first": "t",
          "second": "f",
          "value": 2
         },
         {
          "first": "y",
          "second": "p",
          "value": 15
         },
         {
          "first": "x",
          "second": "n",
          "value": 1
         },
         {
          "first": "s",
          "second": "s",
          "value": 461
         },
         {
          "first": "c",
          "second": "t",
          "value": 35
         },
         {
          "first": "s",
          "second": "t",
          "value": 765
         },
         {
          "first": "y",
          "second": "k",
          "value": 86
         },
         {
          "first": "v",
          "second": "h",
          "value": 1
         },
         {
          "first": "e",
          "second": "c",
          "value": 153
         },
         {
          "first": "k",
          "second": "d",
          "value": 2
         },
         {
          "first": "n",
          "second": "c",
          "value": 213
         },
         {
          "first": "l",
          "second": "p",
          "value": 15
         },
         {
          "first": ".",
          "second": "v",
          "value": 376
         },
         {
          "first": "a",
          "second": "e",
          "value": 692
         },
         {
          "first": "m",
          "second": "w",
          "value": 2
         },
         {
          "first": "o",
          "second": "l",
          "value": 619
         },
         {
          "first": "q",
          "second": ".",
          "value": 28
         },
         {
          "first": "i",
          "second": "z",
          "value": 277
         },
         {
          "first": "b",
          "second": "s",
          "value": 8
         },
         {
          "first": "j",
          "second": "t",
          "value": 2
         },
         {
          "first": ".",
          "second": "k",
          "value": 2963
         },
         {
          "first": "y",
          "second": "a",
          "value": 2143
         },
         {
          "first": "a",
          "second": "q",
          "value": 60
         },
         {
          "first": "u",
          "second": "v",
          "value": 37
         },
         {
          "first": "i",
          "second": "n",
          "value": 2126
         },
         {
          "first": "c",
          "second": "j",
          "value": 3
         },
         {
          "first": "l",
          "second": "b",
          "value": 52
         },
         {
          "first": "h",
          "second": "r",
          "value": 204
         },
         {
          "first": "t",
          "second": "a",
          "value": 1027
         },
         {
          "first": "e",
          "second": "z",
          "value": 181
         },
         {
          "first": "o",
          "second": "y",
          "value": 103
         },
         {
          "first": "p",
          "second": "i",
          "value": 61
         },
         {
          "first": "t",
          "second": "y",
          "value": 341
         },
         {
          "first": "f",
          "second": "r",
          "value": 114
         },
         {
          "first": "d",
          "second": "u",
          "value": 92
         },
         {
          "first": "n",
          "second": "x",
          "value": 6
         },
         {
          "first": "w",
          "second": "i",
          "value": 148
         },
         {
          "first": "k",
          "second": "z",
          "value": 2
         },
         {
          "first": "i",
          "second": "p",
          "value": 53
         },
         {
          "first": "r",
          "second": "r",
          "value": 425
         },
         {
          "first": "h",
          "second": "l",
          "value": 185
         },
         {
          "first": "j",
          "second": ".",
          "value": 71
         },
         {
          "first": "b",
          "second": "a",
          "value": 321
         },
         {
          "first": "r",
          "second": "s",
          "value": 190
         },
         {
          "first": "k",
          "second": "a",
          "value": 1731
         },
         {
          "first": "a",
          "second": "r",
          "value": 3264
         },
         {
          "first": "m",
          "second": "f",
          "value": 1
         },
         {
          "first": "i",
          "second": "s",
          "value": 1316
         },
         {
          "first": "h",
          "second": "o",
          "value": 287
         },
         {
          "first": "o",
          "second": "h",
          "value": 171
         },
         {
          "first": "r",
          "second": "d",
          "value": 187
         },
         {
          "first": "e",
          "second": "v",
          "value": 463
         },
         {
          "first": "n",
          "second": "g",
          "value": 273
         },
         {
          "first": "g",
          "second": "s",
          "value": 30
         },
         {
          "first": "u",
          "second": "g",
          "value": 47
         },
         {
          "first": "z",
          "second": "t",
          "value": 4
         },
         {
          "first": ".",
          "second": "g",
          "value": 669
         },
         {
          "first": "z",
          "second": "b",
          "value": 4
         },
         {
          "first": "x",
          "second": "t",
          "value": 70
         },
         {
          "first": "e",
          "second": "i",
          "value": 818
         },
         {
          "first": "x",
          "second": ".",
          "value": 164
         },
         {
          "first": "v",
          "second": "l",
          "value": 14
         },
         {
          "first": "f",
          "second": "w",
          "value": 4
         },
         {
          "first": "l",
          "second": "v",
          "value": 72
         },
         {
          "first": "a",
          "second": "m",
          "value": 1634
         },
         {
          "first": "h",
          "second": "v",
          "value": 39
         },
         {
          "first": "m",
          "second": "t",
          "value": 4
         },
         {
          "first": "p",
          "second": "f",
          "value": 1
         },
         {
          "first": "x",
          "second": "e",
          "value": 36
         },
         {
          "first": "q",
          "second": "r",
          "value": 1
         },
         {
          "first": "m",
          "second": "j",
          "value": 7
         },
         {
          "first": "v",
          "second": "v",
          "value": 7
         },
         {
          "first": "a",
          "second": "v",
          "value": 834
         },
         {
          "first": "o",
          "second": "e",
          "value": 132
         },
         {
          "first": "u",
          "second": "z",
          "value": 45
         },
         {
          "first": "u",
          "second": "u",
          "value": 3
         },
         {
          "first": "i",
          "second": "b",
          "value": 110
         },
         {
          "first": "w",
          "second": "r",
          "value": 22
         },
         {
          "first": "y",
          "second": "h",
          "value": 22
         },
         {
          "first": "t",
          "second": "u",
          "value": 78
         },
         {
          "first": "x",
          "second": "d",
          "value": 5
         },
         {
          "first": "z",
          "second": "m",
          "value": 35
         },
         {
          "first": "e",
          "second": "u",
          "value": 69
         },
         {
          "first": "d",
          "second": "h",
          "value": 118
         },
         {
          "first": "f",
          "second": "e",
          "value": 123
         },
         {
          "first": "d",
          "second": "y",
          "value": 317
         },
         {
          "first": "r",
          "second": "n",
          "value": 140
         },
         {
          "first": "k",
          "second": "l",
          "value": 139
         },
         {
          "first": "m",
          "second": ".",
          "value": 516
         },
         {
          "first": "q",
          "second": "m",
          "value": 2
         },
         {
          "first": "b",
          "second": "n",
          "value": 4
         },
         {
          "first": "r",
          "second": "w",
          "value": 21
         },
         {
          "first": ".",
          "second": "w",
          "value": 307
         },
         {
          "first": "n",
          "second": "k",
          "value": 58
         },
         {
          "first": "r",
          "second": "h",
          "value": 121
         },
         {
          "first": "d",
          "second": "t",
          "value": 4
         },
         {
          "first": "b",
          "second": ".",
          "value": 114
         },
         {
          "first": "l",
          "second": "z",
          "value": 10
         },
         {
          "first": "u",
          "second": "k",
          "value": 93
         },
         {
          "first": "x",
          "second": "s",
          "value": 31
         },
         {
          "first": "c",
          "second": "o",
          "value": 380
         },
         {
          "first": "o",
          "second": "t",
          "value": 118
         },
         {
          "first": "e",
          "second": "d",
          "value": 384
         },
         {
          "first": "y",
          "second": "s",
          "value": 401
         },
         {
          "first": "x",
          "second": "x",
          "value": 38
         },
         {
          "first": "l",
          "second": "s",
          "value": 94
         },
         {
          "first": "i",
          "second": "w",
          "value": 8
         },
         {
          "first": "j",
          "second": "c",
          "value": 4
         },
         {
          "first": "g",
          "second": "w",
          "value": 26
         },
         {
          "first": "z",
          "second": "x",
          "value": 1
         },
         {
          "first": "h",
          "second": "b",
          "value": 8
         },
         {
          "first": "z",
          "second": "i",
          "value": 364
         },
         {
          "first": "d",
          "second": "c",
          "value": 3
         },
         {
          "first": "j",
          "second": "k",
          "value": 2
         },
         {
          "first": "u",
          "second": "a",
          "value": 163
         },
         {
          "first": "g",
          "second": "f",
          "value": 1
         },
         {
          "first": "s",
          "second": "i",
          "value": 684
         },
         {
          "first": "l",
          "second": "i",
          "value": 2480
         },
         {
          "first": "i",
          "second": "f",
          "value": 101
         },
         {
          "first": "p",
          "second": "a",
          "value": 209
         },
         {
          "first": "g",
          "second": "a",
          "value": 330
         },
         {
          "first": "b",
          "second": "r",
          "value": 842
         },
         {
          "first": "y",
          "second": "d",
          "value": 272
         },
         {
          "first": "n",
          "second": "r",
          "value": 44
         },
         {
          "first": "k",
          "second": "r",
          "value": 109
         },
         {
          "first": "n",
          "second": "u",
          "value": 96
         },
         {
          "first": "t",
          "second": "j",
          "value": 3
         },
         {
          "first": "k",
          "second": "y",
          "value": 379
         },
         {
          "first": "n",
          "second": "s",
          "value": 278
         },
         {
          "first": "k",
          "second": "h",
          "value": 307
         },
         {
          "first": "t",
          "second": "t",
          "value": 374
         },
         {
          "first": "w",
          "second": "w",
          "value": 2
         },
         {
          "first": "h",
          "second": "g",
          "value": 2
         },
         {
          "first": "y",
          "second": "w",
          "value": 4
         },
         {
          "first": "d",
          "second": "o",
          "value": 378
         },
         {
          "first": "c",
          "second": "s",
          "value": 5
         },
         {
          "first": "n",
          "second": "d",
          "value": 704
         },
         {
          "first": "c",
          "second": "x",
          "value": 3
         },
         {
          "first": "u",
          "second": "p",
          "value": 16
         },
         {
          "first": ".",
          "second": "d",
          "value": 1690
         },
         {
          "first": "s",
          "second": "o",
          "value": 531
         },
         {
          "first": "i",
          "second": "j",
          "value": 76
         },
         {
          "first": "v",
          "second": "b",
          "value": 1
         },
         {
          "first": "e",
          "second": "p",
          "value": 83
         },
         {
          "first": "p",
          "second": "t",
          "value": 17
         },
         {
          "first": "o",
          "second": "v",
          "value": 176
         },
         {
          "first": "k",
          "second": "v",
          "value": 2
         },
         {
          "first": "z",
          "second": "u",
          "value": 73
         },
         {
          "first": "y",
          "second": "j",
          "value": 23
         },
         {
          "first": "y",
          "second": "e",
          "value": 301
         },
         {
          "first": "c",
          "second": "u",
          "value": 35
         },
         {
          "first": "o",
          "second": "m",
          "value": 261
         },
         {
          "first": "k",
          "second": "e",
          "value": 895
         },
         {
          "first": "s",
          "second": "r",
          "value": 55
         },
         {
          "first": "p",
          "second": "n",
          "value": 1
         },
         {
          "first": "e",
          "second": "b",
          "value": 121
         },
         {
          "first": "l",
          "second": "f",
          "value": 22
         },
         {
          "first": "l",
          "second": "o",
          "value": 692
         },
         {
          "first": "g",
          "second": "n",
          "value": 27
         },
         {
          "first": "i",
          "second": ".",
          "value": 2489
         },
         {
          "first": "g",
          "second": "l",
          "value": 32
         },
         {
          "first": "c",
          "second": "d",
          "value": 1
         },
         {
          "first": "f",
          "second": "g",
          "value": 1
         },
         {
          "first": "n",
          "second": "y",
          "value": 465
         },
         {
          "first": "r",
          "second": "e",
          "value": 1697
         },
         {
          "first": "t",
          "second": "s",
          "value": 35
         },
         {
          "first": "y",
          "second": "t",
          "value": 104
         },
         {
          "first": "u",
          "second": "s",
          "value": 474
         },
         {
          "first": "b",
          "second": "t",
          "value": 2
         },
         {
          "first": "e",
          "second": "w",
          "value": 50
         },
         {
          "first": "s",
          "second": "c",
          "value": 60
         },
         {
          "first": "w",
          "second": ".",
          "value": 51
         },
         {
          "first": "u",
          "second": "l",
          "value": 301
         },
         {
          "first": "e",
          "second": "l",
          "value": 3248
         },
         {
          "first": "g",
          "second": ".",
          "value": 108
         },
         {
          "first": "e",
          "second": "f",
          "value": 82
         },
         {
          "first": "i",
          "second": "t",
          "value": 541
         },
         {
          "first": "d",
          "second": "k",
          "value": 3
         },
         {
          "first": "n",
          "second": "h",
          "value": 26
         },
         {
          "first": "s",
          "second": "u",
          "value": 185
         },
         {
          "first": "h",
          "second": "s",
          "value": 31
         },
         {
          "first": "z",
          "second": "k",
          "value": 2
         },
         {
          "first": "g",
          "second": "r",
          "value": 201
         },
         {
          "first": "c",
          "second": "a",
          "value": 815
         },
         {
          "first": "c",
          "second": "z",
          "value": 4
         },
         {
          "first": "w",
          "second": "y",
          "value": 73
         },
         {
          "first": "g",
          "second": "y",
          "value": 31
         },
         {
          "first": "p",
          "second": "j",
          "value": 1
         },
         {
          "first": "t",
          "second": "z",
          "value": 105
         },
         {
          "first": "q",
          "second": "a",
          "value": 13
         },
         {
          "first": "z",
          "second": "p",
          "value": 2
         },
         {
          "first": "v",
          "second": "i",
          "value": 911
         },
         {
          "first": "u",
          "second": "d",
          "value": 136
         },
         {
          "first": "s",
          "second": "f",
          "value": 2
         },
         {
          "first": "r",
          "second": "q",
          "value": 16
         },
         {
          "first": "w",
          "second": "n",
          "value": 58
         },
         {
          "first": "l",
          "second": "a",
          "value": 2623
         },
         {
          "first": "f",
          "second": "k",
          "value": 2
         },
         {
          "first": "q",
          "second": "s",
          "value": 2
         },
         {
          "first": "j",
          "second": "u",
          "value": 202
         },
         {
          "first": "d",
          "second": "b",
          "value": 1
         },
         {
          "first": "g",
          "second": "h",
          "value": 360
         },
         {
          "first": "b",
          "second": "c",
          "value": 1
         },
         {
          "first": "o",
          "second": "s",
          "value": 504
         },
         {
          "first": "o",
          "second": "i",
          "value": 69
         },
         {
          "first": "b",
          "second": "j",
          "value": 1
         },
         {
          "first": "u",
          "second": "h",
          "value": 58
         },
         {
          "first": ".",
          "second": "s",
          "value": 2055
         },
         {
          "first": "x",
          "second": "o",
          "value": 41
         },
         {
          "first": "a",
          "second": "s",
          "value": 1118
         },
         {
          "first": ".",
          "second": "l",
          "value": 1572
         },
         {
          "first": "y",
          "second": "o",
          "value": 271
         },
         {
          "first": "d",
          "second": "v",
          "value": 17
         },
         {
          "first": "j",
          "second": "d",
          "value": 4
         },
         {
          "first": "r",
          "second": "t",
          "value": 208
         },
         {
          "first": "e",
          "second": "j",
          "value": 55
         },
         {
          "first": "d",
          "second": "i",
          "value": 674
         },
         {
          "first": "c",
          "second": "k",
          "value": 316
         },
         {
          "first": "a",
          "second": "b",
          "value": 541
         },
         {
          "first": "l",
          "second": "w",
          "value": 16
         },
         {
          "first": "t",
          "second": "g",
          "value": 2
         },
         {
          "first": "t",
          "second": "l",
          "value": 134
         },
         {
          "first": "v",
          "second": ".",
          "value": 88
         },
         {
          "first": ".",
          "second": "r",
          "value": 1639
         },
         {
          "first": "n",
          "second": "l",
          "value": 195
         },
         {
          "first": "p",
          "second": ".",
          "value": 33
         },
         {
          "first": "r",
          "second": "b",
          "value": 41
         },
         {
          "first": "a",
          "second": "p",
          "value": 82
         },
         {
          "first": "u",
          "second": "w",
          "value": 86
         },
         {
          "first": "h",
          "second": "f",
          "value": 2
         },
         {
          "first": "b",
          "second": "i",
          "value": 217
         },
         {
          "first": "q",
          "second": "w",
          "value": 3
         },
         {
          "first": "k",
          "second": "o",
          "value": 344
         },
         {
          "first": "s",
          "second": "j",
          "value": 2
         },
         {
          "first": "r",
          "second": "m",
          "value": 162
         },
         {
          "first": "o",
          "second": "r",
          "value": 1059
         },
         {
          "first": "g",
          "second": "e",
          "value": 334
         },
         {
          "first": "p",
          "second": "e",
          "value": 197
         },
         {
          "first": "v",
          "second": "u",
          "value": 7
         },
         {
          "first": "g",
          "second": "v",
          "value": 1
         },
         {
          "first": "j",
          "second": "y",
          "value": 10
         },
         {
          "first": "d",
          "second": "n",
          "value": 31
         },
         {
          "first": "t",
          "second": "v",
          "value": 15
         },
         {
          "first": "u",
          "second": "e",
          "value": 169
         },
         {
          "first": "e",
          "second": "o",
          "value": 269
         },
         {
          "first": "i",
          "second": "c",
          "value": 509
         },
         {
          "first": "u",
          "second": "t",
          "value": 82
         },
         {
          "first": "e",
          "second": "t",
          "value": 580
         },
         {
          "first": "h",
          "second": "m",
          "value": 117
         },
         {
          "first": "a",
          "second": "f",
          "value": 134
         },
         {
          "first": "i",
          "second": "m",
          "value": 427
         },
         {
          "first": "d",
          "second": "e",
          "value": 1283
         },
         {
          "first": "r",
          "second": "z",
          "value": 23
         },
         {
          "first": "s",
          "second": ".",
          "value": 1169
         },
         {
          "first": "q",
          "second": "l",
          "value": 1
         },
         {
          "first": "m",
          "second": "k",
          "value": 1
         },
         {
          "first": "r",
          "second": "x",
          "value": 3
         },
         {
          "first": "a",
          "second": "w",
          "value": 161
         },
         {
          "first": "o",
          "second": "d",
          "value": 190
         },
         {
          "first": "w",
          "second": "b",
          "value": 1
         },
         {
          "first": ".",
          "second": "h",
          "value": 874
         },
         {
          "first": ".",
          "second": "q",
          "value": 92
         },
         {
          "first": "x",
          "second": "c",
          "value": 4
         },
         {
          "first": "j",
          "second": "h",
          "value": 45
         },
         {
          "first": "d",
          "second": "z",
          "value": 1
         },
         {
          "first": "o",
          "second": "c",
          "value": 114
         },
         {
          "first": "a",
          "second": "l",
          "value": 2528
         },
         {
          "first": "c",
          "second": ".",
          "value": 97
         },
         {
          "first": "d",
          "second": "s",
          "value": 29
         },
         {
          "first": ".",
          "second": "c",
          "value": 1542
         },
         {
          "first": "l",
          "second": "j",
          "value": 6
         },
         {
          "first": "m",
          "second": "a",
          "value": 2590
         },
         {
          "first": "v",
          "second": "a",
          "value": 642
         },
         {
          "first": "o",
          "second": "z",
          "value": 54
         },
         {
          "first": "c",
          "second": "h",
          "value": 664
         },
         {
          "first": "y",
          "second": "i",
          "value": 192
         },
         {
          "first": "h",
          "second": "a",
          "value": 2244
         },
         {
          "first": "r",
          "second": "i",
          "value": 3033
         },
         {
          "first": "c",
          "second": "y",
          "value": 104
         },
         {
          "first": "n",
          "second": "b",
          "value": 8
         },
         {
          "first": "k",
          "second": "i",
          "value": 509
         },
         {
          "first": "x",
          "second": "y",
          "value": 30
         },
         {
          "first": "s",
          "second": "n",
          "value": 24
         },
         {
          "first": "x",
          "second": "h",
          "value": 1
         },
         {
          "first": "z",
          "second": "y",
          "value": 147
         },
         {
          "first": "f",
          "second": "u",
          "value": 10
         },
         {
          "first": "p",
          "second": "s",
          "value": 16
         },
         {
          "first": "c",
          "second": "r",
          "value": 76
         },
         {
          "first": "t",
          "second": "o",
          "value": 667
         },
         {
          "first": "z",
          "second": "l",
          "value": 123
         },
         {
          "first": "m",
          "second": "p",
          "value": 38
         },
         {
          "first": ".",
          "second": "z",
          "value": 929
         },
         {
          "first": "w",
          "second": "g",
          "value": 1
         },
         {
          "first": "a",
          "second": "h",
          "value": 2332
         },
         {
          "first": "s",
          "second": "y",
          "value": 215
         },
         {
          "first": "j",
          "second": "n",
          "value": 2
         },
         {
          "first": "h",
          "second": "w",
          "value": 10
         },
         {
          "first": "i",
          "second": "g",
          "value": 428
         },
         {
          "first": "y",
          "second": "x",
          "value": 28
         },
         {
          "first": "u",
          "second": "o",
          "value": 10
         },
         {
          "first": "i",
          "second": "x",
          "value": 89
         },
         {
          "first": "z",
          "second": "j",
          "value": 2
         },
         {
          "first": "x",
          "second": "w",
          "value": 3
         },
         {
          "first": "n",
          "second": "q",
          "value": 2
         },
         {
          "first": "i",
          "second": "u",
          "value": 109
         },
         {
          "first": "j",
          "second": "e",
          "value": 440
         },
         {
          "first": "v",
          "second": "n",
          "value": 8
         },
         {
          "first": "n",
          "second": "m",
          "value": 19
         },
         {
          "first": "f",
          "second": "n",
          "value": 4
         },
         {
          "first": "z",
          "second": "v",
          "value": 2
         },
         {
          "first": ".",
          "second": "m",
          "value": 2538
         },
         {
          "first": "l",
          "second": "n",
          "value": 14
         },
         {
          "first": "q",
          "second": "e",
          "value": 1
         },
         {
          "first": "d",
          "second": "q",
          "value": 1
         },
         {
          "first": "u",
          "second": "r",
          "value": 414
         },
         {
          "first": "o",
          "second": "j",
          "value": 16
         },
         {
          "first": "r",
          "second": "f",
          "value": 9
         },
         {
          "first": "e",
          "second": "g",
          "value": 125
         },
         {
          "first": "w",
          "second": "z",
          "value": 1
         },
         {
          "first": "e",
          "second": "m",
          "value": 769
         },
         {
          "first": "u",
          "second": "m",
          "value": 154
         },
         {
          "first": "v",
          "second": "d",
          "value": 1
         },
         {
          "first": "f",
          "second": "y",
          "value": 14
         },
         {
          "first": "f",
          "second": "h",
          "value": 1
         },
         {
          "first": "j",
          "second": "v",
          "value": 5
         },
         {
          "first": "y",
          "second": "u",
          "value": 141
         },
         {
          "first": "w",
          "second": "k",
          "value": 6
         },
         {
          "first": "a",
          "second": "o",
          "value": 63
         },
         {
          "first": "u",
          "second": "c",
          "value": 103
         },
         {
          "first": "r",
          "second": "p",
          "value": 14
         },
         {
          "first": "h",
          "second": "t",
          "value": 71
         },
         {
          "first": "a",
          "second": "t",
          "value": 687
         },
         {
          "first": "k",
          "second": "w",
          "value": 34
         },
         {
          "first": "t",
          "second": "h",
          "value": 647
         },
         {
          "first": "p",
          "second": "k",
          "value": 1
         },
         {
          "first": "r",
          "second": "k",
          "value": 90
         },
         {
          "first": "k",
          "second": "c",
          "value": 2
         },
         {
          "first": "g",
          "second": "o",
          "value": 83
         },
         {
          "first": "g",
          "second": "m",
          "value": 6
         },
         {
          "first": "i",
          "second": "d",
          "value": 440
         },
         {
          "first": "c",
          "second": "e",
          "value": 551
         },
         {
          "first": "n",
          "second": "z",
          "value": 145
         },
         {
          "first": "r",
          "second": "u",
          "value": 252
         },
         {
          "first": "t",
          "second": "c",
          "value": 17
         },
         {
          "first": "h",
          "second": "j",
          "value": 9
         },
         {
          "first": "s",
          "second": "b",
          "value": 21
         },
         {
          "first": "d",
          "second": "l",
          "value": 60
         },
         {
          "first": "f",
          "second": ".",
          "value": 80
         },
         {
          "first": "o",
          "second": ".",
          "value": 855
         },
         {
          "first": "m",
          "second": "l",
          "value": 5
         },
         {
          "first": "s",
          "second": "q",
          "value": 1
         },
         {
          "first": "i",
          "second": "a",
          "value": 2445
         },
         {
          "first": "r",
          "second": "a",
          "value": 2356
         },
         {
          "first": "e",
          "second": "x",
          "value": 132
         },
         {
          "first": "b",
          "second": "u",
          "value": 45
         },
         {
          "first": "e",
          "second": "k",
          "value": 178
         },
         {
          "first": "o",
          "second": "n",
          "value": 2411
         },
         {
          "first": "u",
          "second": "i",
          "value": 121
         },
         {
          "first": "t",
          "second": "r",
          "value": 352
         },
         {
          "first": "d",
          "second": "a",
          "value": 1303
         },
         {
          "first": "j",
          "second": "b",
          "value": 1
         },
         {
          "first": "s",
          "second": "v",
          "value": 14
         },
         {
          "first": ".",
          "second": "b",
          "value": 1306
         },
         {
          "first": "n",
          "second": "i",
          "value": 1725
         },
         {
          "first": "v",
          "second": "y",
          "value": 121
         },
         {
          "first": "k",
          "second": "f",
          "value": 1
         },
         {
          "first": "h",
          "second": ".",
          "value": 2409
         },
         {
          "first": "f",
          "second": "l",
          "value": 20
         },
         {
          "first": "a",
          "second": "c",
          "value": 470
         },
         {
          "first": ".",
          "second": "t",
          "value": 1308
         },
         {
          "first": "m",
          "second": "y",
          "value": 287
         },
         {
          "first": "b",
          "second": "d",
          "value": 65
         },
         {
          "first": "c",
          "second": "q",
          "value": 11
         },
         {
          "first": "p",
          "second": "r",
          "value": 151
         },
         {
          "first": "d",
          "second": "w",
          "value": 23
         },
         {
          "first": "u",
          "second": "x",
          "value": 34
         },
         {
          "first": "s",
          "second": "g",
          "value": 2
         },
         {
          "first": "w",
          "second": "o",
          "value": 36
         },
         {
          "first": "q",
          "second": "o",
          "value": 2
         },
         {
          "first": "l",
          "second": "g",
          "value": 6
         },
         {
          "first": "g",
          "second": "i",
          "value": 190
         },
         {
          "first": "y",
          "second": "n",
          "value": 1826
         },
         {
          "first": "z",
          "second": "o",
          "value": 110
         },
         {
          "first": "l",
          "second": "l",
          "value": 1345
         },
         {
          "first": "n",
          "second": ".",
          "value": 6763
         },
         {
          "first": "m",
          "second": "h",
          "value": 5
         },
         {
          "first": "p",
          "second": "o",
          "value": 59
         },
         {
          "first": "m",
          "second": "e",
          "value": 818
         },
         {
          "first": "o",
          "second": "b",
          "value": 140
         },
         {
          "first": "v",
          "second": "e",
          "value": 568
         },
         {
          "first": "k",
          "second": "j",
          "value": 2
         },
         {
          "first": ".",
          "second": "f",
          "value": 417
         },
         {
          "first": "a",
          "second": "g",
          "value": 168
         },
         {
          "first": "e",
          "second": "n",
          "value": 2675
         },
         {
          "first": "n",
          "second": "f",
          "value": 11
         },
         {
          "first": "m",
          "second": "o",
          "value": 452
         },
         {
          "first": "s",
          "second": "z",
          "value": 10
         },
         {
          "first": "w",
          "second": "u",
          "value": 25
         },
         {
          "first": "b",
          "second": "y",
          "value": 83
         },
         {
          "first": "s",
          "second": "m",
          "value": 90
         },
         {
          "first": "g",
          "second": "u",
          "value": 85
         },
         {
          "first": "i",
          "second": "l",
          "value": 1345
         },
         {
          "first": "k",
          "second": ".",
          "value": 363
         },
         {
          "first": "t",
          "second": "n",
          "value": 22
         },
         {
          "first": "h",
          "second": "e",
          "value": 674
         },
         {
          "first": "b",
          "second": "h",
          "value": 41
         },
         {
          "first": "z",
          "second": "c",
          "value": 2
         },
         {
          "first": "n",
          "second": "p",
          "value": 5
         },
         {
          "first": "k",
          "second": "n",
          "value": 26
         },
         {
          "first": "p",
          "second": "h",
          "value": 204
         },
         {
          "first": "g",
          "second": "d",
          "value": 19
         },
         {
          "first": "s",
          "second": "k",
          "value": 82
         },
         {
          "first": "l",
          "second": "k",
          "value": 24
         },
         {
          "first": "f",
          "second": "t",
          "value": 18
         },
         {
          "first": "p",
          "second": "c",
          "value": 1
         },
         {
          "first": "y",
          "second": "b",
          "value": 27
         },
         {
          "first": "j",
          "second": "m",
          "value": 5
         },
         {
          "first": "d",
          "second": "j",
          "value": 9
         },
         {
          "first": "b",
          "second": "l",
          "value": 103
         },
         {
          "first": "d",
          "second": ".",
          "value": 516
         },
         {
          "first": ".",
          "second": "y",
          "value": 535
         },
         {
          "first": "j",
          "second": "i",
          "value": 119
         },
         {
          "first": "n",
          "second": "a",
          "value": 2977
         },
         {
          "first": "d",
          "second": "r",
          "value": 424
         },
         {
          "first": "z",
          "second": "z",
          "value": 45
         },
         {
          "first": "l",
          "second": "r",
          "value": 18
         },
         {
          "first": "a",
          "second": "z",
          "value": 435
         },
         {
          "first": "e",
          "second": "a",
          "value": 679
         },
         {
          "first": "d",
          "second": "m",
          "value": 30
         },
         {
          "first": "w",
          "second": "a",
          "value": 280
         },
         {
          "first": "y",
          "second": "y",
          "value": 23
         },
         {
          "first": ".",
          "second": "i",
          "value": 591
         },
         {
          "first": "q",
          "second": "i",
          "value": 13
         },
         {
          "first": "u",
          "second": "n",
          "value": 275
         },
         {
          "first": "i",
          "second": "y",
          "value": 779
         },
         {
          "first": "r",
          "second": "j",
          "value": 25
         },
         {
          "first": "g",
          "second": "z",
          "value": 1
         },
         {
          "first": "x",
          "second": "z",
          "value": 19
         },
         {
          "first": "a",
          "second": "i",
          "value": 1650
         },
         {
          "first": "e",
          "second": "s",
          "value": 861
         },
         {
          "first": "l",
          "second": "d",
          "value": 138
         },
         {
          "first": "o",
          "second": "q",
          "value": 3
         },
         {
          "first": "d",
          "second": "f",
          "value": 5
         },
         {
          "first": "r",
          "second": "y",
          "value": 773
         },
         {
          "first": "a",
          "second": "x",
          "value": 182
         },
         {
          "first": "o",
          "second": "g",
          "value": 44
         },
         {
          "first": ".",
          "second": "p",
          "value": 515
         },
         {
          "first": "y",
          "second": "f",
          "value": 12
         },
         {
          "first": "v",
          "second": "o",
          "value": 153
         },
         {
          "first": "t",
          "second": "w",
          "value": 11
         },
         {
          "first": "r",
          "second": "l",
          "value": 413
         },
         {
          "first": "t",
          "second": ".",
          "value": 483
         },
         {
          "first": "x",
          "second": "b",
          "value": 1
         },
         {
          "first": "z",
          "second": "g",
          "value": 1
         },
         {
          "first": "a",
          "second": "k",
          "value": 568
         },
         {
          "first": "f",
          "second": "o",
          "value": 60
         },
         {
          "first": "h",
          "second": "n",
          "value": 138
         },
         {
          "first": "w",
          "second": "f",
          "value": 2
         },
         {
          "first": "x",
          "second": "l",
          "value": 39
         },
         {
          "first": "z",
          "second": ".",
          "value": 160
         },
         {
          "first": "i",
          "second": "h",
          "value": 95
         },
         {
          "first": "h",
          "second": "i",
          "value": 729
         },
         {
          "first": "c",
          "second": "i",
          "value": 271
         },
         {
          "first": "t",
          "second": "e",
          "value": 716
         },
         {
          "first": "m",
          "second": "m",
          "value": 168
         },
         {
          "first": "r",
          "second": "v",
          "value": 80
         },
         {
          "first": "m",
          "second": "r",
          "value": 97
         },
         {
          "first": "i",
          "second": "e",
          "value": 1653
         },
         {
          "first": "a",
          "second": "n",
          "value": 5438
         },
         {
          "first": "j",
          "second": "p",
          "value": 1
         },
         {
          "first": "s",
          "second": "w",
          "value": 24
         },
         {
          "first": ".",
          "second": "u",
          "value": 78
         },
         {
          "first": "a",
          "second": "d",
          "value": 1042
         },
         {
          "first": "k",
          "second": "b",
          "value": 2
         },
         {
          "first": "x",
          "second": "m",
          "value": 1
         },
         {
          "first": "a",
          "second": "u",
          "value": 381
         },
         {
          "first": ".",
          "second": "n",
          "value": 1146
         },
         {
          "first": "n",
          "second": "n",
          "value": 1906
         },
         {
          "first": "i",
          "second": "o",
          "value": 588
         },
         {
          "first": "c",
          "second": "c",
          "value": 42
         },
         {
          "first": "f",
          "second": "z",
          "value": 2
         },
         {
          "first": "k",
          "second": "t",
          "value": 17
         },
         {
          "first": "l",
          "second": "h",
          "value": 19
         },
         {
          "first": "l",
          "second": "m",
          "value": 60
         },
         {
          "first": "j",
          "second": "s",
          "value": 7
         },
         {
          "first": "p",
          "second": "u",
          "value": 4
         },
         {
          "first": "l",
          "second": "c",
          "value": 25
         },
         {
          "first": "o",
          "second": "k",
          "value": 68
         },
         {
          "first": "u",
          "second": "b",
          "value": 103
         },
         {
          "first": "h",
          "second": "z",
          "value": 20
         },
         {
          "first": "s",
          "second": "d",
          "value": 9
         },
         {
          "first": "j",
          "second": "r",
          "value": 11
         },
         {
          "first": "m",
          "second": "c",
          "value": 51
         },
         {
          "first": "p",
          "second": "p",
          "value": 39
         },
         {
          "first": "b",
          "second": "e",
          "value": 655
         },
         {
          "first": "q",
          "second": "u",
          "value": 206
         },
         {
          "first": "p",
          "second": "y",
          "value": 12
         },
         {
          "first": "y",
          "second": ".",
          "value": 2007
         },
         {
          "first": "w",
          "second": "l",
          "value": 13
         },
         {
          "first": "l",
          "second": "u",
          "value": 324
         },
         {
          "first": "u",
          "second": "f",
          "value": 19
         },
         {
          "first": "y",
          "second": "q",
          "value": 6
         },
         {
          "first": "m",
          "second": "i",
          "value": 1256
         },
         {
          "first": "w",
          "second": "d",
          "value": 8
         },
         {
          "first": "x",
          "second": "i",
          "value": 102
         },
         {
          "first": "j",
          "second": "a",
          "value": 1473
         },
         {
          "first": "h",
          "second": "p",
          "value": 1
         },
         {
          "first": "i",
          "second": "r",
          "value": 849
         },
         {
          "first": "a",
          "second": "a",
          "value": 556
         },
         {
          "first": "u",
          "second": "y",
          "value": 13
         },
         {
          "first": "m",
          "second": "z",
          "value": 11
         },
         {
          "first": "e",
          "second": "y",
          "value": 1070
         },
         {
          "first": "s",
          "second": "a",
          "value": 1201
         },
         {
          "first": "o",
          "second": "x",
          "value": 45
         },
         {
          "first": "e",
          "second": "h",
          "value": 152
         },
         {
          "first": "n",
          "second": "j",
          "value": 44
         },
         {
          "first": ".",
          "second": "a",
          "value": 4410
         },
         {
          "first": "y",
          "second": "l",
          "value": 1104
         },
         {
          "first": "h",
          "second": "k",
          "value": 29
         },
         {
          "first": "b",
          "second": "b",
          "value": 38
         },
         {
          "first": "i",
          "second": "q",
          "value": 52
         },
         {
          "first": "h",
          "second": "d",
          "value": 24
         },
         {
          "first": "f",
          "second": "i",
          "value": 160
         },
         {
          "first": "b",
          "second": "o",
          "value": 105
         },
         {
          "first": "z",
          "second": "r",
          "value": 32
         },
         {
          "first": "n",
          "second": "w",
          "value": 11
         },
         {
          "first": "s",
          "second": "p",
          "value": 51
         },
         {
          "first": "w",
          "second": "h",
          "value": 23
         },
         {
          "first": "r",
          "second": "o",
          "value": 869
         },
         {
          "first": "o",
          "second": "o",
          "value": 115
         },
         {
          "first": "c",
          "second": "p",
          "value": 1
         },
         {
          "first": "t",
          "second": "b",
          "value": 1
         },
         {
          "first": "m",
          "second": "v",
          "value": 3
         },
         {
          "first": "z",
          "second": "a",
          "value": 860
         },
         {
          "first": "t",
          "second": "m",
          "value": 4
         },
         {
          "first": "e",
          "second": "e",
          "value": 1271
         },
         {
          "first": "g",
          "second": "b",
          "value": 3
         },
         {
          "first": "y",
          "second": "r",
          "value": 291
         },
         {
          "first": "u",
          "second": "j",
          "value": 14
         },
         {
          "first": "z",
          "second": "n",
          "value": 4
         },
         {
          "first": ".",
          "second": "x",
          "value": 134
         },
         {
          "first": "z",
          "second": "d",
          "value": 2
         },
         {
          "first": "f",
          "second": "f",
          "value": 44
         },
         {
          "first": "n",
          "second": "o",
          "value": 496
         },
         {
          "first": "m",
          "second": "u",
          "value": 139
         },
         {
          "first": "d",
          "second": "g",
          "value": 25
         },
         {
          "first": "l",
          "second": "y",
          "value": 1588
         },
         {
          "first": "y",
          "second": "m",
          "value": 148
         },
         {
          "first": "n",
          "second": "e",
          "value": 1359
         },
         {
          "first": "i",
          "second": "v",
          "value": 269
         },
         {
          "first": "x",
          "second": "u",
          "value": 5
         },
         {
          "first": "l",
          "second": "t",
          "value": 77
         },
         {
          "first": "w",
          "second": "e",
          "value": 149
         },
         {
          "first": ".",
          "second": "e",
          "value": 1531
         },
         {
          "first": "h",
          "second": "q",
          "value": 1
         },
         {
          "first": "h",
          "second": "h",
          "value": 1
         },
         {
          "first": "z",
          "second": "s",
          "value": 4
         },
         {
          "first": "o",
          "second": "w",
          "value": 114
         },
         {
          "first": "f",
          "second": "s",
          "value": 6
         },
         {
          "first": "o",
          "second": "u",
          "value": 275
         },
         {
          "first": "t",
          "second": "x",
          "value": 2
         },
         {
          "first": "y",
          "second": "c",
          "value": 115
         },
         {
          "first": "m",
          "second": "d",
          "value": 24
         },
         {
          "first": "h",
          "second": "c",
          "value": 2
         },
         {
          "first": "k",
          "second": "m",
          "value": 9
         },
         {
          "first": "v",
          "second": "k",
          "value": 3
         },
         {
          "first": "r",
          "second": "c",
          "value": 99
         },
         {
          "first": "k",
          "second": "k",
          "value": 20
         },
         {
          "first": "w",
          "second": "t",
          "value": 8
         },
         {
          "first": "g",
          "second": "t",
          "value": 31
         },
         {
          "first": "x",
          "second": "f",
          "value": 3
         },
         {
          "first": "w",
          "second": "s",
          "value": 20
         },
         {
          "first": "e",
          "second": ".",
          "value": 3983
         },
         {
          "first": "c",
          "second": "l",
          "value": 116
         },
         {
          "first": "s",
          "second": "l",
          "value": 279
         },
         {
          "first": "u",
          "second": ".",
          "value": 155
         },
         {
          "first": "e",
          "second": "q",
          "value": 14
         },
         {
          "first": "i",
          "second": "k",
          "value": 445
         },
         {
          "first": "a",
          "second": "y",
          "value": 2050
         },
         {
          "first": ".",
          "second": "j",
          "value": 2422
         },
         {
          "first": "i",
          "second": "i",
          "value": 82
         },
         {
          "first": "y",
          "second": "v",
          "value": 106
         },
         {
          "first": "v",
          "second": "r",
          "value": 48
         },
         {
          "first": "f",
          "second": "a",
          "value": 242
         },
         {
          "first": "m",
          "second": "n",
          "value": 20
         },
         {
          "first": "j",
          "second": "j",
          "value": 2
         },
         {
          "first": "o",
          "second": "a",
          "value": 149
         },
         {
          "first": "z",
          "second": "h",
          "value": 43
         },
         {
          "first": "u",
          "second": "q",
          "value": 10
         },
         {
          "first": "m",
          "second": "s",
          "value": 35
         },
         {
          "first": "h",
          "second": "u",
          "value": 166
         },
         {
          "first": "o",
          "second": "f",
          "value": 34
         },
         {
          "first": "t",
          "second": "i",
          "value": 532
         },
         {
          "first": "p",
          "second": "b",
          "value": 2
         },
         {
          "first": ".",
          "second": "o",
          "value": 394
         },
         {
          "first": "x",
          "second": "a",
          "value": 103
         },
         {
          "first": "e",
          "second": "r",
          "value": 1958
         },
         {
          "first": "a",
          "second": "j",
          "value": 175
         },
         {
          "first": "l",
          "second": ".",
          "value": 1314
         },
         {
          "first": "j",
          "second": "l",
          "value": 9
         },
         {
          "first": "n",
          "second": "v",
          "value": 55
         },
         {
          "first": "g",
          "second": "j",
          "value": 3
         },
         {
          "first": "y",
          "second": "g",
          "value": 30
         },
         {
          "first": "j",
          "second": "w",
          "value": 6
         },
         {
          "first": "k",
          "second": "s",
          "value": 95
         },
         {
          "first": "r",
          "second": "g",
          "value": 76
         },
         {
          "first": "d",
          "second": "d",
          "value": 149
         },
         {
          "first": "o",
          "second": "p",
          "value": 95
         },
         {
          "first": "g",
          "second": "g",
          "value": 25
         },
         {
          "first": "s",
          "second": "h",
          "value": 1285
         },
         {
          "first": "z",
          "second": "w",
          "value": 3
         },
         {
          "first": "n",
          "second": "t",
          "value": 443
         },
         {
          "first": "l",
          "second": "q",
          "value": 3
         },
         {
          "first": "r",
          "second": ".",
          "value": 1377
         },
         {
          "first": "p",
          "second": "l",
          "value": 16
         },
         {
          "first": "p",
          "second": "x",
          "value": 1
         },
         {
          "first": "x",
          "second": "k",
          "value": 1
         },
         {
          "first": "g",
          "second": "q",
          "value": 1
         },
         {
          "first": "j",
          "second": "z",
          "value": 1
         },
         {
          "first": "w",
          "second": "p",
          "value": 1
         },
         {
          "first": "c",
          "second": "m",
          "value": 1
         },
         {
          "first": "c",
          "second": "f",
          "value": 1
         },
         {
          "first": "m",
          "second": "x",
          "value": 1
         },
         {
          "first": "h",
          "second": "x",
          "value": 1
         },
         {
          "first": "v",
          "second": "s",
          "value": 1
         },
         {
          "first": "j",
          "second": "g",
          "value": 1
         },
         {
          "first": "w",
          "second": "x",
          "value": 1
         },
         {
          "first": "q",
          "second": "t",
          "value": 1
         },
         {
          "first": "c",
          "second": "w",
          "value": 1
         },
         {
          "first": "f",
          "second": "q",
          "value": 1
         },
         {
          "first": "b",
          "second": "f",
          "value": 1
         },
         {
          "first": "b",
          "second": "p",
          "value": 1
         },
         {
          "first": "q",
          "second": "h",
          "value": 1
         },
         {
          "first": "z",
          "second": "q",
          "value": 1
         },
         {
          "first": "c",
          "second": "v",
          "value": 1
         },
         {
          "first": "v",
          "second": "t",
          "value": 1
         },
         {
          "first": "v",
          "second": "x",
          "value": 1
         },
         {
          "first": "q",
          "second": "c",
          "value": 1
         },
         {
          "first": "q",
          "second": "d",
          "value": 1
         },
         {
          "first": "f",
          "second": "d",
          "value": 1
         },
         {
          "first": "f",
          "second": "m",
          "value": 1
         },
         {
          "first": "q",
          "second": "j",
          "value": 1
         },
         {
          "first": "w",
          "second": "c",
          "value": 1
         },
         {
          "first": "q",
          "second": "b",
          "value": 1
         },
         {
          "first": "p",
          "second": "w",
          "value": 1
         },
         {
          "first": "q",
          "second": "k",
          "value": 1
         },
         {
          "first": "g",
          "second": "k",
          "value": 1
         },
         {
          "first": "f",
          "second": "c",
          "value": 1
         },
         {
          "first": "c",
          "second": "b",
          "value": 1
         },
         {
          "first": "g",
          "second": "p",
          "value": 1
         },
         {
          "first": ".",
          "second": ".",
          "value": 1
         },
         {
          "first": "q",
          "second": "v",
          "value": 1
         },
         {
          "first": "x",
          "second": "p",
          "value": 1
         },
         {
          "first": "x",
          "second": "v",
          "value": 1
         },
         {
          "first": "w",
          "second": "v",
          "value": 1
         },
         {
          "first": "j",
          "second": "f",
          "value": 1
         },
         {
          "first": "v",
          "second": "j",
          "value": 1
         },
         {
          "first": "d",
          "second": "x",
          "value": 1
         },
         {
          "first": "t",
          "second": "p",
          "value": 1
         },
         {
          "first": "p",
          "second": "z",
          "value": 1
         },
         {
          "first": "q",
          "second": "n",
          "value": 1
         },
         {
          "first": "q",
          "second": "y",
          "value": 1
         },
         {
          "first": "q",
          "second": "q",
          "value": 1
         },
         {
          "first": "v",
          "second": "f",
          "value": 1
         },
         {
          "first": "b",
          "second": "k",
          "value": 1
         },
         {
          "first": "k",
          "second": "p",
          "value": 1
         },
         {
          "first": "k",
          "second": "g",
          "value": 1
         },
         {
          "first": "b",
          "second": "m",
          "value": 1
         },
         {
          "first": "k",
          "second": "x",
          "value": 1
         },
         {
          "first": "p",
          "second": "g",
          "value": 1
         },
         {
          "first": "j",
          "second": "q",
          "value": 1
         },
         {
          "first": "j",
          "second": "x",
          "value": 1
         },
         {
          "first": "v",
          "second": "c",
          "value": 1
         },
         {
          "first": "v",
          "second": "w",
          "value": 1
         },
         {
          "first": "q",
          "second": "g",
          "value": 1
         },
         {
          "first": "q",
          "second": "x",
          "value": 1
         },
         {
          "first": "b",
          "second": "z",
          "value": 1
         },
         {
          "first": "l",
          "second": "x",
          "value": 1
         },
         {
          "first": "m",
          "second": "g",
          "value": 1
         },
         {
          "first": "f",
          "second": "x",
          "value": 1
         },
         {
          "first": "v",
          "second": "z",
          "value": 1
         },
         {
          "first": "t",
          "second": "k",
          "value": 1
         },
         {
          "first": "q",
          "second": "f",
          "value": 1
         },
         {
          "first": "d",
          "second": "p",
          "value": 1
         },
         {
          "first": "c",
          "second": "n",
          "value": 1
         },
         {
          "first": "p",
          "second": "d",
          "value": 1
         },
         {
          "first": "x",
          "second": "r",
          "value": 1
         },
         {
          "first": "b",
          "second": "x",
          "value": 1
         },
         {
          "first": "f",
          "second": "p",
          "value": 1
         },
         {
          "first": "f",
          "second": "b",
          "value": 1
         },
         {
          "first": "z",
          "second": "f",
          "value": 1
         },
         {
          "first": "x",
          "second": "q",
          "value": 1
         },
         {
          "first": "b",
          "second": "g",
          "value": 1
         },
         {
          "first": "w",
          "second": "j",
          "value": 1
         },
         {
          "first": "g",
          "second": "x",
          "value": 1
         },
         {
          "first": "v",
          "second": "q",
          "value": 1
         },
         {
          "first": "w",
          "second": "q",
          "value": 1
         },
         {
          "first": "t",
          "second": "d",
          "value": 1
         },
         {
          "first": "x",
          "second": "j",
          "value": 1
         },
         {
          "first": "q",
          "second": "z",
          "value": 1
         },
         {
          "first": "x",
          "second": "g",
          "value": 1
         },
         {
          "first": "p",
          "second": "q",
          "value": 1
         },
         {
          "first": "v",
          "second": "p",
          "value": 1
         },
         {
          "first": "p",
          "second": "v",
          "value": 1
         },
         {
          "first": "s",
          "second": "x",
          "value": 1
         },
         {
          "first": "b",
          "second": "w",
          "value": 1
         },
         {
          "first": "g",
          "second": "c",
          "value": 1
         },
         {
          "first": "k",
          "second": "q",
          "value": 1
         },
         {
          "first": "t",
          "second": "q",
          "value": 1
         },
         {
          "first": "f",
          "second": "v",
          "value": 1
         },
         {
          "first": "m",
          "second": "q",
          "value": 1
         },
         {
          "first": "v",
          "second": "m",
          "value": 1
         },
         {
          "first": "q",
          "second": "p",
          "value": 1
         },
         {
          "first": "f",
          "second": "j",
          "value": 1
         },
         {
          "first": "b",
          "second": "v",
          "value": 1
         },
         {
          "first": "b",
          "second": "q",
          "value": 1
         },
         {
          "first": "v",
          "second": "g",
          "value": 1
         }
        ]
       },
       "description": "A heat map with each cell displaying its first and second category labels along with the value.",
       "height": 1000,
       "layer": [
        {
         "encoding": {
          "color": {
           "field": "value",
           "legend": {
            "title": "Value"
           },
           "scale": {
            "range": [
             "white",
             "steelblue"
            ]
           },
           "type": "quantitative"
          },
          "x": {
           "axis": {
            "title": "First letter"
           },
           "field": "first",
           "type": "nominal"
          },
          "y": {
           "axis": {
            "title": "Second letter"
           },
           "field": "second",
           "type": "nominal"
          }
         },
         "mark": "rect"
        },
        {
         "encoding": {
          "text": {
           "field": "cellLabel",
           "type": "nominal"
          },
          "tooltip": [
           {
            "field": "first",
            "title": "First Letter",
            "type": "nominal"
           },
           {
            "field": "second",
            "title": "Second Letter",
            "type": "nominal"
           },
           {
            "field": "value",
            "title": "Count",
            "type": "quantitative"
           }
          ],
          "x": {
           "field": "first",
           "type": "nominal"
          },
          "y": {
           "field": "second",
           "type": "nominal"
          }
         },
         "mark": {
          "align": "center",
          "baseline": "middle",
          "color": "black",
          "fontSize": 12,
          "lineBreak": ":::",
          "type": "text"
         }
        }
       ],
       "title": "Character bigram counts (not probability weighted)",
       "transform": [
        {
         "as": "cellLabel",
         "calculate": "datum.first + ', ' + datum.second + ':::' + datum.value"
        }
       ],
       "width": 1000
      }
     },
     "metadata": {},
     "output_type": "display_data"
    },
    {
     "data": {
      "application/vnd.vega.v5+json": {
       "$schema": "https://vega.github.io/schema/vega-lite/v5.json",
       "data": {
        "values": [
         {
          "first": "e",
          "second": "e",
          "value": 21
         },
         {
          "first": "e",
          "second": "n",
          "value": 45
         },
         {
          "first": "e",
          "second": ".",
          "value": 68
         },
         {
          "first": "e",
          "second": "t",
          "value": 9
         },
         {
          "first": "e",
          "second": "a",
          "value": 11
         },
         {
          "first": "e",
          "second": "m",
          "value": 13
         },
         {
          "first": "e",
          "second": "i",
          "value": 14
         },
         {
          "first": "e",
          "second": "v",
          "value": 7
         },
         {
          "first": "e",
          "second": "p",
          "value": 1
         },
         {
          "first": "e",
          "second": "r",
          "value": 33
         },
         {
          "first": "e",
          "second": "w",
          "value": 0
         },
         {
          "first": "e",
          "second": "k",
          "value": 3
         },
         {
          "first": "e",
          "second": "s",
          "value": 14
         },
         {
          "first": "e",
          "second": "x",
          "value": 2
         },
         {
          "first": "e",
          "second": "j",
          "value": 0
         },
         {
          "first": "e",
          "second": "y",
          "value": 18
         },
         {
          "first": "e",
          "second": "u",
          "value": 1
         },
         {
          "first": "e",
          "second": "f",
          "value": 1
         },
         {
          "first": "e",
          "second": "q",
          "value": 0
         },
         {
          "first": "e",
          "second": "b",
          "value": 2
         },
         {
          "first": "e",
          "second": "g",
          "value": 2
         },
         {
          "first": "e",
          "second": "l",
          "value": 55
         },
         {
          "first": "e",
          "second": "c",
          "value": 2
         },
         {
          "first": "e",
          "second": "h",
          "value": 2
         },
         {
          "first": "e",
          "second": "o",
          "value": 4
         },
         {
          "first": "e",
          "second": "z",
          "value": 3
         },
         {
          "first": "e",
          "second": "d",
          "value": 6
         },
         {
          "first": "n",
          "second": "e",
          "value": 25
         },
         {
          "first": "n",
          "second": "n",
          "value": 36
         },
         {
          "first": "n",
          "second": ".",
          "value": 129
         },
         {
          "first": "n",
          "second": "t",
          "value": 8
         },
         {
          "first": "n",
          "second": "a",
          "value": 56
         },
         {
          "first": "n",
          "second": "m",
          "value": 0
         },
         {
          "first": "n",
          "second": "i",
          "value": 32
         },
         {
          "first": "n",
          "second": "v",
          "value": 1
         },
         {
          "first": "n",
          "second": "p",
          "value": 0
         },
         {
          "first": "n",
          "second": "r",
          "value": 0
         },
         {
          "first": "n",
          "second": "w",
          "value": 0
         },
         {
          "first": "n",
          "second": "k",
          "value": 1
         },
         {
          "first": "n",
          "second": "s",
          "value": 5
         },
         {
          "first": "n",
          "second": "x",
          "value": 0
         },
         {
          "first": "n",
          "second": "j",
          "value": 0
         },
         {
          "first": "n",
          "second": "y",
          "value": 8
         },
         {
          "first": "n",
          "second": "u",
          "value": 1
         },
         {
          "first": "n",
          "second": "f",
          "value": 0
         },
         {
          "first": "n",
          "second": "q",
          "value": 0
         },
         {
          "first": "n",
          "second": "b",
          "value": 0
         },
         {
          "first": "n",
          "second": "g",
          "value": 5
         },
         {
          "first": "n",
          "second": "l",
          "value": 3
         },
         {
          "first": "n",
          "second": "c",
          "value": 4
         },
         {
          "first": "n",
          "second": "h",
          "value": 0
         },
         {
          "first": "n",
          "second": "o",
          "value": 9
         },
         {
          "first": "n",
          "second": "z",
          "value": 2
         },
         {
          "first": "n",
          "second": "d",
          "value": 13
         },
         {
          "first": ".",
          "second": "e",
          "value": 16
         },
         {
          "first": ".",
          "second": "n",
          "value": 12
         },
         {
          "first": ".",
          "second": ".",
          "value": 0
         },
         {
          "first": ".",
          "second": "t",
          "value": 14
         },
         {
          "first": ".",
          "second": "a",
          "value": 48
         },
         {
          "first": ".",
          "second": "m",
          "value": 27
         },
         {
          "first": ".",
          "second": "i",
          "value": 6
         },
         {
          "first": ".",
          "second": "v",
          "value": 4
         },
         {
          "first": ".",
          "second": "p",
          "value": 5
         },
         {
          "first": ".",
          "second": "r",
          "value": 17
         },
         {
          "first": ".",
          "second": "w",
          "value": 3
         },
         {
          "first": ".",
          "second": "k",
          "value": 32
         },
         {
          "first": ".",
          "second": "s",
          "value": 22
         },
         {
          "first": ".",
          "second": "x",
          "value": 1
         },
         {
          "first": ".",
          "second": "j",
          "value": 26
         },
         {
          "first": ".",
          "second": "y",
          "value": 5
         },
         {
          "first": ".",
          "second": "u",
          "value": 0
         },
         {
          "first": ".",
          "second": "f",
          "value": 4
         },
         {
          "first": ".",
          "second": "q",
          "value": 1
         },
         {
          "first": ".",
          "second": "b",
          "value": 14
         },
         {
          "first": ".",
          "second": "g",
          "value": 7
         },
         {
          "first": ".",
          "second": "l",
          "value": 17
         },
         {
          "first": ".",
          "second": "c",
          "value": 16
         },
         {
          "first": ".",
          "second": "h",
          "value": 9
         },
         {
          "first": ".",
          "second": "o",
          "value": 4
         },
         {
          "first": ".",
          "second": "z",
          "value": 10
         },
         {
          "first": ".",
          "second": "d",
          "value": 18
         },
         {
          "first": "t",
          "second": "e",
          "value": 44
         },
         {
          "first": "t",
          "second": "n",
          "value": 1
         },
         {
          "first": "t",
          "second": ".",
          "value": 30
         },
         {
          "first": "t",
          "second": "t",
          "value": 23
         },
         {
          "first": "t",
          "second": "a",
          "value": 64
         },
         {
          "first": "t",
          "second": "m",
          "value": 0
         },
         {
          "first": "t",
          "second": "i",
          "value": 33
         },
         {
          "first": "t",
          "second": "v",
          "value": 0
         },
         {
          "first": "t",
          "second": "p",
          "value": 0
         },
         {
          "first": "t",
          "second": "r",
          "value": 22
         },
         {
          "first": "t",
          "second": "w",
          "value": 0
         },
         {
          "first": "t",
          "second": "k",
          "value": 0
         },
         {
          "first": "t",
          "second": "s",
          "value": 2
         },
         {
          "first": "t",
          "second": "x",
          "value": 0
         },
         {
          "first": "t",
          "second": "j",
          "value": 0
         },
         {
          "first": "t",
          "second": "y",
          "value": 21
         },
         {
          "first": "t",
          "second": "u",
          "value": 4
         },
         {
          "first": "t",
          "second": "f",
          "value": 0
         },
         {
          "first": "t",
          "second": "q",
          "value": 0
         },
         {
          "first": "t",
          "second": "b",
          "value": 0
         },
         {
          "first": "t",
          "second": "g",
          "value": 0
         },
         {
          "first": "t",
          "second": "l",
          "value": 8
         },
         {
          "first": "t",
          "second": "c",
          "value": 1
         },
         {
          "first": "t",
          "second": "h",
          "value": 40
         },
         {
          "first": "t",
          "second": "o",
          "value": 41
         },
         {
          "first": "t",
          "second": "z",
          "value": 6
         },
         {
          "first": "t",
          "second": "d",
          "value": 0
         },
         {
          "first": "a",
          "second": "e",
          "value": 7
         },
         {
          "first": "a",
          "second": "n",
          "value": 56
         },
         {
          "first": "a",
          "second": ".",
          "value": 68
         },
         {
          "first": "a",
          "second": "t",
          "value": 7
         },
         {
          "first": "a",
          "second": "a",
          "value": 5
         },
         {
          "first": "a",
          "second": "m",
          "value": 16
         },
         {
          "first": "a",
          "second": "i",
          "value": 17
         },
         {
          "first": "a",
          "second": "v",
          "value": 8
         },
         {
          "first": "a",
          "second": "p",
          "value": 0
         },
         {
          "first": "a",
          "second": "r",
          "value": 33
         },
         {
          "first": "a",
          "second": "w",
          "value": 1
         },
         {
          "first": "a",
          "second": "k",
          "value": 5
         },
         {
          "first": "a",
          "second": "s",
          "value": 11
         },
         {
          "first": "a",
          "second": "x",
          "value": 1
         },
         {
          "first": "a",
          "second": "j",
          "value": 1
         },
         {
          "first": "a",
          "second": "y",
          "value": 21
         },
         {
          "first": "a",
          "second": "u",
          "value": 3
         },
         {
          "first": "a",
          "second": "f",
          "value": 1
         },
         {
          "first": "a",
          "second": "q",
          "value": 0
         },
         {
          "first": "a",
          "second": "b",
          "value": 5
         },
         {
          "first": "a",
          "second": "g",
          "value": 1
         },
         {
          "first": "a",
          "second": "l",
          "value": 26
         },
         {
          "first": "a",
          "second": "c",
          "value": 4
         },
         {
          "first": "a",
          "second": "h",
          "value": 24
         },
         {
          "first": "a",
          "second": "o",
          "value": 0
         },
         {
          "first": "a",
          "second": "z",
          "value": 4
         },
         {
          "first": "a",
          "second": "d",
          "value": 10
         },
         {
          "first": "m",
          "second": "e",
          "value": 43
         },
         {
          "first": "m",
          "second": "n",
          "value": 1
         },
         {
          "first": "m",
          "second": ".",
          "value": 27
         },
         {
          "first": "m",
          "second": "t",
          "value": 0
         },
         {
          "first": "m",
          "second": "a",
          "value": 136
         },
         {
          "first": "m",
          "second": "m",
          "value": 8
         },
         {
          "first": "m",
          "second": "i",
          "value": 66
         },
         {
          "first": "m",
          "second": "v",
          "value": 0
         },
         {
          "first": "m",
          "second": "p",
          "value": 2
         },
         {
          "first": "m",
          "second": "r",
          "value": 5
         },
         {
          "first": "m",
          "second": "w",
          "value": 0
         },
         {
          "first": "m",
          "second": "k",
          "value": 0
         },
         {
          "first": "m",
          "second": "s",
          "value": 1
         },
         {
          "first": "m",
          "second": "x",
          "value": 0
         },
         {
          "first": "m",
          "second": "j",
          "value": 0
         },
         {
          "first": "m",
          "second": "y",
          "value": 15
         },
         {
          "first": "m",
          "second": "u",
          "value": 7
         },
         {
          "first": "m",
          "second": "f",
          "value": 0
         },
         {
          "first": "m",
          "second": "q",
          "value": 0
         },
         {
          "first": "m",
          "second": "b",
          "value": 5
         },
         {
          "first": "m",
          "second": "g",
          "value": 0
         },
         {
          "first": "m",
          "second": "l",
          "value": 0
         },
         {
          "first": "m",
          "second": "c",
          "value": 2
         },
         {
          "first": "m",
          "second": "h",
          "value": 0
         },
         {
          "first": "m",
          "second": "o",
          "value": 23
         },
         {
          "first": "m",
          "second": "z",
          "value": 0
         },
         {
          "first": "m",
          "second": "d",
          "value": 1
         },
         {
          "first": "i",
          "second": "e",
          "value": 32
         },
         {
          "first": "i",
          "second": "n",
          "value": 42
         },
         {
          "first": "i",
          "second": ".",
          "value": 49
         },
         {
          "first": "i",
          "second": "t",
          "value": 10
         },
         {
          "first": "i",
          "second": "a",
          "value": 48
         },
         {
          "first": "i",
          "second": "m",
          "value": 8
         },
         {
          "first": "i",
          "second": "i",
          "value": 1
         },
         {
          "first": "i",
          "second": "v",
          "value": 5
         },
         {
          "first": "i",
          "second": "p",
          "value": 1
         },
         {
          "first": "i",
          "second": "r",
          "value": 16
         },
         {
          "first": "i",
          "second": "w",
          "value": 0
         },
         {
          "first": "i",
          "second": "k",
          "value": 8
         },
         {
          "first": "i",
          "second": "s",
          "value": 26
         },
         {
          "first": "i",
          "second": "x",
          "value": 1
         },
         {
          "first": "i",
          "second": "j",
          "value": 1
         },
         {
          "first": "i",
          "second": "y",
          "value": 15
         },
         {
          "first": "i",
          "second": "u",
          "value": 2
         },
         {
          "first": "i",
          "second": "f",
          "value": 1
         },
         {
          "first": "i",
          "second": "q",
          "value": 1
         },
         {
          "first": "i",
          "second": "b",
          "value": 2
         },
         {
          "first": "i",
          "second": "g",
          "value": 8
         },
         {
          "first": "i",
          "second": "l",
          "value": 26
         },
         {
          "first": "i",
          "second": "c",
          "value": 10
         },
         {
          "first": "i",
          "second": "h",
          "value": 1
         },
         {
          "first": "i",
          "second": "o",
          "value": 11
         },
         {
          "first": "i",
          "second": "z",
          "value": 5
         },
         {
          "first": "i",
          "second": "d",
          "value": 8
         },
         {
          "first": "v",
          "second": "e",
          "value": 76
         },
         {
          "first": "v",
          "second": "n",
          "value": 1
         },
         {
          "first": "v",
          "second": ".",
          "value": 11
         },
         {
          "first": "v",
          "second": "t",
          "value": 0
         },
         {
          "first": "v",
          "second": "a",
          "value": 86
         },
         {
          "first": "v",
          "second": "m",
          "value": 0
         },
         {
          "first": "v",
          "second": "i",
          "value": 123
         },
         {
          "first": "v",
          "second": "v",
          "value": 0
         },
         {
          "first": "v",
          "second": "p",
          "value": 0
         },
         {
          "first": "v",
          "second": "r",
          "value": 6
         },
         {
          "first": "v",
          "second": "w",
          "value": 0
         },
         {
          "first": "v",
          "second": "k",
          "value": 0
         },
         {
          "first": "v",
          "second": "s",
          "value": 0
         },
         {
          "first": "v",
          "second": "x",
          "value": 0
         },
         {
          "first": "v",
          "second": "j",
          "value": 0
         },
         {
          "first": "v",
          "second": "y",
          "value": 16
         },
         {
          "first": "v",
          "second": "u",
          "value": 0
         },
         {
          "first": "v",
          "second": "f",
          "value": 0
         },
         {
          "first": "v",
          "second": "q",
          "value": 0
         },
         {
          "first": "v",
          "second": "b",
          "value": 0
         },
         {
          "first": "v",
          "second": "g",
          "value": 0
         },
         {
          "first": "v",
          "second": "l",
          "value": 1
         },
         {
          "first": "v",
          "second": "c",
          "value": 0
         },
         {
          "first": "v",
          "second": "h",
          "value": 0
         },
         {
          "first": "v",
          "second": "o",
          "value": 20
         },
         {
          "first": "v",
          "second": "z",
          "value": 0
         },
         {
          "first": "v",
          "second": "d",
          "value": 0
         },
         {
          "first": "p",
          "second": "e",
          "value": 66
         },
         {
          "first": "p",
          "second": "n",
          "value": 0
         },
         {
          "first": "p",
          "second": ".",
          "value": 11
         },
         {
          "first": "p",
          "second": "t",
          "value": 5
         },
         {
          "first": "p",
          "second": "a",
          "value": 70
         },
         {
          "first": "p",
          "second": "m",
          "value": 0
         },
         {
          "first": "p",
          "second": "i",
          "value": 20
         },
         {
          "first": "p",
          "second": "v",
          "value": 0
         },
         {
          "first": "p",
          "second": "p",
          "value": 13
         },
         {
          "first": "p",
          "second": "r",
          "value": 51
         },
         {
          "first": "p",
          "second": "w",
          "value": 0
         },
         {
          "first": "p",
          "second": "k",
          "value": 0
         },
         {
          "first": "p",
          "second": "s",
          "value": 5
         },
         {
          "first": "p",
          "second": "x",
          "value": 0
         },
         {
          "first": "p",
          "second": "j",
          "value": 0
         },
         {
          "first": "p",
          "second": "y",
          "value": 4
         },
         {
          "first": "p",
          "second": "u",
          "value": 1
         },
         {
          "first": "p",
          "second": "f",
          "value": 0
         },
         {
          "first": "p",
          "second": "q",
          "value": 0
         },
         {
          "first": "p",
          "second": "b",
          "value": 0
         },
         {
          "first": "p",
          "second": "g",
          "value": 0
         },
         {
          "first": "p",
          "second": "l",
          "value": 5
         },
         {
          "first": "p",
          "second": "c",
          "value": 0
         },
         {
          "first": "p",
          "second": "h",
          "value": 69
         },
         {
          "first": "p",
          "second": "o",
          "value": 19
         },
         {
          "first": "p",
          "second": "z",
          "value": 0
         },
         {
          "first": "p",
          "second": "d",
          "value": 0
         },
         {
          "first": "r",
          "second": "e",
          "value": 46
         },
         {
          "first": "r",
          "second": "n",
          "value": 3
         },
         {
          "first": "r",
          "second": ".",
          "value": 37
         },
         {
          "first": "r",
          "second": "t",
          "value": 5
         },
         {
          "first": "r",
          "second": "a",
          "value": 64
         },
         {
          "first": "r",
          "second": "m",
          "value": 4
         },
         {
          "first": "r",
          "second": "i",
          "value": 83
         },
         {
          "first": "r",
          "second": "v",
          "value": 2
         },
         {
          "first": "r",
          "second": "p",
          "value": 0
         },
         {
          "first": "r",
          "second": "r",
          "value": 11
         },
         {
          "first": "r",
          "second": "w",
          "value": 0
         },
         {
          "first": "r",
          "second": "k",
          "value": 2
         },
         {
          "first": "r",
          "second": "s",
          "value": 5
         },
         {
          "first": "r",
          "second": "x",
          "value": 0
         },
         {
          "first": "r",
          "second": "j",
          "value": 0
         },
         {
          "first": "r",
          "second": "y",
          "value": 21
         },
         {
          "first": "r",
          "second": "u",
          "value": 6
         },
         {
          "first": "r",
          "second": "f",
          "value": 0
         },
         {
          "first": "r",
          "second": "q",
          "value": 0
         },
         {
          "first": "r",
          "second": "b",
          "value": 1
         },
         {
          "first": "r",
          "second": "g",
          "value": 2
         },
         {
          "first": "r",
          "second": "l",
          "value": 11
         },
         {
          "first": "r",
          "second": "c",
          "value": 2
         },
         {
          "first": "r",
          "second": "h",
          "value": 3
         },
         {
          "first": "r",
          "second": "o",
          "value": 23
         },
         {
          "first": "r",
          "second": "z",
          "value": 0
         },
         {
          "first": "r",
          "second": "d",
          "value": 5
         },
         {
          "first": "w",
          "second": "e",
          "value": 55
         },
         {
          "first": "w",
          "second": "n",
          "value": 21
         },
         {
          "first": "w",
          "second": ".",
          "value": 19
         },
         {
          "first": "w",
          "second": "t",
          "value": 2
         },
         {
          "first": "w",
          "second": "a",
          "value": 104
         },
         {
          "first": "w",
          "second": "m",
          "value": 0
         },
         {
          "first": "w",
          "second": "i",
          "value": 55
         },
         {
          "first": "w",
          "second": "v",
          "value": 0
         },
         {
          "first": "w",
          "second": "p",
          "value": 0
         },
         {
          "first": "w",
          "second": "r",
          "value": 8
         },
         {
          "first": "w",
          "second": "w",
          "value": 0
         },
         {
          "first": "w",
          "second": "k",
          "value": 2
         },
         {
          "first": "w",
          "second": "s",
          "value": 7
         },
         {
          "first": "w",
          "second": "x",
          "value": 0
         },
         {
          "first": "w",
          "second": "j",
          "value": 0
         },
         {
          "first": "w",
          "second": "y",
          "value": 27
         },
         {
          "first": "w",
          "second": "u",
          "value": 9
         },
         {
          "first": "w",
          "second": "f",
          "value": 0
         },
         {
          "first": "w",
          "second": "q",
          "value": 0
         },
         {
          "first": "w",
          "second": "b",
          "value": 0
         },
         {
          "first": "w",
          "second": "g",
          "value": 0
         },
         {
          "first": "w",
          "second": "l",
          "value": 4
         },
         {
          "first": "w",
          "second": "c",
          "value": 0
         },
         {
          "first": "w",
          "second": "h",
          "value": 8
         },
         {
          "first": "w",
          "second": "o",
          "value": 13
         },
         {
          "first": "w",
          "second": "z",
          "value": 0
         },
         {
          "first": "w",
          "second": "d",
          "value": 2
         },
         {
          "first": "k",
          "second": "e",
          "value": 62
         },
         {
          "first": "k",
          "second": "n",
          "value": 1
         },
         {
          "first": "k",
          "second": ".",
          "value": 25
         },
         {
          "first": "k",
          "second": "t",
          "value": 1
         },
         {
          "first": "k",
          "second": "a",
          "value": 120
         },
         {
          "first": "k",
          "second": "m",
          "value": 0
         },
         {
          "first": "k",
          "second": "i",
          "value": 35
         },
         {
          "first": "k",
          "second": "v",
          "value": 0
         },
         {
          "first": "k",
          "second": "p",
          "value": 0
         },
         {
          "first": "k",
          "second": "r",
          "value": 7
         },
         {
          "first": "k",
          "second": "w",
          "value": 2
         },
         {
          "first": "k",
          "second": "k",
          "value": 1
         },
         {
          "first": "k",
          "second": "s",
          "value": 6
         },
         {
          "first": "k",
          "second": "x",
          "value": 0
         },
         {
          "first": "k",
          "second": "j",
          "value": 0
         },
         {
          "first": "k",
          "second": "y",
          "value": 26
         },
         {
          "first": "k",
          "second": "u",
          "value": 3
         },
         {
          "first": "k",
          "second": "f",
          "value": 0
         },
         {
          "first": "k",
          "second": "q",
          "value": 0
         },
         {
          "first": "k",
          "second": "b",
          "value": 0
         },
         {
          "first": "k",
          "second": "g",
          "value": 0
         },
         {
          "first": "k",
          "second": "l",
          "value": 9
         },
         {
          "first": "k",
          "second": "c",
          "value": 0
         },
         {
          "first": "k",
          "second": "h",
          "value": 21
         },
         {
          "first": "k",
          "second": "o",
          "value": 23
         },
         {
          "first": "k",
          "second": "z",
          "value": 0
         },
         {
          "first": "k",
          "second": "d",
          "value": 0
         },
         {
          "first": "s",
          "second": "e",
          "value": 38
         },
         {
          "first": "s",
          "second": "n",
          "value": 1
         },
         {
          "first": "s",
          "second": ".",
          "value": 50
         },
         {
          "first": "s",
          "second": "t",
          "value": 33
         },
         {
          "first": "s",
          "second": "a",
          "value": 51
         },
         {
          "first": "s",
          "second": "m",
          "value": 3
         },
         {
          "first": "s",
          "second": "i",
          "value": 29
         },
         {
          "first": "s",
          "second": "v",
          "value": 0
         },
         {
          "first": "s",
          "second": "p",
          "value": 2
         },
         {
          "first": "s",
          "second": "r",
          "value": 2
         },
         {
          "first": "s",
          "second": "w",
          "value": 1
         },
         {
          "first": "s",
          "second": "k",
          "value": 3
         },
         {
          "first": "s",
          "second": "s",
          "value": 19
         },
         {
          "first": "s",
          "second": "x",
          "value": 0
         },
         {
          "first": "s",
          "second": "j",
          "value": 0
         },
         {
          "first": "s",
          "second": "y",
          "value": 9
         },
         {
          "first": "s",
          "second": "u",
          "value": 7
         },
         {
          "first": "s",
          "second": "f",
          "value": 0
         },
         {
          "first": "s",
          "second": "q",
          "value": 0
         },
         {
          "first": "s",
          "second": "b",
          "value": 0
         },
         {
          "first": "s",
          "second": "g",
          "value": 0
         },
         {
          "first": "s",
          "second": "l",
          "value": 12
         },
         {
          "first": "s",
          "second": "c",
          "value": 2
         },
         {
          "first": "s",
          "second": "h",
          "value": 55
         },
         {
          "first": "s",
          "second": "o",
          "value": 22
         },
         {
          "first": "s",
          "second": "z",
          "value": 0
         },
         {
          "first": "s",
          "second": "d",
          "value": 0
         },
         {
          "first": "x",
          "second": "e",
          "value": 17
         },
         {
          "first": "x",
          "second": "n",
          "value": 0
         },
         {
          "first": "x",
          "second": ".",
          "value": 81
         },
         {
          "first": "x",
          "second": "t",
          "value": 34
         },
         {
          "first": "x",
          "second": "a",
          "value": 51
         },
         {
          "first": "x",
          "second": "m",
          "value": 0
         },
         {
          "first": "x",
          "second": "i",
          "value": 50
         },
         {
          "first": "x",
          "second": "v",
          "value": 0
         },
         {
          "first": "x",
          "second": "p",
          "value": 0
         },
         {
          "first": "x",
          "second": "r",
          "value": 0
         },
         {
          "first": "x",
          "second": "w",
          "value": 1
         },
         {
          "first": "x",
          "second": "k",
          "value": 0
         },
         {
          "first": "x",
          "second": "s",
          "value": 15
         },
         {
          "first": "x",
          "second": "x",
          "value": 18
         },
         {
          "first": "x",
          "second": "j",
          "value": 0
         },
         {
          "first": "x",
          "second": "y",
          "value": 14
         },
         {
          "first": "x",
          "second": "u",
          "value": 2
         },
         {
          "first": "x",
          "second": "f",
          "value": 1
         },
         {
          "first": "x",
          "second": "q",
          "value": 0
         },
         {
          "first": "x",
          "second": "b",
          "value": 0
         },
         {
          "first": "x",
          "second": "g",
          "value": 0
         },
         {
          "first": "x",
          "second": "l",
          "value": 19
         },
         {
          "first": "x",
          "second": "c",
          "value": 1
         },
         {
          "first": "x",
          "second": "h",
          "value": 0
         },
         {
          "first": "x",
          "second": "o",
          "value": 20
         },
         {
          "first": "x",
          "second": "z",
          "value": 9
         },
         {
          "first": "x",
          "second": "d",
          "value": 2
         },
         {
          "first": "j",
          "second": "e",
          "value": 53
         },
         {
          "first": "j",
          "second": "n",
          "value": 0
         },
         {
          "first": "j",
          "second": ".",
          "value": 8
         },
         {
          "first": "j",
          "second": "t",
          "value": 0
         },
         {
          "first": "j",
          "second": "a",
          "value": 177
         },
         {
          "first": "j",
          "second": "m",
          "value": 0
         },
         {
          "first": "j",
          "second": "i",
          "value": 14
         },
         {
          "first": "j",
          "second": "v",
          "value": 0
         },
         {
          "first": "j",
          "second": "p",
          "value": 0
         },
         {
          "first": "j",
          "second": "r",
          "value": 1
         },
         {
          "first": "j",
          "second": "w",
          "value": 0
         },
         {
          "first": "j",
          "second": "k",
          "value": 0
         },
         {
          "first": "j",
          "second": "s",
          "value": 0
         },
         {
          "first": "j",
          "second": "x",
          "value": 0
         },
         {
          "first": "j",
          "second": "j",
          "value": 0
         },
         {
          "first": "j",
          "second": "y",
          "value": 1
         },
         {
          "first": "j",
          "second": "u",
          "value": 24
         },
         {
          "first": "j",
          "second": "f",
          "value": 0
         },
         {
          "first": "j",
          "second": "q",
          "value": 0
         },
         {
          "first": "j",
          "second": "b",
          "value": 0
         },
         {
          "first": "j",
          "second": "g",
          "value": 0
         },
         {
          "first": "j",
          "second": "l",
          "value": 1
         },
         {
          "first": "j",
          "second": "c",
          "value": 0
         },
         {
          "first": "j",
          "second": "h",
          "value": 5
         },
         {
          "first": "j",
          "second": "o",
          "value": 57
         },
         {
          "first": "j",
          "second": "z",
          "value": 0
         },
         {
          "first": "j",
          "second": "d",
          "value": 0
         },
         {
          "first": "y",
          "second": "e",
          "value": 10
         },
         {
          "first": "y",
          "second": "n",
          "value": 65
         },
         {
          "first": "y",
          "second": ".",
          "value": 71
         },
         {
          "first": "y",
          "second": "t",
          "value": 3
         },
         {
          "first": "y",
          "second": "a",
          "value": 76
         },
         {
          "first": "y",
          "second": "m",
          "value": 5
         },
         {
          "first": "y",
          "second": "i",
          "value": 6
         },
         {
          "first": "y",
          "second": "v",
          "value": 3
         },
         {
          "first": "y",
          "second": "p",
          "value": 0
         },
         {
          "first": "y",
          "second": "r",
          "value": 10
         },
         {
          "first": "y",
          "second": "w",
          "value": 0
         },
         {
          "first": "y",
          "second": "k",
          "value": 3
         },
         {
          "first": "y",
          "second": "s",
          "value": 14
         },
         {
          "first": "y",
          "second": "x",
          "value": 1
         },
         {
          "first": "y",
          "second": "j",
          "value": 0
         },
         {
          "first": "y",
          "second": "y",
          "value": 0
         },
         {
          "first": "y",
          "second": "u",
          "value": 5
         },
         {
          "first": "y",
          "second": "f",
          "value": 0
         },
         {
          "first": "y",
          "second": "q",
          "value": 0
         },
         {
          "first": "y",
          "second": "b",
          "value": 0
         },
         {
          "first": "y",
          "second": "g",
          "value": 1
         },
         {
          "first": "y",
          "second": "l",
          "value": 39
         },
         {
          "first": "y",
          "second": "c",
          "value": 4
         },
         {
          "first": "y",
          "second": "h",
          "value": 0
         },
         {
          "first": "y",
          "second": "o",
          "value": 9
         },
         {
          "first": "y",
          "second": "z",
          "value": 2
         },
         {
          "first": "y",
          "second": "d",
          "value": 9
         },
         {
          "first": "u",
          "second": "e",
          "value": 18
         },
         {
          "first": "u",
          "second": "n",
          "value": 30
         },
         {
          "first": "u",
          "second": ".",
          "value": 17
         },
         {
          "first": "u",
          "second": "t",
          "value": 9
         },
         {
          "first": "u",
          "second": "a",
          "value": 18
         },
         {
          "first": "u",
          "second": "m",
          "value": 17
         },
         {
          "first": "u",
          "second": "i",
          "value": 13
         },
         {
          "first": "u",
          "second": "v",
          "value": 4
         },
         {
          "first": "u",
          "second": "p",
          "value": 1
         },
         {
          "first": "u",
          "second": "r",
          "value": 46
         },
         {
          "first": "u",
          "second": "w",
          "value": 9
         },
         {
          "first": "u",
          "second": "k",
          "value": 10
         },
         {
          "first": "u",
          "second": "s",
          "value": 52
         },
         {
          "first": "u",
          "second": "x",
          "value": 3
         },
         {
          "first": "u",
          "second": "j",
          "value": 1
         },
         {
          "first": "u",
          "second": "y",
          "value": 1
         },
         {
          "first": "u",
          "second": "u",
          "value": 0
         },
         {
          "first": "u",
          "second": "f",
          "value": 2
         },
         {
          "first": "u",
          "second": "q",
          "value": 1
         },
         {
          "first": "u",
          "second": "b",
          "value": 11
         },
         {
          "first": "u",
          "second": "g",
          "value": 5
         },
         {
          "first": "u",
          "second": "l",
          "value": 33
         },
         {
          "first": "u",
          "second": "c",
          "value": 11
         },
         {
          "first": "u",
          "second": "h",
          "value": 6
         },
         {
          "first": "u",
          "second": "o",
          "value": 1
         },
         {
          "first": "u",
          "second": "z",
          "value": 5
         },
         {
          "first": "u",
          "second": "d",
          "value": 15
         },
         {
          "first": "f",
          "second": "e",
          "value": 47
         },
         {
          "first": "f",
          "second": "n",
          "value": 1
         },
         {
          "first": "f",
          "second": ".",
          "value": 30
         },
         {
          "first": "f",
          "second": "t",
          "value": 6
         },
         {
          "first": "f",
          "second": "a",
          "value": 92
         },
         {
          "first": "f",
          "second": "m",
          "value": 0
         },
         {
          "first": "f",
          "second": "i",
          "value": 61
         },
         {
          "first": "f",
          "second": "v",
          "value": 0
         },
         {
          "first": "f",
          "second": "p",
          "value": 0
         },
         {
          "first": "f",
          "second": "r",
          "value": 43
         },
         {
          "first": "f",
          "second": "w",
          "value": 1
         },
         {
          "first": "f",
          "second": "k",
          "value": 0
         },
         {
          "first": "f",
          "second": "s",
          "value": 2
         },
         {
          "first": "f",
          "second": "x",
          "value": 0
         },
         {
          "first": "f",
          "second": "j",
          "value": 0
         },
         {
          "first": "f",
          "second": "y",
          "value": 5
         },
         {
          "first": "f",
          "second": "u",
          "value": 3
         },
         {
          "first": "f",
          "second": "f",
          "value": 16
         },
         {
          "first": "f",
          "second": "q",
          "value": 0
         },
         {
          "first": "f",
          "second": "b",
          "value": 0
         },
         {
          "first": "f",
          "second": "g",
          "value": 0
         },
         {
          "first": "f",
          "second": "l",
          "value": 7
         },
         {
          "first": "f",
          "second": "c",
          "value": 0
         },
         {
          "first": "f",
          "second": "h",
          "value": 0
         },
         {
          "first": "f",
          "second": "o",
          "value": 22
         },
         {
          "first": "f",
          "second": "z",
          "value": 0
         },
         {
          "first": "f",
          "second": "d",
          "value": 0
         },
         {
          "first": "q",
          "second": "e",
          "value": 1
         },
         {
          "first": "q",
          "second": "n",
          "value": 1
         },
         {
          "first": "q",
          "second": ".",
          "value": 34
         },
         {
          "first": "q",
          "second": "t",
          "value": 1
         },
         {
          "first": "q",
          "second": "a",
          "value": 15
         },
         {
          "first": "q",
          "second": "m",
          "value": 2
         },
         {
          "first": "q",
          "second": "i",
          "value": 15
         },
         {
          "first": "q",
          "second": "v",
          "value": 1
         },
         {
          "first": "q",
          "second": "p",
          "value": 1
         },
         {
          "first": "q",
          "second": "r",
          "value": 1
         },
         {
          "first": "q",
          "second": "w",
          "value": 3
         },
         {
          "first": "q",
          "second": "k",
          "value": 1
         },
         {
          "first": "q",
          "second": "s",
          "value": 2
         },
         {
          "first": "q",
          "second": "x",
          "value": 1
         },
         {
          "first": "q",
          "second": "j",
          "value": 1
         },
         {
          "first": "q",
          "second": "y",
          "value": 1
         },
         {
          "first": "q",
          "second": "u",
          "value": 250
         },
         {
          "first": "q",
          "second": "f",
          "value": 1
         },
         {
          "first": "q",
          "second": "q",
          "value": 1
         },
         {
          "first": "q",
          "second": "b",
          "value": 1
         },
         {
          "first": "q",
          "second": "g",
          "value": 1
         },
         {
          "first": "q",
          "second": "l",
          "value": 1
         },
         {
          "first": "q",
          "second": "c",
          "value": 1
         },
         {
          "first": "q",
          "second": "h",
          "value": 1
         },
         {
          "first": "q",
          "second": "o",
          "value": 2
         },
         {
          "first": "q",
          "second": "z",
          "value": 1
         },
         {
          "first": "q",
          "second": "d",
          "value": 1
         },
         {
          "first": "b",
          "second": "e",
          "value": 86
         },
         {
          "first": "b",
          "second": "n",
          "value": 0
         },
         {
          "first": "b",
          "second": ".",
          "value": 15
         },
         {
          "first": "b",
          "second": "t",
          "value": 0
         },
         {
          "first": "b",
          "second": "a",
          "value": 42
         },
         {
          "first": "b",
          "second": "m",
          "value": 0
         },
         {
          "first": "b",
          "second": "i",
          "value": 28
         },
         {
          "first": "b",
          "second": "v",
          "value": 0
         },
         {
          "first": "b",
          "second": "p",
          "value": 0
         },
         {
          "first": "b",
          "second": "r",
          "value": 110
         },
         {
          "first": "b",
          "second": "w",
          "value": 0
         },
         {
          "first": "b",
          "second": "k",
          "value": 0
         },
         {
          "first": "b",
          "second": "s",
          "value": 1
         },
         {
          "first": "b",
          "second": "x",
          "value": 0
         },
         {
          "first": "b",
          "second": "j",
          "value": 0
         },
         {
          "first": "b",
          "second": "y",
          "value": 10
         },
         {
          "first": "b",
          "second": "u",
          "value": 5
         },
         {
          "first": "b",
          "second": "f",
          "value": 0
         },
         {
          "first": "b",
          "second": "q",
          "value": 0
         },
         {
          "first": "b",
          "second": "b",
          "value": 5
         },
         {
          "first": "b",
          "second": "g",
          "value": 0
         },
         {
          "first": "b",
          "second": "l",
          "value": 13
         },
         {
          "first": "b",
          "second": "c",
          "value": 0
         },
         {
          "first": "b",
          "second": "h",
          "value": 5
         },
         {
          "first": "b",
          "second": "o",
          "value": 13
         },
         {
          "first": "b",
          "second": "z",
          "value": 0
         },
         {
          "first": "b",
          "second": "d",
          "value": 8
         },
         {
          "first": "g",
          "second": "e",
          "value": 60
         },
         {
          "first": "g",
          "second": "n",
          "value": 4
         },
         {
          "first": "g",
          "second": ".",
          "value": 19
         },
         {
          "first": "g",
          "second": "t",
          "value": 5
         },
         {
          "first": "g",
          "second": "a",
          "value": 59
         },
         {
          "first": "g",
          "second": "m",
          "value": 1
         },
         {
          "first": "g",
          "second": "i",
          "value": 34
         },
         {
          "first": "g",
          "second": "v",
          "value": 0
         },
         {
          "first": "g",
          "second": "p",
          "value": 0
         },
         {
          "first": "g",
          "second": "r",
          "value": 36
         },
         {
          "first": "g",
          "second": "w",
          "value": 4
         },
         {
          "first": "g",
          "second": "k",
          "value": 0
         },
         {
          "first": "g",
          "second": "s",
          "value": 5
         },
         {
          "first": "g",
          "second": "x",
          "value": 0
         },
         {
          "first": "g",
          "second": "j",
          "value": 0
         },
         {
          "first": "g",
          "second": "y",
          "value": 5
         },
         {
          "first": "g",
          "second": "u",
          "value": 15
         },
         {
          "first": "g",
          "second": "f",
          "value": 0
         },
         {
          "first": "g",
          "second": "q",
          "value": 0
         },
         {
          "first": "g",
          "second": "b",
          "value": 0
         },
         {
          "first": "g",
          "second": "g",
          "value": 4
         },
         {
          "first": "g",
          "second": "l",
          "value": 5
         },
         {
          "first": "g",
          "second": "c",
          "value": 0
         },
         {
          "first": "g",
          "second": "h",
          "value": 65
         },
         {
          "first": "g",
          "second": "o",
          "value": 15
         },
         {
          "first": "g",
          "second": "z",
          "value": 0
         },
         {
          "first": "g",
          "second": "d",
          "value": 3
         },
         {
          "first": "l",
          "second": "e",
          "value": 73
         },
         {
          "first": "l",
          "second": "n",
          "value": 0
         },
         {
          "first": "l",
          "second": ".",
          "value": 32
         },
         {
          "first": "l",
          "second": "t",
          "value": 1
         },
         {
          "first": "l",
          "second": "a",
          "value": 65
         },
         {
          "first": "l",
          "second": "m",
          "value": 1
         },
         {
          "first": "l",
          "second": "i",
          "value": 62
         },
         {
          "first": "l",
          "second": "v",
          "value": 1
         },
         {
          "first": "l",
          "second": "p",
          "value": 0
         },
         {
          "first": "l",
          "second": "r",
          "value": 0
         },
         {
          "first": "l",
          "second": "w",
          "value": 0
         },
         {
          "first": "l",
          "second": "k",
          "value": 0
         },
         {
          "first": "l",
          "second": "s",
          "value": 2
         },
         {
          "first": "l",
          "second": "x",
          "value": 0
         },
         {
          "first": "l",
          "second": "j",
          "value": 0
         },
         {
          "first": "l",
          "second": "y",
          "value": 39
         },
         {
          "first": "l",
          "second": "u",
          "value": 8
         },
         {
          "first": "l",
          "second": "f",
          "value": 0
         },
         {
          "first": "l",
          "second": "q",
          "value": 0
         },
         {
          "first": "l",
          "second": "b",
          "value": 1
         },
         {
          "first": "l",
          "second": "g",
          "value": 0
         },
         {
          "first": "l",
          "second": "l",
          "value": 33
         },
         {
          "first": "l",
          "second": "c",
          "value": 0
         },
         {
          "first": "l",
          "second": "h",
          "value": 0
         },
         {
          "first": "l",
          "second": "o",
          "value": 17
         },
         {
          "first": "l",
          "second": "z",
          "value": 0
         },
         {
          "first": "l",
          "second": "d",
          "value": 3
         },
         {
          "first": "c",
          "second": "e",
          "value": 54
         },
         {
          "first": "c",
          "second": "n",
          "value": 0
         },
         {
          "first": "c",
          "second": ".",
          "value": 9
         },
         {
          "first": "c",
          "second": "t",
          "value": 3
         },
         {
          "first": "c",
          "second": "a",
          "value": 80
         },
         {
          "first": "c",
          "second": "m",
          "value": 0
         },
         {
          "first": "c",
          "second": "i",
          "value": 26
         },
         {
          "first": "c",
          "second": "v",
          "value": 0
         },
         {
          "first": "c",
          "second": "p",
          "value": 0
         },
         {
          "first": "c",
          "second": "r",
          "value": 7
         },
         {
          "first": "c",
          "second": "w",
          "value": 0
         },
         {
          "first": "c",
          "second": "k",
          "value": 31
         },
         {
          "first": "c",
          "second": "s",
          "value": 0
         },
         {
          "first": "c",
          "second": "x",
          "value": 0
         },
         {
          "first": "c",
          "second": "j",
          "value": 0
         },
         {
          "first": "c",
          "second": "y",
          "value": 10
         },
         {
          "first": "c",
          "second": "u",
          "value": 3
         },
         {
          "first": "c",
          "second": "f",
          "value": 0
         },
         {
          "first": "c",
          "second": "q",
          "value": 1
         },
         {
          "first": "c",
          "second": "b",
          "value": 0
         },
         {
          "first": "c",
          "second": "g",
          "value": 0
         },
         {
          "first": "c",
          "second": "l",
          "value": 11
         },
         {
          "first": "c",
          "second": "c",
          "value": 4
         },
         {
          "first": "c",
          "second": "h",
          "value": 65
         },
         {
          "first": "c",
          "second": "o",
          "value": 37
         },
         {
          "first": "c",
          "second": "z",
          "value": 0
         },
         {
          "first": "c",
          "second": "d",
          "value": 0
         },
         {
          "first": "h",
          "second": "e",
          "value": 30
         },
         {
          "first": "h",
          "second": "n",
          "value": 6
         },
         {
          "first": "h",
          "second": ".",
          "value": 110
         },
         {
          "first": "h",
          "second": "t",
          "value": 3
         },
         {
          "first": "h",
          "second": "a",
          "value": 103
         },
         {
          "first": "h",
          "second": "m",
          "value": 5
         },
         {
          "first": "h",
          "second": "i",
          "value": 33
         },
         {
          "first": "h",
          "second": "v",
          "value": 1
         },
         {
          "first": "h",
          "second": "p",
          "value": 0
         },
         {
          "first": "h",
          "second": "r",
          "value": 9
         },
         {
          "first": "h",
          "second": "w",
          "value": 0
         },
         {
          "first": "h",
          "second": "k",
          "value": 1
         },
         {
          "first": "h",
          "second": "s",
          "value": 1
         },
         {
          "first": "h",
          "second": "x",
          "value": 0
         },
         {
          "first": "h",
          "second": "j",
          "value": 0
         },
         {
          "first": "h",
          "second": "y",
          "value": 9
         },
         {
          "first": "h",
          "second": "u",
          "value": 7
         },
         {
          "first": "h",
          "second": "f",
          "value": 0
         },
         {
          "first": "h",
          "second": "q",
          "value": 0
         },
         {
          "first": "h",
          "second": "b",
          "value": 0
         },
         {
          "first": "h",
          "second": "g",
          "value": 0
         },
         {
          "first": "h",
          "second": "l",
          "value": 8
         },
         {
          "first": "h",
          "second": "c",
          "value": 0
         },
         {
          "first": "h",
          "second": "h",
          "value": 0
         },
         {
          "first": "h",
          "second": "o",
          "value": 13
         },
         {
          "first": "h",
          "second": "z",
          "value": 0
         },
         {
          "first": "h",
          "second": "d",
          "value": 1
         },
         {
          "first": "o",
          "second": "e",
          "value": 5
         },
         {
          "first": "o",
          "second": "n",
          "value": 106
         },
         {
          "first": "o",
          "second": ".",
          "value": 37
         },
         {
          "first": "o",
          "second": "t",
          "value": 5
         },
         {
          "first": "o",
          "second": "a",
          "value": 6
         },
         {
          "first": "o",
          "second": "m",
          "value": 11
         },
         {
          "first": "o",
          "second": "i",
          "value": 3
         },
         {
          "first": "o",
          "second": "v",
          "value": 7
         },
         {
          "first": "o",
          "second": "p",
          "value": 4
         },
         {
          "first": "o",
          "second": "r",
          "value": 46
         },
         {
          "first": "o",
          "second": "w",
          "value": 5
         },
         {
          "first": "o",
          "second": "k",
          "value": 2
         },
         {
          "first": "o",
          "second": "s",
          "value": 22
         },
         {
          "first": "o",
          "second": "x",
          "value": 1
         },
         {
          "first": "o",
          "second": "j",
          "value": 0
         },
         {
          "first": "o",
          "second": "y",
          "value": 4
         },
         {
          "first": "o",
          "second": "u",
          "value": 12
         },
         {
          "first": "o",
          "second": "f",
          "value": 1
         },
         {
          "first": "o",
          "second": "q",
          "value": 0
         },
         {
          "first": "o",
          "second": "b",
          "value": 6
         },
         {
          "first": "o",
          "second": "g",
          "value": 1
         },
         {
          "first": "o",
          "second": "l",
          "value": 27
         },
         {
          "first": "o",
          "second": "c",
          "value": 5
         },
         {
          "first": "o",
          "second": "h",
          "value": 7
         },
         {
          "first": "o",
          "second": "o",
          "value": 5
         },
         {
          "first": "o",
          "second": "z",
          "value": 2
         },
         {
          "first": "o",
          "second": "d",
          "value": 8
         },
         {
          "first": "z",
          "second": "e",
          "value": 54
         },
         {
          "first": "z",
          "second": "n",
          "value": 0
         },
         {
          "first": "z",
          "second": ".",
          "value": 23
         },
         {
          "first": "z",
          "second": "t",
          "value": 0
         },
         {
          "first": "z",
          "second": "a",
          "value": 125
         },
         {
          "first": "z",
          "second": "m",
          "value": 5
         },
         {
          "first": "z",
          "second": "i",
          "value": 53
         },
         {
          "first": "z",
          "second": "v",
          "value": 0
         },
         {
          "first": "z",
          "second": "p",
          "value": 0
         },
         {
          "first": "z",
          "second": "r",
          "value": 4
         },
         {
          "first": "z",
          "second": "w",
          "value": 0
         },
         {
          "first": "z",
          "second": "k",
          "value": 0
         },
         {
          "first": "z",
          "second": "s",
          "value": 0
         },
         {
          "first": "z",
          "second": "x",
          "value": 0
         },
         {
          "first": "z",
          "second": "j",
          "value": 0
         },
         {
          "first": "z",
          "second": "y",
          "value": 21
         },
         {
          "first": "z",
          "second": "u",
          "value": 10
         },
         {
          "first": "z",
          "second": "f",
          "value": 0
         },
         {
          "first": "z",
          "second": "q",
          "value": 0
         },
         {
          "first": "z",
          "second": "b",
          "value": 0
         },
         {
          "first": "z",
          "second": "g",
          "value": 0
         },
         {
          "first": "z",
          "second": "l",
          "value": 17
         },
         {
          "first": "z",
          "second": "c",
          "value": 0
         },
         {
          "first": "z",
          "second": "h",
          "value": 6
         },
         {
          "first": "z",
          "second": "o",
          "value": 16
         },
         {
          "first": "z",
          "second": "z",
          "value": 6
         },
         {
          "first": "z",
          "second": "d",
          "value": 0
         },
         {
          "first": "d",
          "second": "e",
          "value": 81
         },
         {
          "first": "d",
          "second": "n",
          "value": 1
         },
         {
          "first": "d",
          "second": ".",
          "value": 32
         },
         {
          "first": "d",
          "second": "t",
          "value": 0
         },
         {
          "first": "d",
          "second": "a",
          "value": 82
         },
         {
          "first": "d",
          "second": "m",
          "value": 1
         },
         {
          "first": "d",
          "second": "i",
          "value": 42
         },
         {
          "first": "d",
          "second": "v",
          "value": 1
         },
         {
          "first": "d",
          "second": "p",
          "value": 0
         },
         {
          "first": "d",
          "second": "r",
          "value": 26
         },
         {
          "first": "d",
          "second": "w",
          "value": 1
         },
         {
          "first": "d",
          "second": "k",
          "value": 0
         },
         {
          "first": "d",
          "second": "s",
          "value": 1
         },
         {
          "first": "d",
          "second": "x",
          "value": 0
         },
         {
          "first": "d",
          "second": "j",
          "value": 0
         },
         {
          "first": "d",
          "second": "y",
          "value": 20
         },
         {
          "first": "d",
          "second": "u",
          "value": 5
         },
         {
          "first": "d",
          "second": "f",
          "value": 0
         },
         {
          "first": "d",
          "second": "q",
          "value": 0
         },
         {
          "first": "d",
          "second": "b",
          "value": 0
         },
         {
          "first": "d",
          "second": "g",
          "value": 1
         },
         {
          "first": "d",
          "second": "l",
          "value": 3
         },
         {
          "first": "d",
          "second": "c",
          "value": 0
         },
         {
          "first": "d",
          "second": "h",
          "value": 7
         },
         {
          "first": "d",
          "second": "o",
          "value": 24
         },
         {
          "first": "d",
          "second": "z",
          "value": 0
         },
         {
          "first": "d",
          "second": "d",
          "value": 9
         }
        ]
       },
       "description": "A heat map with each cell displaying its first and second category labels along with the value.",
       "height": 1000,
       "layer": [
        {
         "encoding": {
          "color": {
           "field": "value",
           "legend": {
            "title": "Value"
           },
           "scale": {
            "range": [
             "white",
             "steelblue"
            ]
           },
           "type": "quantitative"
          },
          "x": {
           "axis": {
            "title": "First letter"
           },
           "field": "first",
           "type": "nominal"
          },
          "y": {
           "axis": {
            "title": "Second letter"
           },
           "field": "second",
           "type": "nominal"
          }
         },
         "mark": "rect"
        },
        {
         "encoding": {
          "text": {
           "field": "cellLabel",
           "type": "nominal"
          },
          "tooltip": [
           {
            "field": "first",
            "title": "First Letter",
            "type": "nominal"
           },
           {
            "field": "second",
            "title": "Second Letter",
            "type": "nominal"
           },
           {
            "field": "value",
            "title": "Count",
            "type": "quantitative"
           }
          ],
          "x": {
           "field": "first",
           "type": "nominal"
          },
          "y": {
           "field": "second",
           "type": "nominal"
          }
         },
         "mark": {
          "align": "center",
          "baseline": "middle",
          "color": "black",
          "fontSize": 12,
          "lineBreak": ":::",
          "type": "text"
         }
        }
       ],
       "title": "Character bigram (probability weighted to a probability dist for the first Character)",
       "transform": [
        {
         "as": "cellLabel",
         "calculate": "datum.first + ', ' + datum.second + ':::' + datum.value"
        }
       ],
       "width": 1000
      }
     },
     "metadata": {},
     "output_type": "display_data"
    },
    {
     "data": {
      "text/plain": [
       "\u001b[36mcharsMap\u001b[39m: \u001b[32mMap\u001b[39m[\u001b[32mChar\u001b[39m, \u001b[32mInt\u001b[39m] = \u001b[33mHashMap\u001b[39m(\n",
       "  \u001b[32m'e'\u001b[39m -> \u001b[32m5\u001b[39m,\n",
       "  \u001b[32m'n'\u001b[39m -> \u001b[32m14\u001b[39m,\n",
       "  \u001b[32m'.'\u001b[39m -> \u001b[32m0\u001b[39m,\n",
       "  \u001b[32m't'\u001b[39m -> \u001b[32m20\u001b[39m,\n",
       "  \u001b[32m'a'\u001b[39m -> \u001b[32m1\u001b[39m,\n",
       "  \u001b[32m'm'\u001b[39m -> \u001b[32m13\u001b[39m,\n",
       "  \u001b[32m'i'\u001b[39m -> \u001b[32m9\u001b[39m,\n",
       "  \u001b[32m'v'\u001b[39m -> \u001b[32m22\u001b[39m,\n",
       "  \u001b[32m'p'\u001b[39m -> \u001b[32m16\u001b[39m,\n",
       "  \u001b[32m'r'\u001b[39m -> \u001b[32m18\u001b[39m,\n",
       "  \u001b[32m'w'\u001b[39m -> \u001b[32m23\u001b[39m,\n",
       "  \u001b[32m'k'\u001b[39m -> \u001b[32m11\u001b[39m,\n",
       "  \u001b[32m's'\u001b[39m -> \u001b[32m19\u001b[39m,\n",
       "  \u001b[32m'x'\u001b[39m -> \u001b[32m24\u001b[39m,\n",
       "  \u001b[32m'j'\u001b[39m -> \u001b[32m10\u001b[39m,\n",
       "  \u001b[32m'y'\u001b[39m -> \u001b[32m25\u001b[39m,\n",
       "  \u001b[32m'u'\u001b[39m -> \u001b[32m21\u001b[39m,\n",
       "  \u001b[32m'f'\u001b[39m -> \u001b[32m6\u001b[39m,\n",
       "  \u001b[32m'q'\u001b[39m -> \u001b[32m17\u001b[39m,\n",
       "  \u001b[32m'b'\u001b[39m -> \u001b[32m2\u001b[39m,\n",
       "  \u001b[32m'g'\u001b[39m -> \u001b[32m7\u001b[39m,\n",
       "  \u001b[32m'l'\u001b[39m -> \u001b[32m12\u001b[39m,\n",
       "  \u001b[32m'c'\u001b[39m -> \u001b[32m3\u001b[39m,\n",
       "  \u001b[32m'h'\u001b[39m -> \u001b[32m8\u001b[39m,\n",
       "  \u001b[32m'o'\u001b[39m -> \u001b[32m15\u001b[39m,\n",
       "  \u001b[32m'z'\u001b[39m -> \u001b[32m26\u001b[39m,\n",
       "  \u001b[32m'd'\u001b[39m -> \u001b[32m4\u001b[39m\n",
       ")\n",
       "\u001b[36mi2c\u001b[39m: \u001b[32mMap\u001b[39m[\u001b[32mInt\u001b[39m, \u001b[32mChar\u001b[39m] = \u001b[33mHashMap\u001b[39m(\n",
       "  \u001b[32m0\u001b[39m -> \u001b[32m'.'\u001b[39m,\n",
       "  \u001b[32m5\u001b[39m -> \u001b[32m'e'\u001b[39m,\n",
       "  \u001b[32m10\u001b[39m -> \u001b[32m'j'\u001b[39m,\n",
       "  \u001b[32m14\u001b[39m -> \u001b[32m'n'\u001b[39m,\n",
       "  \u001b[32m20\u001b[39m -> \u001b[32m't'\u001b[39m,\n",
       "  \u001b[32m1\u001b[39m -> \u001b[32m'a'\u001b[39m,\n",
       "  \u001b[32m6\u001b[39m -> \u001b[32m'f'\u001b[39m,\n",
       "  \u001b[32m21\u001b[39m -> \u001b[32m'u'\u001b[39m,\n",
       "  \u001b[32m9\u001b[39m -> \u001b[32m'i'\u001b[39m,\n",
       "  \u001b[32m13\u001b[39m -> \u001b[32m'm'\u001b[39m,\n",
       "  \u001b[32m2\u001b[39m -> \u001b[32m'b'\u001b[39m,\n",
       "  \u001b[32m17\u001b[39m -> \u001b[32m'q'\u001b[39m,\n",
       "  \u001b[32m22\u001b[39m -> \u001b[32m'v'\u001b[39m,\n",
       "  \u001b[32m12\u001b[39m -> \u001b[32m'l'\u001b[39m,\n",
       "  \u001b[32m7\u001b[39m -> \u001b[32m'g'\u001b[39m,\n",
       "  \u001b[32m3\u001b[39m -> \u001b[32m'c'\u001b[39m,\n",
       "  \u001b[32m18\u001b[39m -> \u001b[32m'r'\u001b[39m,\n",
       "  \u001b[32m16\u001b[39m -> \u001b[32m'p'\u001b[39m,\n",
       "  \u001b[32m11\u001b[39m -> \u001b[32m'k'\u001b[39m,\n",
       "  \u001b[32m8\u001b[39m -> \u001b[32m'h'\u001b[39m,\n",
       "  \u001b[32m19\u001b[39m -> \u001b[32m's'\u001b[39m,\n",
       "  \u001b[32m4\u001b[39m -> \u001b[32m'd'\u001b[39m,\n",
       "  \u001b[32m15\u001b[39m -> \u001b[32m'o'\u001b[39m,\n",
       "  \u001b[32m24\u001b[39m -> \u001b[32m'x'\u001b[39m,\n",
       "  \u001b[32m25\u001b[39m -> \u001b[32m'y'\u001b[39m,\n",
       "  \u001b[32m26\u001b[39m -> \u001b[32m'z'\u001b[39m,\n",
       "  \u001b[32m23\u001b[39m -> \u001b[32m'w'\u001b[39m\n",
       ")\n",
       "\u001b[36msmooth\u001b[39m: \u001b[32mBoolean\u001b[39m = \u001b[32mtrue\u001b[39m\n",
       "\u001b[36mmissing\u001b[39m: \u001b[32mSet\u001b[39m[\u001b[32mString\u001b[39m] = \u001b[33mHashSet\u001b[39m(\n",
       "  \u001b[32m\"qb\"\u001b[39m,\n",
       "  \u001b[32m\"bk\"\u001b[39m,\n",
       "  \u001b[32m\"qf\"\u001b[39m,\n",
       "  \u001b[32m\"jq\"\u001b[39m,\n",
       "  \u001b[32m\"cb\"\u001b[39m,\n",
       "  \u001b[32m\"kp\"\u001b[39m,\n",
       "  \u001b[32m\"qq\"\u001b[39m,\n",
       "  \u001b[32m\"xj\"\u001b[39m,\n",
       "  \u001b[32m\"gx\"\u001b[39m,\n",
       "  \u001b[32m\"zq\"\u001b[39m,\n",
       "  \u001b[32m\"vw\"\u001b[39m,\n",
       "  \u001b[32m\"bf\"\u001b[39m,\n",
       "  \u001b[32m\"wx\"\u001b[39m,\n",
       "  \u001b[32m\"fq\"\u001b[39m,\n",
       "  \u001b[32m\"fv\"\u001b[39m,\n",
       "  \u001b[32m\"tp\"\u001b[39m,\n",
       "  \u001b[32m\"qc\"\u001b[39m,\n",
       "  \u001b[32m\"fj\"\u001b[39m,\n",
       "  \u001b[32m\"wc\"\u001b[39m,\n",
       "  \u001b[32m\"qv\"\u001b[39m,\n",
       "  \u001b[32m\"gk\"\u001b[39m,\n",
       "  \u001b[32m\"vq\"\u001b[39m,\n",
       "  \u001b[32m\"jg\"\u001b[39m,\n",
       "  \u001b[32m\"sx\"\u001b[39m,\n",
       "  \u001b[32m\"bw\"\u001b[39m,\n",
       "  \u001b[32m\"qg\"\u001b[39m,\n",
       "  \u001b[32m\"mq\"\u001b[39m,\n",
       "  \u001b[32m\"jx\"\u001b[39m,\n",
       "  \u001b[32m\"bq\"\u001b[39m,\n",
       "  \u001b[32m\"pw\"\u001b[39m,\n",
       "  \u001b[32m\"vm\"\u001b[39m,\n",
       "  \u001b[32m\"wj\"\u001b[39m,\n",
       "  \u001b[32m\"fc\"\u001b[39m,\n",
       "  \u001b[32m\"xk\"\u001b[39m,\n",
       "  \u001b[32m\"qd\"\u001b[39m,\n",
       "  \u001b[32m\"qk\"\u001b[39m,\n",
       "  \u001b[32m\"zf\"\u001b[39m,\n",
       "  \u001b[32m\"vx\"\u001b[39m,\n",
       "...\n",
       "\u001b[36mnormalised\u001b[39m: \u001b[32mMap\u001b[39m[\u001b[32mChar\u001b[39m, \u001b[32mEnumeratedIntegerDistribution\u001b[39m] = \u001b[33mHashMap\u001b[39m(\n",
       "  \u001b[32m'e'\u001b[39m -> org.apache.commons.math3.distribution.EnumeratedIntegerDistribution@4fdc7e6b,\n",
       "  \u001b[32m'n'\u001b[39m -> org.apache.commons.math3.distribution.EnumeratedIntegerDistribution@55f7ee63,\n",
       "  \u001b[32m'.'\u001b[39m -> org.apache.commons.math3.distribution.EnumeratedIntegerDistribution@7974fd90,\n",
       "  \u001b[32m't'\u001b[39m -> org.apache.commons.math3.distribution.EnumeratedIntegerDistribution@2c9e1bd4,\n",
       "  \u001b[32m'a'\u001b[39m -> org.apache.commons.math3.distribution.EnumeratedIntegerDistribution@678a9a7b,\n",
       "  \u001b[32m'm'\u001b[39m -> org.apache.commons.math3.distribution.EnumeratedIntegerDistribution@d64e41f,\n",
       "  \u001b[32m'i'\u001b[39m -> org.apache.commons.math3.distribution.EnumeratedIntegerDistribution@5322005e,\n",
       "  \u001b[32m'v'\u001b[39m -> org.apache.commons.math3.distribution.EnumeratedIntegerDistribution@fbee155,\n",
       "  \u001b[32m'p'\u001b[39m -> org.apache.commons.math3.distribution.EnumeratedIntegerDistribution@3cd4fb9b,\n",
       "  \u001b[32m'r'\u001b[39m -> org.apache.commons.math3.distribution.EnumeratedIntegerDistribution@16baa402,\n",
       "  \u001b[32m'w'\u001b[39m -> org.apache.commons.math3.distribution.EnumeratedIntegerDistribution@5559767b,\n",
       "  \u001b[32m'k'\u001b[39m -> org.apache.commons.math3.distribution.EnumeratedIntegerDistribution@2d1591cc,\n",
       "  \u001b[32m's'\u001b[39m -> org.apache.commons.math3.distribution.EnumeratedIntegerDistribution@3686bfd6,\n",
       "  \u001b[32m'x'\u001b[39m -> org.apache.commons.math3.distribution.EnumeratedIntegerDistribution@75df87b0,\n",
       "  \u001b[32m'j'\u001b[39m -> org.apache.commons.math3.distribution.EnumeratedIntegerDistribution@6b2bcdde,\n",
       "  \u001b[32m'y'\u001b[39m -> org.apache.commons.math3.distribution.EnumeratedIntegerDistribution@6a31aa86,\n",
       "  \u001b[32m'u'\u001b[39m -> org.apache.commons.math3.distribution.EnumeratedIntegerDistribution@69cac019,\n",
       "  \u001b[32m'f'\u001b[39m -> org.apache.commons.math3.distribution.EnumeratedIntegerDistribution@60a12897,\n",
       "  \u001b[32m'q'\u001b[39m -> org.apache.commons.math3.distribution.EnumeratedIntegerDistribution@55d14c60,\n",
       "...\n",
       "\u001b[36mres13_16\u001b[39m: scala.Unit | os.Path = ()\n",
       "\u001b[36mres13_17\u001b[39m: scala.Unit | os.Path = ()"
      ]
     },
     "execution_count": 13,
     "metadata": {},
     "output_type": "execute_result"
    }
   ],
   "source": [
    "private val chars = '.' +: ('a' to 'z').toVector\n",
    "private val charsIndex = (0 to 26).toVector\n",
    "val charsMap = chars.zip(charsIndex).toMap\n",
    "val i2c = charsIndex.zip(chars).toMap\n",
    "\n",
    "val smooth = true\n",
    "private val combinations = for {\n",
    "  a <- chars\n",
    "  b <- chars\n",
    "} yield s\"$a$b\"\n",
    "\n",
    "private val data = CSV.pwd(\"names.txt\")\n",
    "\n",
    "private val bookended = LazyList.from(\n",
    "  data\n",
    "    .addColumn[\"Bookend\", String](s => s\".${s.name}.\")\n",
    "    .addColumn[\"Pairs\", Seq[String]](s => s.Bookend.sliding(2).toSeq)\n",
    ")\n",
    "bookended.take(5).ptbln\n",
    "\n",
    "private val pairSet: Map[String, Int] = bookended\n",
    "  .flatMap(_.Pairs)\n",
    "  .groupMapReduce(identity)(_ => 1)(_ + _)\n",
    "\n",
    "val missing: Set[String] = combinations.toSet.diff(pairSet.keys.toSet)\n",
    "\n",
    "println(\"missing combinations\")\n",
    "println(missing)\n",
    "\n",
    "private val completePairs: Seq[(String, Int)] = pairSet.toSeq ++ missing.map(char => (char, if(smooth) 1 else 0))\n",
    "\n",
    "private val grouped: Map[Char, Seq[(String, Int)]] = completePairs.groupBy(d => d._1.head)\n",
    "\n",
    "val normalised: Map[Char, EnumeratedIntegerDistribution] = grouped.view.mapValues { v =>\n",
    "  val sortedByChar = v.sortBy(_._1.last)\n",
    "  val col = sortedByChar.map(_._2.toDouble)\n",
    "  new EnumeratedIntegerDistribution(\n",
    "    charsIndex.toArray,\n",
    "    col.toArray\n",
    "  )\n",
    "}.toMap\n",
    "heatmap(completePairs.seq, \"Character bigram counts (not probability weighted)\")\n",
    "heatmap(normalised, charsMap, i2c, \"Character bigram (probability weighted to a probability dist for the first Character)\")"
   ]
  },
  {
   "cell_type": "code",
   "execution_count": null,
   "id": "a4faadf7",
   "metadata": {},
   "outputs": [
    {
     "name": "stdout",
     "output_type": "stream",
     "text": [
      "Moderately less rubbish name generator\n",
      "n\n",
      "alelon\n",
      "itariyorona\n",
      "amitrelin\n",
      "begin\n",
      "kyi\n",
      "|\u001b[32m \u001b[39m|\u001b[97m     word\u001b[39m|\u001b[31m    totalLikelihood\u001b[39m|\u001b[34m                  prob\u001b[39m|\u001b[35m      avg_prbability\u001b[39m|\n",
      "+-+---------+-------------------+----------------------+--------------------+\n",
      "|\u001b[32m0\u001b[39m|\u001b[97m    simon\u001b[39m|\u001b[31m-13.819601957026752\u001b[39m|\u001b[34m  9.959169593076386E-7\u001b[39m|\u001b[35m 0.09993183325971156\u001b[39m|\n",
      "|\u001b[32m1\u001b[39m|\u001b[97m   isolde\u001b[39m|\u001b[31m-19.574725646714104\u001b[39m|\u001b[34m  3.153585912319969E-9\u001b[39m|\u001b[35m 0.06103002162438039\u001b[39m|\n",
      "|\u001b[32m2\u001b[39m|\u001b[97m     arlo\u001b[39m|\u001b[31m -12.98095674729182\u001b[39m|\u001b[34m  2.303785894249425E-6\u001b[39m|\u001b[35m 0.07455699970232603\u001b[39m|\n",
      "|\u001b[32m3\u001b[39m|\u001b[97m     axel\u001b[39m|\u001b[31m-14.384574433386492\u001b[39m|\u001b[34m  5.660550888326395E-7\u001b[39m|\u001b[35m 0.05630821235696359\u001b[39m|\n",
      "|\u001b[32m4\u001b[39m|\u001b[97m      zzz\u001b[39m|\u001b[31m-14.201617633148048\u001b[39m|\u001b[34m  6.796977430230372E-7\u001b[39m|\u001b[35m 0.02871302552050607\u001b[39m|\n",
      "|\u001b[32m5\u001b[39m|\u001b[97mzzzzzzzzz\u001b[39m|\u001b[31m -38.06098679254235\u001b[39m|\u001b[34m2.9534080902564186E-17\u001b[39m|\u001b[35m0.022234754877491308\u001b[39m|\n",
      "|\u001b[32m6\u001b[39m|\u001b[97mchristoph\u001b[39m|\u001b[31m -24.03983877818535\u001b[39m|\u001b[34m 3.627694217823434E-11\u001b[39m|\u001b[35m 0.09035726299763763\u001b[39m|\n",
      "+-+---------+-------------------+----------------------+--------------------+\n"
     ]
    },
    {
     "data": {
      "text/plain": [
       "\u001b[36msomeNames\u001b[39m: \u001b[32mSeq\u001b[39m[\u001b[32mString\u001b[39m] = \u001b[33mList\u001b[39m(\n",
       "  \u001b[32m\"simon\"\u001b[39m,\n",
       "  \u001b[32m\"isolde\"\u001b[39m,\n",
       "  \u001b[32m\"arlo\"\u001b[39m,\n",
       "  \u001b[32m\"axel\"\u001b[39m,\n",
       "  \u001b[32m\"zzz\"\u001b[39m,\n",
       "  \u001b[32m\"zzzzzzzzz\"\u001b[39m,\n",
       "  \u001b[32m\"christoph\"\u001b[39m\n",
       ")"
      ]
     },
     "execution_count": 14,
     "metadata": {},
     "output_type": "execute_result"
    }
   ],
   "source": [
    "println(\"Moderately less rubbish name generator\")\n",
    "for (i <- 0 to 5) {\n",
    "  println(generator(normalised, i2c).mkString(\"\"))\n",
    "}\n",
    "\n",
    "val someNames = Seq(\"simon\", \"isolde\", \"arlo\", \"axel\", \"zzz\", \"zzzzzzzzz\", \"christoph\")\n",
    "\n",
    "checkWords(someNames, normalised, charsMap).ptbln"
   ]
  }
 ],
 "metadata": {
  "kernelspec": {
   "display_name": "Scala",
   "language": "scala",
   "name": "scala"
  },
  "language_info": {
   "codemirror_mode": "text/x-scala",
   "file_extension": ".sc",
   "mimetype": "text/x-scala",
   "name": "scala",
   "nbconvert_exporter": "script",
   "version": "2.13.16"
  }
 },
 "nbformat": 4,
 "nbformat_minor": 5
}
